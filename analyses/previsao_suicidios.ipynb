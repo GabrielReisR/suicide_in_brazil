{
 "cells": [
  {
   "cell_type": "markdown",
   "metadata": {},
   "source": [
    "## Predizendo número de suicídios a partir de variáveis econômicas"
   ]
  },
  {
   "cell_type": "markdown",
   "metadata": {},
   "source": [
    "Utilizando a extração de dados que realizamos [aqui](https://github.com/GabrielReisR/suicide_in_brazil/blob/main/data/getting_pysus_data_2010_2019.ipynb), vamos agora tentar predizer número de suicídios a partir de variáveis econômicas. As variáveis escolhidas foram:\n",
    "\n",
    "- Taxa de inflação (mensal)\n",
    "- Salário mínimo (mensal)\n",
    "- Massa salarial ampliada (mensal)\n",
    "- Estoque de empregos em saúde (mensal)\n",
    "- Dívida líquida do setor público em milhões (mensal)\n",
    "- Indicador de tendência de preços de imóveis (mensal)\n",
    "\n",
    "Taxa de inflação, salário mínimo e massa salarial ampliada estão relacionadas a indicadores econômicos importantes relacionadas à poder de compra e possibilidade de renda. Estoque de empregos em saúde pode estar relacionada à disponibilidade de serviços de saúde para a população. Dívida líquida do setor público é uma variável macroeconômica relacionada às dívidas da União. Enquanto isso, o indicador de tendência de preços de imóveis estão relacionadas ao aumento ou à diminuição dos valores de imóveis no Brasil - o que pode estar relacionado a boas condições de moradia.\n",
    "\n",
    "A variável desfecho é o número de mortes por suicídio no Brasil (mensal)."
   ]
  },
  {
   "cell_type": "markdown",
   "metadata": {},
   "source": [
    "### Inicializando"
   ]
  },
  {
   "cell_type": "code",
   "execution_count": 1,
   "metadata": {},
   "outputs": [],
   "source": [
    "# Standard libraries and plot modules\n",
    "import math\n",
    "import matplotlib\n",
    "import matplotlib.pyplot as plt\n",
    "import numpy as np\n",
    "import pandas as pd\n",
    "import random as random\n",
    "import seaborn as sns\n",
    "import warnings\n",
    "from sklearn.exceptions import DataConversionWarning\n",
    "%config Completer.use_jedi = False # this speeds up autocomplete"
   ]
  },
  {
   "cell_type": "code",
   "execution_count": 2,
   "metadata": {},
   "outputs": [],
   "source": [
    "# Preprocessing and data preparation\n",
    "from sklearn.preprocessing import StandardScaler\n",
    "scaler = StandardScaler()\n",
    "from sklearn.preprocessing import MinMaxScaler\n",
    "min_max = MinMaxScaler()\n",
    "from sklearn.model_selection import train_test_split\n",
    "\n",
    "# Algorithms\n",
    "## Linear models\n",
    "from sklearn.linear_model import ARDRegression\n",
    "from sklearn.linear_model import BayesianRidge\n",
    "from sklearn.linear_model import ElasticNetCV\n",
    "from sklearn.linear_model import HuberRegressor\n",
    "from sklearn.linear_model import LassoCV\n",
    "from sklearn.linear_model import LassoLars\n",
    "from sklearn.linear_model import LinearRegression\n",
    "from sklearn.linear_model import MultiTaskLasso\n",
    "from sklearn.linear_model import PassiveAggressiveRegressor\n",
    "from sklearn.linear_model import RANSACRegressor\n",
    "from sklearn.linear_model import Ridge\n",
    "from sklearn.linear_model import RidgeCV\n",
    "from sklearn.linear_model import SGDRegressor\n",
    "from sklearn.linear_model import TheilSenRegressor\n",
    "\n",
    "## Kernels\n",
    "from sklearn.kernel_ridge import KernelRidge\n",
    "\n",
    "## Support Vector Machines\n",
    "from sklearn.svm import LinearSVR\n",
    "from sklearn.svm import NuSVR\n",
    "from sklearn.svm import SVR\n",
    "\n",
    "## Nearest Neighbors\n",
    "from sklearn.neighbors import KNeighborsRegressor\n",
    "from sklearn.neighbors import RadiusNeighborsRegressor\n",
    "\n",
    "## Gaussian processes\n",
    "from sklearn.gaussian_process import GaussianProcessRegressor\n",
    "\n",
    "## Cross decomposition\n",
    "from sklearn.cross_decomposition import PLSRegression\n",
    "\n",
    "## Decision trees\n",
    "from sklearn.tree import DecisionTreeRegressor\n",
    "\n",
    "## Ensemble methods\n",
    "from sklearn.experimental import enable_hist_gradient_boosting\n",
    "from sklearn.ensemble import AdaBoostRegressor\n",
    "from sklearn.ensemble import BaggingRegressor\n",
    "from sklearn.ensemble import ExtraTreesRegressor\n",
    "from sklearn.ensemble import GradientBoostingRegressor\n",
    "from sklearn.ensemble import HistGradientBoostingRegressor\n",
    "from sklearn.ensemble import RandomForestRegressor\n",
    "\n",
    "## Isotonic regression\n",
    "from sklearn.isotonic import IsotonicRegression\n",
    "\n",
    "## Neural network\n",
    "from sklearn.neural_network import MLPRegressor\n",
    "\n",
    "# Cross-validation\n",
    "from sklearn.model_selection import GridSearchCV\n",
    "\n",
    "# Model evaluation\n",
    "from sklearn.metrics import mean_squared_error\n",
    "from sklearn.metrics import mean_absolute_error\n",
    "from sklearn.metrics import r2_score\n",
    "\n",
    "# Feature importance\n",
    "import eli5\n",
    "from eli5.sklearn import PermutationImportance"
   ]
  },
  {
   "cell_type": "code",
   "execution_count": 3,
   "metadata": {
    "scrolled": true
   },
   "outputs": [
    {
     "data": {
      "text/html": [
       "<details>\n",
       "<summary>Click to view session information</summary>\n",
       "<pre>\n",
       "-----\n",
       "eli5                0.11.0\n",
       "matplotlib          3.3.3\n",
       "numpy               1.19.5\n",
       "pandas              1.2.1\n",
       "seaborn             0.11.1\n",
       "session_info        1.0.0\n",
       "sklearn             0.24.1\n",
       "-----\n",
       "IPython             7.19.0\n",
       "jupyter_client      6.1.11\n",
       "jupyter_core        4.7.0\n",
       "notebook            6.2.0\n",
       "-----\n",
       "Python 3.9.1 (tags/v3.9.1:1e5d33e, Dec  7 2020, 17:08:21) [MSC v.1927 64 bit (AMD64)]\n",
       "Windows-10-10.0.19041-SP0\n",
       "-----\n",
       "Session information updated at 2021-10-26 03:07\n",
       "</pre>\n",
       "</details>"
      ],
      "text/plain": [
       "<IPython.core.display.HTML object>"
      ]
     },
     "execution_count": 3,
     "metadata": {},
     "output_type": "execute_result"
    }
   ],
   "source": [
    "import session_info\n",
    "session_info.show(dependencies = False)"
   ]
  },
  {
   "cell_type": "markdown",
   "metadata": {},
   "source": [
    "#### Session Information\n",
    "- eli5                0.11.0\n",
    "- matplotlib          3.3.3\n",
    "- numpy               1.19.5\n",
    "- pandas              1.2.1\n",
    "- seaborn             0.11.1\n",
    "- session_info        1.0.0\n",
    "- sklearn             0.24.1\n",
    "- IPython             7.19.0\n",
    "- jupyter_client      6.1.11\n",
    "- jupyter_core        4.7.0\n",
    "- notebook            6.2.0\n",
    "- Python 3.9.1 (tags/v3.9.1:1e5d33e, Dec  7 2020, 17:08:21) [MSC v.1927 64 bit (AMD64)]\n",
    "- Windows-10-10.0.19041-SP0\n",
    "- Session information updated at 2021-10-26 01:54"
   ]
  },
  {
   "cell_type": "markdown",
   "metadata": {},
   "source": [
    "### Lendo o banco de dados"
   ]
  },
  {
   "cell_type": "code",
   "execution_count": 4,
   "metadata": {},
   "outputs": [
    {
     "name": "stdout",
     "output_type": "stream",
     "text": [
      "              n\n",
      "index          \n",
      "2010-01-01  851\n",
      "2010-02-01  726\n",
      "2010-03-01  803\n",
      "2010-04-01  757\n",
      "2010-05-01  810\n",
      "               n\n",
      "index           \n",
      "2019-08-01  1107\n",
      "2019-09-01  1176\n",
      "2019-10-01  1136\n",
      "2019-11-01  1152\n",
      "2019-12-01  1189\n"
     ]
    }
   ],
   "source": [
    "df = pd.read_csv('../data/monthly_total.csv', index_col = 0)\n",
    "df = df.set_index('index') # organizando index\n",
    "print(df.head())\n",
    "print(df.tail())"
   ]
  },
  {
   "cell_type": "markdown",
   "metadata": {},
   "source": [
    "### Baixando dados socioeconômicos (de 2010-01-01 até 2019-12-01)"
   ]
  },
  {
   "cell_type": "code",
   "execution_count": 5,
   "metadata": {},
   "outputs": [],
   "source": [
    "'''\n",
    "Code from: https://www.youtube.com/watch?v=7rFsu48oBn8&list=PLCAhGm8nJ9CBn51o0x3j1p1LuMRqpeqCy\n",
    "I added the arguments 'data_inicio' and 'data_final' to help filtering the data.\n",
    "''' \n",
    "\n",
    "# Creating scraping code\n",
    "def consulta_bc(codigo_bcb, data_inicio = '2010-01-01', data_final = '2019-12-31'):\n",
    "  url = 'http://api.bcb.gov.br/dados/serie/bcdata.sgs.{}/dados?formato=json'.format(codigo_bcb)\n",
    "  df = pd.read_json(url)\n",
    "  df['data'] = pd.to_datetime(df['data'], dayfirst=True)\n",
    "  df.set_index('data', inplace=True)\n",
    "  df.index.rename('index', inplace=True)\n",
    "  df = df[df.index >= data_inicio]\n",
    "  return df[df.index < data_final]"
   ]
  },
  {
   "cell_type": "code",
   "execution_count": 6,
   "metadata": {},
   "outputs": [],
   "source": [
    "# Inflação\n",
    "ipca = consulta_bc(433)"
   ]
  },
  {
   "cell_type": "code",
   "execution_count": 7,
   "metadata": {},
   "outputs": [],
   "source": [
    "# Salário mínimo\n",
    "salario_minimo = consulta_bc(1619)"
   ]
  },
  {
   "cell_type": "code",
   "execution_count": 8,
   "metadata": {},
   "outputs": [],
   "source": [
    "# Massa salarial ampliada\n",
    "msa = consulta_bc(22078)"
   ]
  },
  {
   "cell_type": "code",
   "execution_count": 9,
   "metadata": {},
   "outputs": [],
   "source": [
    "# Estoque de empregos em saúde\n",
    "estoque_empregos_saude = consulta_bc(28782)"
   ]
  },
  {
   "cell_type": "code",
   "execution_count": 10,
   "metadata": {},
   "outputs": [],
   "source": [
    "# Dívida líquida do setor público em milhões\n",
    "divida_liquida = consulta_bc(4468)"
   ]
  },
  {
   "cell_type": "code",
   "execution_count": 11,
   "metadata": {},
   "outputs": [],
   "source": [
    "# Indicador de tendência de preços de imóveis\n",
    "mvg_r = consulta_bc(25419)"
   ]
  },
  {
   "cell_type": "markdown",
   "metadata": {},
   "source": [
    "### Juntando os dados"
   ]
  },
  {
   "cell_type": "code",
   "execution_count": 12,
   "metadata": {},
   "outputs": [
    {
     "data": {
      "text/html": [
       "<div>\n",
       "<style scoped>\n",
       "    .dataframe tbody tr th:only-of-type {\n",
       "        vertical-align: middle;\n",
       "    }\n",
       "\n",
       "    .dataframe tbody tr th {\n",
       "        vertical-align: top;\n",
       "    }\n",
       "\n",
       "    .dataframe thead th {\n",
       "        text-align: right;\n",
       "    }\n",
       "</style>\n",
       "<table border=\"1\" class=\"dataframe\">\n",
       "  <thead>\n",
       "    <tr style=\"text-align: right;\">\n",
       "      <th></th>\n",
       "      <th>n</th>\n",
       "      <th>ipca</th>\n",
       "      <th>salario_minimo</th>\n",
       "      <th>msa</th>\n",
       "      <th>estoque_empregos_saude</th>\n",
       "      <th>divida_liquida</th>\n",
       "      <th>mvg_r</th>\n",
       "    </tr>\n",
       "    <tr>\n",
       "      <th>index</th>\n",
       "      <th></th>\n",
       "      <th></th>\n",
       "      <th></th>\n",
       "      <th></th>\n",
       "      <th></th>\n",
       "      <th></th>\n",
       "      <th></th>\n",
       "    </tr>\n",
       "  </thead>\n",
       "  <tbody>\n",
       "    <tr>\n",
       "      <th>2010-01-01</th>\n",
       "      <td>851</td>\n",
       "      <td>0.75</td>\n",
       "      <td>510.0</td>\n",
       "      <td>135781.9</td>\n",
       "      <td>1535194</td>\n",
       "      <td>903896.84</td>\n",
       "      <td>84000</td>\n",
       "    </tr>\n",
       "    <tr>\n",
       "      <th>2010-02-01</th>\n",
       "      <td>726</td>\n",
       "      <td>0.78</td>\n",
       "      <td>510.0</td>\n",
       "      <td>135612.4</td>\n",
       "      <td>1542691</td>\n",
       "      <td>926827.67</td>\n",
       "      <td>85000</td>\n",
       "    </tr>\n",
       "    <tr>\n",
       "      <th>2010-03-01</th>\n",
       "      <td>803</td>\n",
       "      <td>0.52</td>\n",
       "      <td>510.0</td>\n",
       "      <td>132378.3</td>\n",
       "      <td>1550046</td>\n",
       "      <td>948069.64</td>\n",
       "      <td>87012</td>\n",
       "    </tr>\n",
       "    <tr>\n",
       "      <th>2010-04-01</th>\n",
       "      <td>757</td>\n",
       "      <td>0.57</td>\n",
       "      <td>510.0</td>\n",
       "      <td>134216.8</td>\n",
       "      <td>1562634</td>\n",
       "      <td>951442.44</td>\n",
       "      <td>88000</td>\n",
       "    </tr>\n",
       "    <tr>\n",
       "      <th>2010-05-01</th>\n",
       "      <td>810</td>\n",
       "      <td>0.43</td>\n",
       "      <td>510.0</td>\n",
       "      <td>135625.4</td>\n",
       "      <td>1573338</td>\n",
       "      <td>948538.76</td>\n",
       "      <td>89070</td>\n",
       "    </tr>\n",
       "    <tr>\n",
       "      <th>...</th>\n",
       "      <td>...</td>\n",
       "      <td>...</td>\n",
       "      <td>...</td>\n",
       "      <td>...</td>\n",
       "      <td>...</td>\n",
       "      <td>...</td>\n",
       "      <td>...</td>\n",
       "    </tr>\n",
       "    <tr>\n",
       "      <th>2019-08-01</th>\n",
       "      <td>1107</td>\n",
       "      <td>0.11</td>\n",
       "      <td>998.0</td>\n",
       "      <td>298605.9</td>\n",
       "      <td>2341763</td>\n",
       "      <td>2903771.35</td>\n",
       "      <td>183500</td>\n",
       "    </tr>\n",
       "    <tr>\n",
       "      <th>2019-09-01</th>\n",
       "      <td>1176</td>\n",
       "      <td>-0.04</td>\n",
       "      <td>998.0</td>\n",
       "      <td>306757.0</td>\n",
       "      <td>2349761</td>\n",
       "      <td>2944328.62</td>\n",
       "      <td>185000</td>\n",
       "    </tr>\n",
       "    <tr>\n",
       "      <th>2019-10-01</th>\n",
       "      <td>1136</td>\n",
       "      <td>0.10</td>\n",
       "      <td>998.0</td>\n",
       "      <td>306844.3</td>\n",
       "      <td>2354741</td>\n",
       "      <td>3003316.76</td>\n",
       "      <td>180000</td>\n",
       "    </tr>\n",
       "    <tr>\n",
       "      <th>2019-11-01</th>\n",
       "      <td>1152</td>\n",
       "      <td>0.51</td>\n",
       "      <td>998.0</td>\n",
       "      <td>315874.1</td>\n",
       "      <td>2359294</td>\n",
       "      <td>2984296.59</td>\n",
       "      <td>170000</td>\n",
       "    </tr>\n",
       "    <tr>\n",
       "      <th>2019-12-01</th>\n",
       "      <td>1189</td>\n",
       "      <td>1.15</td>\n",
       "      <td>998.0</td>\n",
       "      <td>339874.4</td>\n",
       "      <td>2354117</td>\n",
       "      <td>3078019.06</td>\n",
       "      <td>170000</td>\n",
       "    </tr>\n",
       "  </tbody>\n",
       "</table>\n",
       "<p>120 rows × 7 columns</p>\n",
       "</div>"
      ],
      "text/plain": [
       "               n  ipca  salario_minimo       msa  estoque_empregos_saude  \\\n",
       "index                                                                      \n",
       "2010-01-01   851  0.75           510.0  135781.9                 1535194   \n",
       "2010-02-01   726  0.78           510.0  135612.4                 1542691   \n",
       "2010-03-01   803  0.52           510.0  132378.3                 1550046   \n",
       "2010-04-01   757  0.57           510.0  134216.8                 1562634   \n",
       "2010-05-01   810  0.43           510.0  135625.4                 1573338   \n",
       "...          ...   ...             ...       ...                     ...   \n",
       "2019-08-01  1107  0.11           998.0  298605.9                 2341763   \n",
       "2019-09-01  1176 -0.04           998.0  306757.0                 2349761   \n",
       "2019-10-01  1136  0.10           998.0  306844.3                 2354741   \n",
       "2019-11-01  1152  0.51           998.0  315874.1                 2359294   \n",
       "2019-12-01  1189  1.15           998.0  339874.4                 2354117   \n",
       "\n",
       "            divida_liquida   mvg_r  \n",
       "index                               \n",
       "2010-01-01       903896.84   84000  \n",
       "2010-02-01       926827.67   85000  \n",
       "2010-03-01       948069.64   87012  \n",
       "2010-04-01       951442.44   88000  \n",
       "2010-05-01       948538.76   89070  \n",
       "...                    ...     ...  \n",
       "2019-08-01      2903771.35  183500  \n",
       "2019-09-01      2944328.62  185000  \n",
       "2019-10-01      3003316.76  180000  \n",
       "2019-11-01      2984296.59  170000  \n",
       "2019-12-01      3078019.06  170000  \n",
       "\n",
       "[120 rows x 7 columns]"
      ]
     },
     "execution_count": 12,
     "metadata": {},
     "output_type": "execute_result"
    }
   ],
   "source": [
    "df['ipca'] = ipca['valor'].to_list()\n",
    "df['salario_minimo'] = salario_minimo['valor'].to_list()\n",
    "df['msa'] = msa['valor'].to_list()\n",
    "df['estoque_empregos_saude'] = estoque_empregos_saude['valor'].to_list()\n",
    "df['divida_liquida'] = divida_liquida['valor'].to_list()\n",
    "df['mvg_r'] = mvg_r['valor'].to_list()\n",
    "df"
   ]
  },
  {
   "cell_type": "markdown",
   "metadata": {},
   "source": [
    "### Explorações iniciais da distribuição"
   ]
  },
  {
   "cell_type": "markdown",
   "metadata": {},
   "source": [
    "#### Número de suicídio ao longo dos anos"
   ]
  },
  {
   "cell_type": "code",
   "execution_count": 35,
   "metadata": {},
   "outputs": [
    {
     "data": {
      "text/plain": [
       "<AxesSubplot:xlabel='index'>"
      ]
     },
     "execution_count": 35,
     "metadata": {},
     "output_type": "execute_result"
    },
    {
     "data": {
      "image/png": "[encoded data removed]",
      "text/plain": [
       "<Figure size 1440x720 with 1 Axes>"
      ]
     },
     "metadata": {
      "needs_background": "light"
     },
     "output_type": "display_data"
    }
   ],
   "source": [
    "df['n'].plot(figsize = (20, 10))"
   ]
  },
  {
   "cell_type": "markdown",
   "metadata": {},
   "source": [
    "O número de suicídios ao longo dos anos vem aumentando, constituindo um grave problema de saúde pública. Para análises mais detalhadas:\n",
    "\n",
    "- [Análise exploratórias detalhadas](https://rpubs.com/reisrgabriel/suicides_in_brazil)\n",
    "- [Post no Medium](https://medium.com/psicodata/suicidios-no-brasil-de-2010-a-2019-9469655b1269?source=friends_link&sk=307564dff2ca9a053ce31097841e520d)\n",
    "- [Publicação com R no Kaggle](https://www.kaggle.com/psicodata/visualiza-es-iniciais)"
   ]
  },
  {
   "cell_type": "markdown",
   "metadata": {},
   "source": [
    "#### Histogramas iniciais"
   ]
  },
  {
   "cell_type": "code",
   "execution_count": 13,
   "metadata": {},
   "outputs": [
    {
     "data": {
      "text/plain": [
       "array([[<AxesSubplot:title={'center':'n'}>,\n",
       "        <AxesSubplot:title={'center':'ipca'}>,\n",
       "        <AxesSubplot:title={'center':'salario_minimo'}>],\n",
       "       [<AxesSubplot:title={'center':'msa'}>,\n",
       "        <AxesSubplot:title={'center':'estoque_empregos_saude'}>,\n",
       "        <AxesSubplot:title={'center':'divida_liquida'}>],\n",
       "       [<AxesSubplot:title={'center':'mvg_r'}>, <AxesSubplot:>,\n",
       "        <AxesSubplot:>]], dtype=object)"
      ]
     },
     "execution_count": 13,
     "metadata": {},
     "output_type": "execute_result"
    },
    {
     "data": {
      "image/png": "[encoded data removed]",
      "text/plain": [
       "<Figure size 1080x720 with 9 Axes>"
      ]
     },
     "metadata": {
      "needs_background": "light"
     },
     "output_type": "display_data"
    }
   ],
   "source": [
    "df.hist(bins=30, figsize=(15,10))"
   ]
  },
  {
   "cell_type": "markdown",
   "metadata": {},
   "source": [
    "Percebe-se grande flutuação envolvendo todas as variáveis, além de falta de normalidade em todas elas. Valores constantes de *salario_minimo* podem comprometer o desempenho da análise adiante."
   ]
  },
  {
   "cell_type": "markdown",
   "metadata": {},
   "source": [
    "#### Mudança percentual ao longo do tempo"
   ]
  },
  {
   "cell_type": "code",
   "execution_count": 14,
   "metadata": {},
   "outputs": [
    {
     "data": {
      "text/plain": [
       "<AxesSubplot:xlabel='index'>"
      ]
     },
     "execution_count": 14,
     "metadata": {},
     "output_type": "execute_result"
    },
    {
     "data": {
      "image/png": "[encoded data removed]",
      "text/plain": [
       "<Figure size 1440x720 with 1 Axes>"
      ]
     },
     "metadata": {
      "needs_background": "light"
     },
     "output_type": "display_data"
    }
   ],
   "source": [
    "df.pct_change().plot(figsize = (20, 10))"
   ]
  },
  {
   "cell_type": "markdown",
   "metadata": {},
   "source": [
    "Massa salarial ampliada (*msa*) foi nossa variável com maior variação durante esse tempo. Vamos agora investigar associações lineares entre as variáveis."
   ]
  },
  {
   "cell_type": "markdown",
   "metadata": {},
   "source": [
    "### Explorando associação dos dados"
   ]
  },
  {
   "cell_type": "code",
   "execution_count": 15,
   "metadata": {},
   "outputs": [
    {
     "data": {
      "text/plain": [
       "<AxesSubplot:>"
      ]
     },
     "execution_count": 15,
     "metadata": {},
     "output_type": "execute_result"
    },
    {
     "data": {
      "image/png": "[encoded data removed]",
      "text/plain": [
       "<Figure size 864x432 with 2 Axes>"
      ]
     },
     "metadata": {
      "needs_background": "light"
     },
     "output_type": "display_data"
    }
   ],
   "source": [
    "matplotlib.rcParams['figure.figsize'] = (12, 6)\n",
    "\n",
    "# Creating correlation\n",
    "corr = df.pct_change().corr('spearman')\n",
    "\n",
    "# With values\n",
    "sns.heatmap(corr, \n",
    "            vmin = -1, vmax = 1,\n",
    "            xticklabels = corr.columns.values,\n",
    "            yticklabels = corr.columns.values,\n",
    "            cmap = \"PiYG\",\n",
    "            annot = True # this argument must be 'False'\n",
    "           )"
   ]
  },
  {
   "cell_type": "markdown",
   "metadata": {},
   "source": [
    "Número de mortes por suicídio (*n*) parece estar linearmente associada a inflação (relação positiva e fraca) e à estoque de empregos na área da saúde (relação negativa e fraca). Mais adiante, vamos entender quais variáveis foram mais poderosas na predição do número de suicídios."
   ]
  },
  {
   "cell_type": "markdown",
   "metadata": {},
   "source": [
    "### Preparando função para ML"
   ]
  },
  {
   "cell_type": "markdown",
   "metadata": {},
   "source": [
    "Agora vamos criar uma função para comparar diversos modelos de regressão. Essa função vai utilizar todos os algoritmos presentes no [scikit-learn](https://scikit-learn.org/). A função `run_ml()` vai criar 10 diferentes bancos de dados que serão analisados pelos algoritmos escolhidos do scikit-learn.\n",
    "\n",
    "**Objetivo de `run_ml()`**\n",
    "\n",
    "1. Comparação de diversos modelos de machine learning ao mesmo tempo. Se um modelo for muito bom, podemos seguir as análises com ele e ir mais a fundo nos seus parâmetros.\n",
    "2. Criar diferentes modelos diferentes vezes (10 vezes) para que tenhamos a média de acerto de um modelo (sem um possível erro de comparação).\n",
    "3. Ter uma base de erro mínimo a ser batida para um modelo simples de deep learning, também usando scikit-learn.\n",
    "\n",
    "**Etapas de `run_ml()`**\n",
    "\n",
    "1. Inicialização de um for loop.\n",
    "2. O algoritmo recebe os bancos X (todos features) e Y (valores da variável desfecho) e divide os valores desses bancos de dados em outros 4: X_train, X_test, Y_train e Y_test.\n",
    "3. Os algoritmos treinam com X_train e Y_train. Os valores de erro são armazenados em um banco de dados inicializados anteriormente à função `run_ml()`.\n",
    "4. Os algoritmos testam suas predições com X_test e Y_test. Os valores de erro são armazenados em um banco de dados inicializados anteriormente à função `run_ml()`.\n",
    "5. Retornamos ao início do for loop. As etapas 2 a 4 se repetirão 100 vezes (ou quantas desejarmos, definindo-se isso pelo argumento *k*).\n",
    "\n",
    "Ao final, teremos *k* resultados diferentes dos modelos. Para comparar os modelos, faremos a média de erro que cada modelo conseguiu ter. Se quisermos resultados mais estáveis, devemos aumentar o número de repetições que teremos no nosso código. Além disso, para garantir a reprodutibilidade, as bases de dados são criadas usando o *random_state* do número atual da repetição do *for_loop*. Ou seja, a base 1 será sempre a base 1, a base 2 será sempre a base 2, e assim por diante."
   ]
  },
  {
   "cell_type": "code",
   "execution_count": 16,
   "metadata": {},
   "outputs": [],
   "source": [
    "MLA = [\n",
    "    \n",
    "    # Linear models\n",
    "    ARDRegression(),\n",
    "    BayesianRidge(),\n",
    "    ElasticNetCV(),\n",
    "    HuberRegressor(),\n",
    "    LassoCV(),\n",
    "    LassoLars(alpha =.1),\n",
    "    LinearRegression(),\n",
    "    MultiTaskLasso(alpha =.1),\n",
    "    PassiveAggressiveRegressor(),\n",
    "    Ridge(alpha =.5),\n",
    "    RidgeCV(),\n",
    "    SGDRegressor(),\n",
    "    TheilSenRegressor(),\n",
    "    RANSACRegressor(min_samples=1),\n",
    "\n",
    "    # Kernels\n",
    "    KernelRidge(),\n",
    "    \n",
    "    # Support Vector Machines\n",
    "    LinearSVR(),\n",
    "    NuSVR(),\n",
    "    SVR(),\n",
    "    \n",
    "    # Nearest Neighbors\n",
    "    KNeighborsRegressor(),\n",
    "    \n",
    "    # Gaussian processes\n",
    "    GaussianProcessRegressor(),\n",
    "    \n",
    "    # Cross decomposition\n",
    "    PLSRegression(n_components=5),\n",
    "    \n",
    "    # Decision trees\n",
    "    DecisionTreeRegressor(),\n",
    "    \n",
    "    # Ensemble methods\n",
    "    AdaBoostRegressor(),\n",
    "    BaggingRegressor(),\n",
    "    ExtraTreesRegressor(),\n",
    "    GradientBoostingRegressor(),\n",
    "    HistGradientBoostingRegressor(),\n",
    "    RandomForestRegressor()\n",
    "]"
   ]
  },
  {
   "cell_type": "code",
   "execution_count": 25,
   "metadata": {},
   "outputs": [],
   "source": [
    "# Preparing hyperparameters\n",
    "#MLA_columns = []\n",
    "#MLA_compare = pd.DataFrame(columns = MLA_columns)\n",
    "\n",
    "'''\n",
    "This code was initially built by Dalton Costa (https://www.linkedin.com/in/dalton-breno-costa-33303313a/)\n",
    "It was initially built to compare several classification algorithms\n",
    "Gabriel Rodrigues (https://reisrgabriel.com) has made several changes to the \n",
    "original code, altering the aim from classification to regression.\n",
    "However, the structure remains the same as it was originally conceived by Dalton.\n",
    "'''\n",
    "\n",
    "def run_ml(k = 100):\n",
    "    # Getting rid of warnings\n",
    "    pd.options.mode.chained_assignment = None # remove warning message\n",
    "    warnings.filterwarnings(action = 'ignore', category = DataConversionWarning)\n",
    "\n",
    "    # Start of function:\n",
    "    print(\"Running...\")\n",
    "    MLA_columns = []\n",
    "    MLA_compare = pd.DataFrame(columns = MLA_columns)\n",
    "\n",
    "    row_index = 0\n",
    "\n",
    "    for _ in range(k): # Code will run 10 times, creating 10 different datasets\n",
    "\n",
    "        for alg in MLA:\n",
    "            \n",
    "            # Create a X and Y train/test datasets\n",
    "            X_train, X_test, y_train, y_test = train_test_split(X, y,\n",
    "                                                                test_size = 0.20,\n",
    "                                                                random_state = _)\n",
    "            \n",
    "            # Normalize features in X_train and X_test\n",
    "            X_train[X_train.columns] = scaler.fit_transform(X_train[X_train.columns])\n",
    "            X_test[X_test.columns] = scaler.fit_transform(X_test[X_test.columns])\n",
    "\n",
    "            # Run algorithms in MLA list\n",
    "            train = alg.fit(X_train, y_train)\n",
    "            predicted = train.predict(X_test)\n",
    "\n",
    "            # Organizing pd.DataFrame 'MLA_compare'\n",
    "            MLA_name = alg.__class__.__name__\n",
    "\n",
    "            MLA_compare.loc[row_index,\n",
    "                            'MLA Name'] = MLA_name\n",
    "\n",
    "            # Training metrics\n",
    "            MLA_compare.loc[row_index,\n",
    "                            'Mean Train Score'] = round(alg.score(X_train, y_train), 4)\n",
    "\n",
    "            MLA_compare.loc[row_index,\n",
    "                            'Train MSE'] = round(mean_squared_error(y_train, train.predict(X_train)), 4)\n",
    "            \n",
    "            MLA_compare.loc[row_index,\n",
    "                            'Train R Squared'] = round(r2_score(y_train, train.predict(X_train)), 4)\n",
    "\n",
    "            MLA_compare.loc[row_index,\n",
    "                            'Train MAE'] = round(mean_absolute_error(y_train, train.predict(X_train)), 4)\n",
    "            \n",
    "            # Test metrics\n",
    "            MLA_compare.loc[row_index,\n",
    "                            'Mean Test Score'] = round(alg.score(X_test, y_test), 4)\n",
    "\n",
    "            MLA_compare.loc[row_index,\n",
    "                            'Test MSE'] = round(mean_squared_error(y_test, train.predict(X_test)), 4)\n",
    "            \n",
    "            MLA_compare.loc[row_index,\n",
    "                            'Test R Squared'] = round(r2_score(y_test, train.predict(X_test)), 4)\n",
    "\n",
    "            MLA_compare.loc[row_index,\n",
    "                            'Test MAE'] = round(mean_absolute_error(y_test, train.predict(X_test)), 4)\n",
    "\n",
    "            \n",
    "            #print(row_index)\n",
    "            #print(MLA_compare['MLA Name'])\n",
    "\n",
    "            # Training\n",
    "            #print(MLA_compare['Mean Train Score'])\n",
    "            #print(MLA_compare['Train MSE'])\n",
    "            #print(MLA_compare['Train R Squared'])\n",
    "            #print(MLA_compare['Train MAE'])\n",
    "\n",
    "            # Test\n",
    "            #print(MLA_compare['Mean Test Score'])\n",
    "            #print(MLA_compare['Test MSE'])\n",
    "            #print(MLA_compare['Test R Squared'])\n",
    "            #print(MLA_compare['Test MAE'])\n",
    "\n",
    "            row_index+=1\n",
    "    \n",
    "    print(\"Finished!\")\n",
    "    \n",
    "    mean = MLA_compare.groupby(['MLA Name']).mean()\n",
    "    mean = mean.sort_values(by = ['Test MAE'], ascending = True)\n",
    "    \n",
    "    return(mean)"
   ]
  },
  {
   "cell_type": "markdown",
   "metadata": {},
   "source": [
    "### Criação do banco de dados X e Y"
   ]
  },
  {
   "cell_type": "code",
   "execution_count": 18,
   "metadata": {},
   "outputs": [],
   "source": [
    "# Selecting X features and dependent variable Y\n",
    "X = df.drop(columns = 'n')\n",
    "y = df[['n']]"
   ]
  },
  {
   "cell_type": "markdown",
   "metadata": {},
   "source": [
    "### Rodando `run_ml()`"
   ]
  },
  {
   "cell_type": "markdown",
   "metadata": {},
   "source": [
    "**Importante**: como a função tem o intuito de fornecer valores de treino e teste randômicos aos algoritmos, a cada rodada novos valores de erro serão alcançados. Isso é comum e faz parte do código. Por ter 100 repetições, o código pode demorar um pouco para rodar."
   ]
  },
  {
   "cell_type": "code",
   "execution_count": 26,
   "metadata": {},
   "outputs": [
    {
     "name": "stdout",
     "output_type": "stream",
     "text": [
      "Running...\n",
      "Finished!\n"
     ]
    },
    {
     "data": {
      "text/html": [
       "<div>\n",
       "<style scoped>\n",
       "    .dataframe tbody tr th:only-of-type {\n",
       "        vertical-align: middle;\n",
       "    }\n",
       "\n",
       "    .dataframe tbody tr th {\n",
       "        vertical-align: top;\n",
       "    }\n",
       "\n",
       "    .dataframe thead th {\n",
       "        text-align: right;\n",
       "    }\n",
       "</style>\n",
       "<table border=\"1\" class=\"dataframe\">\n",
       "  <thead>\n",
       "    <tr style=\"text-align: right;\">\n",
       "      <th></th>\n",
       "      <th>Mean Train Score</th>\n",
       "      <th>Train MSE</th>\n",
       "      <th>Train R Squared</th>\n",
       "      <th>Train MAE</th>\n",
       "      <th>Mean Test Score</th>\n",
       "      <th>Test MSE</th>\n",
       "      <th>Test R Squared</th>\n",
       "      <th>Test MAE</th>\n",
       "    </tr>\n",
       "    <tr>\n",
       "      <th>MLA Name</th>\n",
       "      <th></th>\n",
       "      <th></th>\n",
       "      <th></th>\n",
       "      <th></th>\n",
       "      <th></th>\n",
       "      <th></th>\n",
       "      <th></th>\n",
       "      <th></th>\n",
       "    </tr>\n",
       "  </thead>\n",
       "  <tbody>\n",
       "    <tr>\n",
       "      <th>LinearRegression</th>\n",
       "      <td>0.836663</td>\n",
       "      <td>2326.708091</td>\n",
       "      <td>0.836663</td>\n",
       "      <td>37.062976</td>\n",
       "      <td>0.736435</td>\n",
       "      <td>3448.827341</td>\n",
       "      <td>0.736435</td>\n",
       "      <td>45.811958</td>\n",
       "    </tr>\n",
       "    <tr>\n",
       "      <th>Ridge</th>\n",
       "      <td>0.835134</td>\n",
       "      <td>2348.505321</td>\n",
       "      <td>0.835134</td>\n",
       "      <td>37.451804</td>\n",
       "      <td>0.738368</td>\n",
       "      <td>3427.824433</td>\n",
       "      <td>0.738368</td>\n",
       "      <td>45.836438</td>\n",
       "    </tr>\n",
       "    <tr>\n",
       "      <th>PLSRegression</th>\n",
       "      <td>0.836264</td>\n",
       "      <td>2332.417862</td>\n",
       "      <td>0.836264</td>\n",
       "      <td>37.256348</td>\n",
       "      <td>0.737426</td>\n",
       "      <td>3438.694887</td>\n",
       "      <td>0.737426</td>\n",
       "      <td>45.851239</td>\n",
       "    </tr>\n",
       "    <tr>\n",
       "      <th>MultiTaskLasso</th>\n",
       "      <td>0.836455</td>\n",
       "      <td>2329.718117</td>\n",
       "      <td>0.836455</td>\n",
       "      <td>37.186519</td>\n",
       "      <td>0.736536</td>\n",
       "      <td>3448.970421</td>\n",
       "      <td>0.736536</td>\n",
       "      <td>45.887367</td>\n",
       "    </tr>\n",
       "    <tr>\n",
       "      <th>HuberRegressor</th>\n",
       "      <td>0.835500</td>\n",
       "      <td>2343.261573</td>\n",
       "      <td>0.835500</td>\n",
       "      <td>36.810253</td>\n",
       "      <td>0.736599</td>\n",
       "      <td>3442.742090</td>\n",
       "      <td>0.736599</td>\n",
       "      <td>45.905434</td>\n",
       "    </tr>\n",
       "    <tr>\n",
       "      <th>TheilSenRegressor</th>\n",
       "      <td>0.829850</td>\n",
       "      <td>2423.942167</td>\n",
       "      <td>0.829850</td>\n",
       "      <td>36.970804</td>\n",
       "      <td>0.732242</td>\n",
       "      <td>3507.880059</td>\n",
       "      <td>0.732242</td>\n",
       "      <td>45.994100</td>\n",
       "    </tr>\n",
       "    <tr>\n",
       "      <th>BayesianRidge</th>\n",
       "      <td>0.833450</td>\n",
       "      <td>2372.512970</td>\n",
       "      <td>0.833450</td>\n",
       "      <td>37.702590</td>\n",
       "      <td>0.736318</td>\n",
       "      <td>3455.629102</td>\n",
       "      <td>0.736318</td>\n",
       "      <td>46.090263</td>\n",
       "    </tr>\n",
       "    <tr>\n",
       "      <th>RidgeCV</th>\n",
       "      <td>0.834847</td>\n",
       "      <td>2352.963810</td>\n",
       "      <td>0.834847</td>\n",
       "      <td>37.439065</td>\n",
       "      <td>0.734373</td>\n",
       "      <td>3478.802408</td>\n",
       "      <td>0.734373</td>\n",
       "      <td>46.136597</td>\n",
       "    </tr>\n",
       "    <tr>\n",
       "      <th>LassoCV</th>\n",
       "      <td>0.834463</td>\n",
       "      <td>2358.128866</td>\n",
       "      <td>0.834463</td>\n",
       "      <td>37.507617</td>\n",
       "      <td>0.732631</td>\n",
       "      <td>3502.890463</td>\n",
       "      <td>0.732631</td>\n",
       "      <td>46.355060</td>\n",
       "    </tr>\n",
       "    <tr>\n",
       "      <th>SGDRegressor</th>\n",
       "      <td>0.827812</td>\n",
       "      <td>2452.993819</td>\n",
       "      <td>0.827812</td>\n",
       "      <td>38.489937</td>\n",
       "      <td>0.732480</td>\n",
       "      <td>3503.279298</td>\n",
       "      <td>0.732480</td>\n",
       "      <td>46.555302</td>\n",
       "    </tr>\n",
       "    <tr>\n",
       "      <th>PassiveAggressiveRegressor</th>\n",
       "      <td>0.822248</td>\n",
       "      <td>2531.855110</td>\n",
       "      <td>0.822248</td>\n",
       "      <td>38.685408</td>\n",
       "      <td>0.729689</td>\n",
       "      <td>3530.250607</td>\n",
       "      <td>0.729689</td>\n",
       "      <td>46.764365</td>\n",
       "    </tr>\n",
       "    <tr>\n",
       "      <th>ARDRegression</th>\n",
       "      <td>0.831210</td>\n",
       "      <td>2404.470047</td>\n",
       "      <td>0.831210</td>\n",
       "      <td>38.046205</td>\n",
       "      <td>0.727311</td>\n",
       "      <td>3572.003799</td>\n",
       "      <td>0.727311</td>\n",
       "      <td>46.992446</td>\n",
       "    </tr>\n",
       "    <tr>\n",
       "      <th>LassoLars</th>\n",
       "      <td>0.824196</td>\n",
       "      <td>2504.285462</td>\n",
       "      <td>0.824196</td>\n",
       "      <td>38.953499</td>\n",
       "      <td>0.727851</td>\n",
       "      <td>3567.043355</td>\n",
       "      <td>0.727851</td>\n",
       "      <td>47.049963</td>\n",
       "    </tr>\n",
       "    <tr>\n",
       "      <th>ElasticNetCV</th>\n",
       "      <td>0.811515</td>\n",
       "      <td>2684.876279</td>\n",
       "      <td>0.811515</td>\n",
       "      <td>40.885330</td>\n",
       "      <td>0.725612</td>\n",
       "      <td>3612.778087</td>\n",
       "      <td>0.725612</td>\n",
       "      <td>47.681820</td>\n",
       "    </tr>\n",
       "    <tr>\n",
       "      <th>KNeighborsRegressor</th>\n",
       "      <td>0.842401</td>\n",
       "      <td>2243.631418</td>\n",
       "      <td>0.842401</td>\n",
       "      <td>37.578996</td>\n",
       "      <td>0.710660</td>\n",
       "      <td>3790.502619</td>\n",
       "      <td>0.710660</td>\n",
       "      <td>48.291753</td>\n",
       "    </tr>\n",
       "    <tr>\n",
       "      <th>ExtraTreesRegressor</th>\n",
       "      <td>1.000000</td>\n",
       "      <td>0.000289</td>\n",
       "      <td>1.000000</td>\n",
       "      <td>0.001141</td>\n",
       "      <td>0.689553</td>\n",
       "      <td>4081.301434</td>\n",
       "      <td>0.689553</td>\n",
       "      <td>50.001861</td>\n",
       "    </tr>\n",
       "    <tr>\n",
       "      <th>RandomForestRegressor</th>\n",
       "      <td>0.967967</td>\n",
       "      <td>456.426200</td>\n",
       "      <td>0.967967</td>\n",
       "      <td>16.296696</td>\n",
       "      <td>0.682386</td>\n",
       "      <td>4179.871898</td>\n",
       "      <td>0.682386</td>\n",
       "      <td>50.339472</td>\n",
       "    </tr>\n",
       "    <tr>\n",
       "      <th>AdaBoostRegressor</th>\n",
       "      <td>0.917657</td>\n",
       "      <td>1172.025994</td>\n",
       "      <td>0.917657</td>\n",
       "      <td>29.370796</td>\n",
       "      <td>0.671900</td>\n",
       "      <td>4297.996856</td>\n",
       "      <td>0.671900</td>\n",
       "      <td>50.986448</td>\n",
       "    </tr>\n",
       "    <tr>\n",
       "      <th>BaggingRegressor</th>\n",
       "      <td>0.958611</td>\n",
       "      <td>589.386854</td>\n",
       "      <td>0.958611</td>\n",
       "      <td>17.622725</td>\n",
       "      <td>0.662644</td>\n",
       "      <td>4435.835659</td>\n",
       "      <td>0.662644</td>\n",
       "      <td>51.995164</td>\n",
       "    </tr>\n",
       "    <tr>\n",
       "      <th>HistGradientBoostingRegressor</th>\n",
       "      <td>0.889928</td>\n",
       "      <td>1566.156089</td>\n",
       "      <td>0.889928</td>\n",
       "      <td>30.631534</td>\n",
       "      <td>0.659975</td>\n",
       "      <td>4443.157337</td>\n",
       "      <td>0.659975</td>\n",
       "      <td>52.062988</td>\n",
       "    </tr>\n",
       "    <tr>\n",
       "      <th>GradientBoostingRegressor</th>\n",
       "      <td>0.989333</td>\n",
       "      <td>151.883530</td>\n",
       "      <td>0.989333</td>\n",
       "      <td>9.673208</td>\n",
       "      <td>0.656243</td>\n",
       "      <td>4537.218614</td>\n",
       "      <td>0.656243</td>\n",
       "      <td>52.443320</td>\n",
       "    </tr>\n",
       "    <tr>\n",
       "      <th>DecisionTreeRegressor</th>\n",
       "      <td>1.000000</td>\n",
       "      <td>0.000000</td>\n",
       "      <td>1.000000</td>\n",
       "      <td>0.000000</td>\n",
       "      <td>0.471081</td>\n",
       "      <td>6905.365000</td>\n",
       "      <td>0.471081</td>\n",
       "      <td>64.059998</td>\n",
       "    </tr>\n",
       "    <tr>\n",
       "      <th>RANSACRegressor</th>\n",
       "      <td>0.480532</td>\n",
       "      <td>7387.403338</td>\n",
       "      <td>0.480532</td>\n",
       "      <td>62.575980</td>\n",
       "      <td>0.438631</td>\n",
       "      <td>7819.325741</td>\n",
       "      <td>0.438631</td>\n",
       "      <td>65.851262</td>\n",
       "    </tr>\n",
       "    <tr>\n",
       "      <th>SVR</th>\n",
       "      <td>0.177468</td>\n",
       "      <td>11733.760534</td>\n",
       "      <td>0.177468</td>\n",
       "      <td>83.797962</td>\n",
       "      <td>0.140345</td>\n",
       "      <td>11749.439660</td>\n",
       "      <td>0.140345</td>\n",
       "      <td>84.520070</td>\n",
       "    </tr>\n",
       "    <tr>\n",
       "      <th>NuSVR</th>\n",
       "      <td>0.157681</td>\n",
       "      <td>12017.112131</td>\n",
       "      <td>0.157681</td>\n",
       "      <td>89.241479</td>\n",
       "      <td>0.101529</td>\n",
       "      <td>12211.196915</td>\n",
       "      <td>0.101529</td>\n",
       "      <td>89.946419</td>\n",
       "    </tr>\n",
       "    <tr>\n",
       "      <th>GaussianProcessRegressor</th>\n",
       "      <td>1.000000</td>\n",
       "      <td>0.000000</td>\n",
       "      <td>1.000000</td>\n",
       "      <td>0.000000</td>\n",
       "      <td>-4.413942</td>\n",
       "      <td>70096.125983</td>\n",
       "      <td>-4.413942</td>\n",
       "      <td>186.088416</td>\n",
       "    </tr>\n",
       "    <tr>\n",
       "      <th>LinearSVR</th>\n",
       "      <td>-49.764878</td>\n",
       "      <td>722472.645104</td>\n",
       "      <td>-49.764878</td>\n",
       "      <td>841.535518</td>\n",
       "      <td>-54.095414</td>\n",
       "      <td>721285.877916</td>\n",
       "      <td>-54.095414</td>\n",
       "      <td>840.982918</td>\n",
       "    </tr>\n",
       "    <tr>\n",
       "      <th>KernelRidge</th>\n",
       "      <td>-60.934865</td>\n",
       "      <td>881381.018017</td>\n",
       "      <td>-60.934865</td>\n",
       "      <td>937.535520</td>\n",
       "      <td>-66.375958</td>\n",
       "      <td>881143.262594</td>\n",
       "      <td>-66.375958</td>\n",
       "      <td>936.982918</td>\n",
       "    </tr>\n",
       "  </tbody>\n",
       "</table>\n",
       "</div>"
      ],
      "text/plain": [
       "                               Mean Train Score      Train MSE  \\\n",
       "MLA Name                                                         \n",
       "LinearRegression                       0.836663    2326.708091   \n",
       "Ridge                                  0.835134    2348.505321   \n",
       "PLSRegression                          0.836264    2332.417862   \n",
       "MultiTaskLasso                         0.836455    2329.718117   \n",
       "HuberRegressor                         0.835500    2343.261573   \n",
       "TheilSenRegressor                      0.829850    2423.942167   \n",
       "BayesianRidge                          0.833450    2372.512970   \n",
       "RidgeCV                                0.834847    2352.963810   \n",
       "LassoCV                                0.834463    2358.128866   \n",
       "SGDRegressor                           0.827812    2452.993819   \n",
       "PassiveAggressiveRegressor             0.822248    2531.855110   \n",
       "ARDRegression                          0.831210    2404.470047   \n",
       "LassoLars                              0.824196    2504.285462   \n",
       "ElasticNetCV                           0.811515    2684.876279   \n",
       "KNeighborsRegressor                    0.842401    2243.631418   \n",
       "ExtraTreesRegressor                    1.000000       0.000289   \n",
       "RandomForestRegressor                  0.967967     456.426200   \n",
       "AdaBoostRegressor                      0.917657    1172.025994   \n",
       "BaggingRegressor                       0.958611     589.386854   \n",
       "HistGradientBoostingRegressor          0.889928    1566.156089   \n",
       "GradientBoostingRegressor              0.989333     151.883530   \n",
       "DecisionTreeRegressor                  1.000000       0.000000   \n",
       "RANSACRegressor                        0.480532    7387.403338   \n",
       "SVR                                    0.177468   11733.760534   \n",
       "NuSVR                                  0.157681   12017.112131   \n",
       "GaussianProcessRegressor               1.000000       0.000000   \n",
       "LinearSVR                            -49.764878  722472.645104   \n",
       "KernelRidge                          -60.934865  881381.018017   \n",
       "\n",
       "                               Train R Squared   Train MAE  Mean Test Score  \\\n",
       "MLA Name                                                                      \n",
       "LinearRegression                      0.836663   37.062976         0.736435   \n",
       "Ridge                                 0.835134   37.451804         0.738368   \n",
       "PLSRegression                         0.836264   37.256348         0.737426   \n",
       "MultiTaskLasso                        0.836455   37.186519         0.736536   \n",
       "HuberRegressor                        0.835500   36.810253         0.736599   \n",
       "TheilSenRegressor                     0.829850   36.970804         0.732242   \n",
       "BayesianRidge                         0.833450   37.702590         0.736318   \n",
       "RidgeCV                               0.834847   37.439065         0.734373   \n",
       "LassoCV                               0.834463   37.507617         0.732631   \n",
       "SGDRegressor                          0.827812   38.489937         0.732480   \n",
       "PassiveAggressiveRegressor            0.822248   38.685408         0.729689   \n",
       "ARDRegression                         0.831210   38.046205         0.727311   \n",
       "LassoLars                             0.824196   38.953499         0.727851   \n",
       "ElasticNetCV                          0.811515   40.885330         0.725612   \n",
       "KNeighborsRegressor                   0.842401   37.578996         0.710660   \n",
       "ExtraTreesRegressor                   1.000000    0.001141         0.689553   \n",
       "RandomForestRegressor                 0.967967   16.296696         0.682386   \n",
       "AdaBoostRegressor                     0.917657   29.370796         0.671900   \n",
       "BaggingRegressor                      0.958611   17.622725         0.662644   \n",
       "HistGradientBoostingRegressor         0.889928   30.631534         0.659975   \n",
       "GradientBoostingRegressor             0.989333    9.673208         0.656243   \n",
       "DecisionTreeRegressor                 1.000000    0.000000         0.471081   \n",
       "RANSACRegressor                       0.480532   62.575980         0.438631   \n",
       "SVR                                   0.177468   83.797962         0.140345   \n",
       "NuSVR                                 0.157681   89.241479         0.101529   \n",
       "GaussianProcessRegressor              1.000000    0.000000        -4.413942   \n",
       "LinearSVR                           -49.764878  841.535518       -54.095414   \n",
       "KernelRidge                         -60.934865  937.535520       -66.375958   \n",
       "\n",
       "                                    Test MSE  Test R Squared    Test MAE  \n",
       "MLA Name                                                                  \n",
       "LinearRegression                 3448.827341        0.736435   45.811958  \n",
       "Ridge                            3427.824433        0.738368   45.836438  \n",
       "PLSRegression                    3438.694887        0.737426   45.851239  \n",
       "MultiTaskLasso                   3448.970421        0.736536   45.887367  \n",
       "HuberRegressor                   3442.742090        0.736599   45.905434  \n",
       "TheilSenRegressor                3507.880059        0.732242   45.994100  \n",
       "BayesianRidge                    3455.629102        0.736318   46.090263  \n",
       "RidgeCV                          3478.802408        0.734373   46.136597  \n",
       "LassoCV                          3502.890463        0.732631   46.355060  \n",
       "SGDRegressor                     3503.279298        0.732480   46.555302  \n",
       "PassiveAggressiveRegressor       3530.250607        0.729689   46.764365  \n",
       "ARDRegression                    3572.003799        0.727311   46.992446  \n",
       "LassoLars                        3567.043355        0.727851   47.049963  \n",
       "ElasticNetCV                     3612.778087        0.725612   47.681820  \n",
       "KNeighborsRegressor              3790.502619        0.710660   48.291753  \n",
       "ExtraTreesRegressor              4081.301434        0.689553   50.001861  \n",
       "RandomForestRegressor            4179.871898        0.682386   50.339472  \n",
       "AdaBoostRegressor                4297.996856        0.671900   50.986448  \n",
       "BaggingRegressor                 4435.835659        0.662644   51.995164  \n",
       "HistGradientBoostingRegressor    4443.157337        0.659975   52.062988  \n",
       "GradientBoostingRegressor        4537.218614        0.656243   52.443320  \n",
       "DecisionTreeRegressor            6905.365000        0.471081   64.059998  \n",
       "RANSACRegressor                  7819.325741        0.438631   65.851262  \n",
       "SVR                             11749.439660        0.140345   84.520070  \n",
       "NuSVR                           12211.196915        0.101529   89.946419  \n",
       "GaussianProcessRegressor        70096.125983       -4.413942  186.088416  \n",
       "LinearSVR                      721285.877916      -54.095414  840.982918  \n",
       "KernelRidge                    881143.262594      -66.375958  936.982918  "
      ]
     },
     "execution_count": 26,
     "metadata": {},
     "output_type": "execute_result"
    }
   ],
   "source": [
    "run_ml(k = 100)"
   ]
  },
  {
   "cell_type": "markdown",
   "metadata": {},
   "source": [
    "Dessa vez um modelo linear tomou a frente! A boa e velha regressão linear, ou [LinearRegression](https://scikit-learn.org/stable/modules/generated/sklearn.linear_model.LinearRegression.html#sklearn.linear_model.LinearRegression) teve o menor erro, em média, nas nossas bases de teste. É importante atentar que os piores modelos são consistentemente piores, porém os melhores modelos possuem uma variabilidade considerável dependendo do *random_state* e número de repetições. Nesse sentido, quanto maior o número de repetições maior a estabilidade dos melhores modelos."
   ]
  },
  {
   "cell_type": "markdown",
   "metadata": {},
   "source": [
    "### Rodando Neural Networks"
   ]
  },
  {
   "cell_type": "markdown",
   "metadata": {},
   "source": [
    "Podemos também rodar um modelo simples de deep learning e analisar o quanto ele melhora na predição de número de suicídios em relação ao nosso melhor algoritmo anterior. Assim, caso nosso modelo de deep learning tenha um MAE < 45.49 na nossa base de teste, ele parece estar mais acurado nessa predição. Se isso acontecer, ele será nosso modelo final."
   ]
  },
  {
   "cell_type": "markdown",
   "metadata": {},
   "source": [
    "#### Preparando banco de dados"
   ]
  },
  {
   "cell_type": "code",
   "execution_count": 28,
   "metadata": {},
   "outputs": [],
   "source": [
    "pd.options.mode.chained_assignment = None # remove warning message\n",
    "\n",
    "# Selecting X features and dependent variable Y\n",
    "X = df.drop(columns = 'n')\n",
    "y = df[['n']]\n",
    "\n",
    "# Creating X and y train and test\n",
    "X_train, X_test, y_train, y_test = train_test_split(X, y,\n",
    "                                                    test_size = 0.20,\n",
    "                                                    random_state = 42)\n",
    "\n",
    "\n",
    "# Normalizing features in X_train and X_test\n",
    "X_train[X_train.columns] = scaler.fit_transform(X_train[X_train.columns])\n",
    "X_test[X_test.columns] = scaler.fit_transform(X_test[X_test.columns])\n",
    "\n",
    "# Normalizing target variable\n",
    "y_train[y_train.columns] = scaler.fit_transform(y_train[y_train.columns])\n",
    "y_test[y_test.columns] = scaler.fit_transform(y_test[y_test.columns])"
   ]
  },
  {
   "cell_type": "markdown",
   "metadata": {},
   "source": [
    "### Cross-validation"
   ]
  },
  {
   "cell_type": "markdown",
   "metadata": {},
   "source": [
    "Na cross-validation, nós vamos alimentar um modelo com diversos parâmetros possíveis. Ele vai testar todos esses modelos, armazenar o resultado de cada um, e nos dizer quais parâmetros geram o modelo com menos erro."
   ]
  },
  {
   "cell_type": "code",
   "execution_count": 29,
   "metadata": {},
   "outputs": [
    {
     "name": "stdout",
     "output_type": "stream",
     "text": [
      "Training set score: 0.836989\n",
      "Test set score: 0.852058\n",
      "Best parameters set found on development set:\n",
      "{'activation': 'logistic', 'alpha': 0.0005, 'hidden_layer_sizes': (1,), 'learning_rate': 'constant', 'learning_rate_init': 1e-06, 'solver': 'lbfgs'}\n"
     ]
    }
   ],
   "source": [
    "# Creating param_grid\n",
    "param_grid = {\"hidden_layer_sizes\": [(1,),(100,)],\n",
    "              \"activation\": [\"identity\", \"logistic\", \"tanh\", \"relu\"],\n",
    "              \"solver\": [\"lbfgs\", \"sgd\", \"adam\"],\n",
    "              \"alpha\": [0.00005,0.0005],\n",
    "              \"learning_rate\": ['constant', 'invscaling', 'adaptive'],\n",
    "              \"learning_rate_init\": [0.000001, 0.001]\n",
    "             }\n",
    "\n",
    "# Cross-validation - searching the best hyperparameters\n",
    "clf = GridSearchCV(MLPRegressor(max_iter = 50000,\n",
    "                                random_state = 42),\n",
    "                   param_grid = param_grid)\n",
    "\n",
    "clf.fit(X_train, y_train.values.ravel())\n",
    "\n",
    "print(\"Training set score: %f\" % clf.score(X_train, y_train))\n",
    "print(\"Test set score: %f\" % clf.score(X_test, y_test))\n",
    "\n",
    "print(\"Best parameters set found on development set:\")\n",
    "print(clf.best_params_)"
   ]
  },
  {
   "cell_type": "markdown",
   "metadata": {},
   "source": [
    "Agora, vamos utilizar todos esses parâmetros abaixo para a criação do nosso modelo!"
   ]
  },
  {
   "cell_type": "markdown",
   "metadata": {},
   "source": [
    "### Rodando a neural network"
   ]
  },
  {
   "cell_type": "code",
   "execution_count": 30,
   "metadata": {},
   "outputs": [
    {
     "name": "stdout",
     "output_type": "stream",
     "text": [
      "TRAIN SCORES\n",
      "\n",
      "Train score: 0.837\n",
      "Train Mean Squared Error: 0.163\n",
      "Train Mean Absolute Error: 0.3086\n",
      "\n",
      "TEST SCORES\n",
      "\n",
      "Test score: 0.8521\n",
      "Test Mean Squared Error: 0.1479\n",
      "Test Mean Absolute Error: 0.3135\n"
     ]
    }
   ],
   "source": [
    "neural_network = MLPRegressor(hidden_layer_sizes = 1, # 50 works better for some reason\n",
    "                              activation = 'logistic',\n",
    "                              alpha = 0.0005,\n",
    "                              learning_rate = 'constant',\n",
    "                              learning_rate_init = 1e-06,\n",
    "                              max_iter = 50000,\n",
    "                              solver = 'lbfgs',\n",
    "                              random_state = 42).fit(X_train, y_train.values.ravel())\n",
    "\n",
    "# Train\n",
    "print('TRAIN SCORES\\n')\n",
    "print('Train score:', round(neural_network.score(X_train, y_train), 4))\n",
    "print('Train Mean Squared Error:', round(mean_squared_error(y_train, neural_network.predict(X_train)), 4))\n",
    "print('Train Mean Absolute Error:', round(mean_absolute_error(y_train, neural_network.predict(X_train)), 4))\n",
    "\n",
    "# Test\n",
    "print('\\nTEST SCORES\\n')\n",
    "print('Test score:', round(neural_network.score(X_test, y_test), 4))\n",
    "print('Test Mean Squared Error:', round(mean_squared_error(y_test, neural_network.predict(X_test)), 4))\n",
    "print('Test Mean Absolute Error:', round(mean_absolute_error(y_test, neural_network.predict(X_test)), 4))"
   ]
  },
  {
   "cell_type": "markdown",
   "metadata": {},
   "source": [
    "Nosso MAE passou de 45.81 da regressão linear para 0.31 com um modelo bem simples de rede neural! Uma melhoria absurda!"
   ]
  },
  {
   "cell_type": "markdown",
   "metadata": {},
   "source": [
    "### Feature importance"
   ]
  },
  {
   "cell_type": "markdown",
   "metadata": {},
   "source": [
    "**Afinal, qual variável impacta a previsão de número de mortes causadas por suicídio?**\n",
    "\n",
    "Como um modelo de neural network é considerado um modelo de black box, nós não conseguimos acessar os parâmetros precisos de cada camada de neurônio. Entretanto, conseguimos com tranquilidade dizer quais os melhores parâmetros para predição do modelo. Isso será feito com o [ELI5](https://eli5.readthedocs.io/en/latest/overview.html) utilizando um modelo de permutação conhecido como [PermutationImportance](https://eli5.readthedocs.io/en/latest/blackbox/permutation_importance.html)."
   ]
  },
  {
   "cell_type": "code",
   "execution_count": 40,
   "metadata": {},
   "outputs": [
    {
     "data": {
      "text/plain": [
       "<AxesSubplot:title={'center':'Feature importance arranged by MAE reduction in a prediction without the feature'}, ylabel='feature'>"
      ]
     },
     "execution_count": 40,
     "metadata": {},
     "output_type": "execute_result"
    },
    {
     "data": {
      "image/png": "[encoded data removed]",
      "text/plain": [
       "<Figure size 864x432 with 1 Axes>"
      ]
     },
     "metadata": {
      "needs_background": "light"
     },
     "output_type": "display_data"
    }
   ],
   "source": [
    "perm = PermutationImportance(neural_network,\n",
    "                             scoring = 'neg_mean_absolute_error',\n",
    "                             random_state = 42).fit(X_test, y_test)\n",
    "\n",
    "# Cria pandas.DataFrame com feature importances\n",
    "feature_importance = eli5.explain_weights_df(perm,\n",
    "                                             feature_names = X_test.columns.to_list())\n",
    "\n",
    "# Ajusta ordem do plot\n",
    "matplotlib.rcParams['figure.figsize'] = (12, 6)\n",
    "\n",
    "feature_importance.sort_values('weight', inplace = True)\n",
    "\n",
    "feature_importance.plot(kind = 'barh',\n",
    "                        x = 'feature',\n",
    "                        y = 'weight',\n",
    "                        xlim = (0, 1),\n",
    "                        title = 'Feature importance arranged by MAE reduction in a prediction without the feature',\n",
    "                        xticks = [0, 0.10, 0.2, 0.3, 0.4, 0.5, \n",
    "                                  0.6, 0.70, 0.80, 0.9, 1],\n",
    "                        fontsize = 12)"
   ]
  },
  {
   "cell_type": "markdown",
   "metadata": {},
   "source": [
    "No geral, a variável com maior impacto foi massa salarial ampliada (MSA), seguido por dívida líquida e valor do salário mínimo. Com exceção de dívida líquida, massa salarial ampliada e salário mínimo refletem o repasse governamental de valores de previdência (MSA) e um valor base para recebimento de salários nas organizações (salário mínimo). O que possuem em comum parece ser o investimento dado pelo governo ao trabalho."
   ]
  },
  {
   "cell_type": "markdown",
   "metadata": {},
   "source": [
    "### Erros da Neural Network"
   ]
  },
  {
   "cell_type": "markdown",
   "metadata": {},
   "source": [
    "É importante salientar que fizemos transformações nos nossos dados ao rodar os modelos - assim, as previsões dadas são baseadas nessas transformações. A transformação escolhida foi em escore *z* - os valores preditos, portanto, são baseados nesse escore. Isso é importante para a interpretação que faremos a seguir."
   ]
  },
  {
   "cell_type": "code",
   "execution_count": 42,
   "metadata": {},
   "outputs": [
    {
     "data": {
      "text/plain": [
       "Text(0.5, 0, 'Errors in Standard Deviations Made by Neural Network')"
      ]
     },
     "execution_count": 42,
     "metadata": {},
     "output_type": "execute_result"
    },
    {
     "data": {
      "image/png": "[encoded data removed]",
      "text/plain": [
       "<Figure size 1080x1080 with 1 Axes>"
      ]
     },
     "metadata": {
      "needs_background": "light"
     },
     "output_type": "display_data"
    }
   ],
   "source": [
    "# How many errors?\n",
    "# Subtracting predicted value by target value\n",
    "errors = neural_network.predict(X_test) - y_test.values.ravel()\n",
    "\n",
    "# Plotting prediction error made by neural network\n",
    "pd.DataFrame(errors).plot(figsize=(15,15),kind = 'barh',\n",
    "                              xlim = (-1, 1),\n",
    "                              #xlabel = 'Errors in Standard Deviations Made by Neural Network',\n",
    "                              xticks = [-1, -0.5, 0, 0.5, 1],\n",
    "                              fontsize = 20)\n",
    "\n",
    "plt.xlabel('Errors in Standard Deviations Made by Neural Network', fontsize=16)"
   ]
  },
  {
   "cell_type": "markdown",
   "metadata": {},
   "source": [
    "Em média, tivemos erros de escores *z* entre -0.9 e 0.9. Isso é *muito* bom! Significa que, em média, erramos menos de 1 desvio-padrão em relação à nossa variável desfecho. Fizemos uma previsão bem próxima ao nosso valor final. O modelo de rede neural realmente foi bem poderoso nesse caso, especialmente nos valores 1, 2, 4, 12 e 21, que tiveram erros menores que 0.2."
   ]
  },
  {
   "cell_type": "markdown",
   "metadata": {},
   "source": [
    "### Contato"
   ]
  },
  {
   "cell_type": "markdown",
   "metadata": {},
   "source": [
    "**Por hoje era isso! Quer falar comigo?**\n",
    "\n",
    "- Para falar comigo, é só entrar em [qualquer um desses links](https://linktr.ee/gabrielrr).\n",
    "- Você também pode acessar [meu site](https://reisrgabriel.com/) se quiser ver meu currículo completo e outras informações."
   ]
  }
 ],
 "metadata": {
  "kernelspec": {
   "display_name": "Python 3",
   "language": "python",
   "name": "python3"
  },
  "language_info": {
   "codemirror_mode": {
    "name": "ipython",
    "version": 3
   },
   "file_extension": ".py",
   "mimetype": "text/x-python",
   "name": "python",
   "nbconvert_exporter": "python",
   "pygments_lexer": "ipython3",
   "version": "3.9.1"
  }
 },
 "nbformat": 4,
 "nbformat_minor": 4
}
