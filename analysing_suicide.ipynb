{
 "cells": [
  {
   "cell_type": "markdown",
   "id": "becoming-percentage",
   "metadata": {},
   "source": [
    "## Importing libraries"
   ]
  },
  {
   "cell_type": "code",
   "execution_count": 15,
   "id": "editorial-ballet",
   "metadata": {},
   "outputs": [],
   "source": [
    "import pandas as pd\n",
    "import matplotlib\n",
    "import matplotlib.pyplot as plt\n",
    "import seaborn as sns\n",
    "%config Completer.use_jedi = False # this speeds up autocomplete"
   ]
  },
  {
   "cell_type": "markdown",
   "id": "perfect-maldives",
   "metadata": {},
   "source": [
    "## Creating dataframe: df"
   ]
  },
  {
   "cell_type": "code",
   "execution_count": 20,
   "id": "excessive-chuck",
   "metadata": {},
   "outputs": [],
   "source": [
    "df = pd.read_csv('datasus_suicide_2014_2018.csv', encoding = 'latin-1')"
   ]
  },
  {
   "cell_type": "code",
   "execution_count": 24,
   "id": "aerial-litigation",
   "metadata": {},
   "outputs": [],
   "source": [
    "df.columns = df.columns.str.lower()"
   ]
  },
  {
   "cell_type": "code",
   "execution_count": 25,
   "id": "saving-arabic",
   "metadata": {},
   "outputs": [
    {
     "data": {
      "text/plain": [
       "Index(['estado', 'ano', 'circobito', 'dtobito', 'dtnasc', 'sexo', 'racacor',\n",
       "       'estciv', 'esc', 'ocup', 'codmunres', 'lococor', 'assistmed',\n",
       "       'causabas', 'causabas_o', 'idade', 'mes'],\n",
       "      dtype='object')"
      ]
     },
     "execution_count": 25,
     "metadata": {},
     "output_type": "execute_result"
    }
   ],
   "source": [
    "df.columns"
   ]
  }
 ],
 "metadata": {
  "kernelspec": {
   "display_name": "Python 3",
   "language": "python",
   "name": "python3"
  },
  "language_info": {
   "codemirror_mode": {
    "name": "ipython",
    "version": 3
   },
   "file_extension": ".py",
   "mimetype": "text/x-python",
   "name": "python",
   "nbconvert_exporter": "python",
   "pygments_lexer": "ipython3",
   "version": "3.9.1"
  }
 },
 "nbformat": 4,
 "nbformat_minor": 5
}
