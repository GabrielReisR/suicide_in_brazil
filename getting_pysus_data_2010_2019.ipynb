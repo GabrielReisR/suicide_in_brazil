{
 "cells": [
  {
   "cell_type": "code",
   "execution_count": 1,
   "metadata": {},
   "outputs": [],
   "source": [
    "import datetime\n",
    "import pandas as pd\n",
    "%config Completer.use_jedi = False # this speeds up autocomplete"
   ]
  },
  {
   "cell_type": "markdown",
   "metadata": {
    "id": "n09bQfa00N8Q"
   },
   "source": [
    "## Instalando pysus e geopandas"
   ]
  },
  {
   "cell_type": "code",
   "execution_count": 2,
   "metadata": {
    "colab": {
     "base_uri": "https://localhost:8080/"
    },
    "id": "9-0xKhfMcP0W",
    "outputId": "8b09bd60-2e87-4867-ab74-ae3d447b3fcb"
   },
   "outputs": [
    {
     "name": "stdout",
     "output_type": "stream",
     "text": [
      "Collecting pysus\n",
      "\u001b[?25l  Downloading https://files.pythonhosted.org/packages/fa/ff/f72223423f7478035dda8ea803765ab5e1a36517b524bd5975dbc625cde2/PySUS-0.5.2.tar.gz (14.1MB)\n",
      "\u001b[K     |████████████████████████████████| 14.1MB 266kB/s \n",
      "\u001b[?25hRequirement already satisfied: pandas in /usr/local/lib/python3.7/dist-packages (from pysus) (1.1.5)\n",
      "Collecting dbfread\n",
      "  Downloading https://files.pythonhosted.org/packages/4c/94/51349e43503e30ed7b4ecfe68a8809cdb58f722c0feb79d18b1f1e36fe74/dbfread-2.0.7-py2.py3-none-any.whl\n",
      "Requirement already satisfied: cffi>=1.0.0 in /usr/local/lib/python3.7/dist-packages (from pysus) (1.14.5)\n",
      "Collecting geocoder\n",
      "\u001b[?25l  Downloading https://files.pythonhosted.org/packages/4f/6b/13166c909ad2f2d76b929a4227c952630ebaf0d729f6317eb09cbceccbab/geocoder-1.38.1-py2.py3-none-any.whl (98kB)\n",
      "\u001b[K     |████████████████████████████████| 102kB 9.9MB/s \n",
      "\u001b[?25hRequirement already satisfied: requests in /usr/local/lib/python3.7/dist-packages (from pysus) (2.23.0)\n",
      "Requirement already satisfied: pyarrow in /usr/local/lib/python3.7/dist-packages (from pysus) (3.0.0)\n",
      "Collecting fastparquet\n",
      "\u001b[?25l  Downloading https://files.pythonhosted.org/packages/c2/3e/970dcb3605c1d406be9304f00895bf89ca6b71162afa7f95c5a4032bf927/fastparquet-0.5.0.tar.gz (120kB)\n",
      "\u001b[K     |████████████████████████████████| 122kB 54.7MB/s \n",
      "\u001b[?25hRequirement already satisfied: python-dateutil>=2.7.3 in /usr/local/lib/python3.7/dist-packages (from pandas->pysus) (2.8.1)\n",
      "Requirement already satisfied: numpy>=1.15.4 in /usr/local/lib/python3.7/dist-packages (from pandas->pysus) (1.19.5)\n",
      "Requirement already satisfied: pytz>=2017.2 in /usr/local/lib/python3.7/dist-packages (from pandas->pysus) (2018.9)\n",
      "Requirement already satisfied: pycparser in /usr/local/lib/python3.7/dist-packages (from cffi>=1.0.0->pysus) (2.20)\n",
      "Requirement already satisfied: six in /usr/local/lib/python3.7/dist-packages (from geocoder->pysus) (1.15.0)\n",
      "Requirement already satisfied: future in /usr/local/lib/python3.7/dist-packages (from geocoder->pysus) (0.16.0)\n",
      "Requirement already satisfied: click in /usr/local/lib/python3.7/dist-packages (from geocoder->pysus) (7.1.2)\n",
      "Collecting ratelim\n",
      "  Downloading https://files.pythonhosted.org/packages/f2/98/7e6d147fd16a10a5f821db6e25f192265d6ecca3d82957a4fdd592cad49c/ratelim-0.1.6-py2.py3-none-any.whl\n",
      "Requirement already satisfied: certifi>=2017.4.17 in /usr/local/lib/python3.7/dist-packages (from requests->pysus) (2020.12.5)\n",
      "Requirement already satisfied: chardet<4,>=3.0.2 in /usr/local/lib/python3.7/dist-packages (from requests->pysus) (3.0.4)\n",
      "Requirement already satisfied: idna<3,>=2.5 in /usr/local/lib/python3.7/dist-packages (from requests->pysus) (2.10)\n",
      "Requirement already satisfied: urllib3!=1.25.0,!=1.25.1,<1.26,>=1.21.1 in /usr/local/lib/python3.7/dist-packages (from requests->pysus) (1.24.3)\n",
      "Requirement already satisfied: numba>=0.49 in /usr/local/lib/python3.7/dist-packages (from fastparquet->pysus) (0.51.2)\n",
      "Collecting thrift>=0.11.0\n",
      "\u001b[?25l  Downloading https://files.pythonhosted.org/packages/97/1e/3284d19d7be99305eda145b8aa46b0c33244e4a496ec66440dac19f8274d/thrift-0.13.0.tar.gz (59kB)\n",
      "\u001b[K     |████████████████████████████████| 61kB 6.7MB/s \n",
      "\u001b[?25hRequirement already satisfied: decorator in /usr/local/lib/python3.7/dist-packages (from ratelim->geocoder->pysus) (4.4.2)\n",
      "Requirement already satisfied: llvmlite<0.35,>=0.34.0.dev0 in /usr/local/lib/python3.7/dist-packages (from numba>=0.49->fastparquet->pysus) (0.34.0)\n",
      "Requirement already satisfied: setuptools in /usr/local/lib/python3.7/dist-packages (from numba>=0.49->fastparquet->pysus) (54.2.0)\n",
      "Building wheels for collected packages: pysus, fastparquet, thrift\n",
      "  Building wheel for pysus (setup.py) ... \u001b[?25l\u001b[?25hdone\n",
      "  Created wheel for pysus: filename=PySUS-0.5.2-cp37-cp37m-linux_x86_64.whl size=12244527 sha256=4e5cf4439bf871d473040efef1ae5bf98c881f1f0d55c979514c51cef626fab4\n",
      "  Stored in directory: /root/.cache/pip/wheels/71/c2/fe/e195c2df5f458b64628808f7dcfd9377704ad74dbeec92a209\n",
      "  Building wheel for fastparquet (setup.py) ... \u001b[?25l\u001b[?25hdone\n",
      "  Created wheel for fastparquet: filename=fastparquet-0.5.0-cp37-cp37m-linux_x86_64.whl size=213353 sha256=a5bf608b24fde9791aa5047042da30a178b8294c6e3db30dc7afb6a74f531c6a\n",
      "  Stored in directory: /root/.cache/pip/wheels/97/0e/da/e2122965947ab2bfbc20e31a968e998fc8932f7fcb0ed78ad0\n",
      "  Building wheel for thrift (setup.py) ... \u001b[?25l\u001b[?25hdone\n",
      "  Created wheel for thrift: filename=thrift-0.13.0-cp37-cp37m-linux_x86_64.whl size=348123 sha256=7bd557b0752c10f2caeafcef9010bed5828819889409e82b1f3a0c1fe4db7d4a\n",
      "  Stored in directory: /root/.cache/pip/wheels/02/a2/46/689ccfcf40155c23edc7cdbd9de488611c8fdf49ff34b1706e\n",
      "Successfully built pysus fastparquet thrift\n",
      "Installing collected packages: dbfread, ratelim, geocoder, thrift, fastparquet, pysus\n",
      "Successfully installed dbfread-2.0.7 fastparquet-0.5.0 geocoder-1.38.1 pysus-0.5.2 ratelim-0.1.6 thrift-0.13.0\n",
      "Collecting geopandas\n",
      "\u001b[?25l  Downloading https://files.pythonhosted.org/packages/d7/bf/e9cefb69d39155d122b6ddca53893b61535fa6ffdad70bf5ef708977f53f/geopandas-0.9.0-py2.py3-none-any.whl (994kB)\n",
      "\u001b[K     |████████████████████████████████| 1.0MB 18.3MB/s \n",
      "\u001b[?25hRequirement already satisfied: pandas>=0.24.0 in /usr/local/lib/python3.7/dist-packages (from geopandas) (1.1.5)\n",
      "Collecting fiona>=1.8\n",
      "\u001b[?25l  Downloading https://files.pythonhosted.org/packages/ea/2a/404b22883298a3efe9c6ef8d67acbf2c38443fa366ee9cd4cd34e17626ea/Fiona-1.8.19-cp37-cp37m-manylinux1_x86_64.whl (15.3MB)\n",
      "\u001b[K     |████████████████████████████████| 15.3MB 274kB/s \n",
      "\u001b[?25hCollecting pyproj>=2.2.0\n",
      "\u001b[?25l  Downloading https://files.pythonhosted.org/packages/b1/72/d52e9ca81caef056062d71991b0e9b1d16af042245627c5d0e4916a36c4f/pyproj-3.0.1-cp37-cp37m-manylinux2010_x86_64.whl (6.5MB)\n",
      "\u001b[K     |████████████████████████████████| 6.5MB 28.2MB/s \n",
      "\u001b[?25hRequirement already satisfied: shapely>=1.6 in /usr/local/lib/python3.7/dist-packages (from geopandas) (1.7.1)\n",
      "Requirement already satisfied: numpy>=1.15.4 in /usr/local/lib/python3.7/dist-packages (from pandas>=0.24.0->geopandas) (1.19.5)\n",
      "Requirement already satisfied: python-dateutil>=2.7.3 in /usr/local/lib/python3.7/dist-packages (from pandas>=0.24.0->geopandas) (2.8.1)\n",
      "Requirement already satisfied: pytz>=2017.2 in /usr/local/lib/python3.7/dist-packages (from pandas>=0.24.0->geopandas) (2018.9)\n",
      "Collecting cligj>=0.5\n",
      "  Downloading https://files.pythonhosted.org/packages/42/1e/947eadf10d6804bf276eb8a038bd5307996dceaaa41cfd21b7a15ec62f5d/cligj-0.7.1-py3-none-any.whl\n",
      "Requirement already satisfied: click<8,>=4.0 in /usr/local/lib/python3.7/dist-packages (from fiona>=1.8->geopandas) (7.1.2)\n",
      "Collecting click-plugins>=1.0\n",
      "  Downloading https://files.pythonhosted.org/packages/e9/da/824b92d9942f4e472702488857914bdd50f73021efea15b4cad9aca8ecef/click_plugins-1.1.1-py2.py3-none-any.whl\n",
      "Collecting munch\n",
      "  Downloading https://files.pythonhosted.org/packages/cc/ab/85d8da5c9a45e072301beb37ad7f833cd344e04c817d97e0cc75681d248f/munch-2.5.0-py2.py3-none-any.whl\n",
      "Requirement already satisfied: certifi in /usr/local/lib/python3.7/dist-packages (from fiona>=1.8->geopandas) (2020.12.5)\n",
      "Requirement already satisfied: six>=1.7 in /usr/local/lib/python3.7/dist-packages (from fiona>=1.8->geopandas) (1.15.0)\n",
      "Requirement already satisfied: attrs>=17 in /usr/local/lib/python3.7/dist-packages (from fiona>=1.8->geopandas) (20.3.0)\n",
      "Installing collected packages: cligj, click-plugins, munch, fiona, pyproj, geopandas\n",
      "Successfully installed click-plugins-1.1.1 cligj-0.7.1 fiona-1.8.19 geopandas-0.9.0 munch-2.5.0 pyproj-3.0.1\n"
     ]
    }
   ],
   "source": [
    "!pip install pysus\n",
    "!pip install geopandas"
   ]
  },
  {
   "cell_type": "code",
   "execution_count": 3,
   "metadata": {
    "id": "HtNEFUucccTn"
   },
   "outputs": [],
   "source": [
    "from pysus.online_data.SIM import download"
   ]
  },
  {
   "cell_type": "markdown",
   "metadata": {
    "id": "Bmig5XqF0KsM"
   },
   "source": [
    "## Baixando os dados"
   ]
  },
  {
   "cell_type": "markdown",
   "metadata": {
    "id": "dM6h8obZ0U6E"
   },
   "source": [
    "#### 2010"
   ]
  },
  {
   "cell_type": "code",
   "execution_count": null,
   "metadata": {
    "colab": {
     "base_uri": "https://localhost:8080/"
    },
    "id": "9J7vhXBWciNG",
    "outputId": "dc5a135b-07ef-4592-ce0d-7ce573e85e71"
   },
   "outputs": [
    {
     "name": "stdout",
     "output_type": "stream",
     "text": [
      "Banco de 2010 de AC baixado!\n",
      "Banco de 2010 de AL baixado!\n",
      "Banco de 2010 de AP baixado!\n",
      "Banco de 2010 de AM baixado!\n",
      "Banco de 2010 de BA baixado!\n",
      "Banco de 2010 de CE baixado!\n",
      "Banco de 2010 de DF baixado!\n",
      "Banco de 2010 de ES baixado!\n",
      "Banco de 2010 de GO baixado!\n",
      "Banco de 2010 de MA baixado!\n",
      "Banco de 2010 de MT baixado!\n",
      "Banco de 2010 de MS baixado!\n",
      "Banco de 2010 de MG baixado!\n",
      "Banco de 2010 de PA baixado!\n",
      "Banco de 2010 de PB baixado!\n",
      "Banco de 2010 de PR baixado!\n",
      "Banco de 2010 de PE baixado!\n",
      "Banco de 2010 de PI baixado!\n",
      "Banco de 2010 de RJ baixado!\n",
      "Banco de 2010 de RN baixado!\n",
      "Banco de 2010 de RS baixado!\n",
      "Banco de 2010 de RO baixado!\n",
      "Banco de 2010 de RR baixado!\n",
      "Banco de 2010 de SC baixado!\n",
      "Banco de 2010 de SP baixado!\n",
      "Banco de 2010 de SE baixado!\n",
      "Banco de 2010 de TO baixado!\n"
     ]
    }
   ],
   "source": [
    "estados = ['AC','AL','AP','AM','BA','CE','DF','ES','GO',\n",
    "          'MA','MT','MS','MG','PA','PB','PR','PE','PI',\n",
    "          'RJ','RN','RS','RO','RR','SC','SP','SE','TO']\n",
    "\n",
    "ano = [2010]\n",
    "\n",
    "banco={}\n",
    "for y in ano:\n",
    "    for uf in estados:\n",
    "        banco[uf, y] = download(state = uf, year=y)\n",
    "        print(\"Banco de \" + str(y) + \" de \" + str(uf) + \" baixado!\")"
   ]
  },
  {
   "cell_type": "code",
   "execution_count": null,
   "metadata": {
    "id": "bQZipQ7Wectl"
   },
   "outputs": [],
   "source": [
    "todos_10 = pd.concat(\n",
    "    {k: pd.DataFrame.from_dict(v) for k, v in banco.items() },\n",
    "    axis=0).reset_index()"
   ]
  },
  {
   "cell_type": "code",
   "execution_count": null,
   "metadata": {
    "colab": {
     "base_uri": "https://localhost:8080/"
    },
    "id": "fAdg9DfMexvI",
    "outputId": "3b1d7520-167e-4350-bbe9-163dbf91127b"
   },
   "outputs": [
    {
     "name": "stdout",
     "output_type": "stream",
     "text": [
      "<class 'pandas.core.frame.DataFrame'>\n",
      "Int64Index: 9476 entries, 157 to 1136880\n",
      "Data columns (total 63 columns):\n",
      " #   Column      Non-Null Count  Dtype \n",
      "---  ------      --------------  ----- \n",
      " 0   level_0     9476 non-null   object\n",
      " 1   level_1     9476 non-null   int64 \n",
      " 2   level_2     9476 non-null   int64 \n",
      " 3   contador    41 non-null     object\n",
      " 4   ORIGEM      9476 non-null   object\n",
      " 5   TIPOBITO    9476 non-null   object\n",
      " 6   DTOBITO     9476 non-null   object\n",
      " 7   HORAOBITO   9476 non-null   object\n",
      " 8   NATURAL     9476 non-null   object\n",
      " 9   DTNASC      9476 non-null   object\n",
      " 10  IDADE       9476 non-null   object\n",
      " 11  SEXO        9476 non-null   object\n",
      " 12  RACACOR     9476 non-null   object\n",
      " 13  ESTCIV      9476 non-null   object\n",
      " 14  ESC         9476 non-null   object\n",
      " 15  OCUP        9476 non-null   object\n",
      " 16  CODMUNRES   9476 non-null   object\n",
      " 17  CODBAIRES   9476 non-null   object\n",
      " 18  LOCOCOR     9476 non-null   object\n",
      " 19  CODESTAB    9476 non-null   object\n",
      " 20  CODMUNOCOR  9476 non-null   object\n",
      " 21  CODBAIOCOR  9476 non-null   object\n",
      " 22  IDADEMAE    9476 non-null   object\n",
      " 23  ESCMAE      9476 non-null   object\n",
      " 24  OCUPMAE     9476 non-null   object\n",
      " 25  QTDFILVIVO  9476 non-null   object\n",
      " 26  QTDFILMORT  9476 non-null   object\n",
      " 27  GRAVIDEZ    9476 non-null   object\n",
      " 28  GESTACAO    9476 non-null   object\n",
      " 29  PARTO       9476 non-null   object\n",
      " 30  OBITOPARTO  9476 non-null   object\n",
      " 31  PESO        9476 non-null   object\n",
      " 32  NUMERODN    41 non-null     object\n",
      " 33  OBITOGRAV   9476 non-null   object\n",
      " 34  OBITOPUERP  9476 non-null   object\n",
      " 35  ASSISTMED   9476 non-null   object\n",
      " 36  EXAME       9476 non-null   object\n",
      " 37  CIRURGIA    9476 non-null   object\n",
      " 38  NECROPSIA   9476 non-null   object\n",
      " 39  LINHAA      9476 non-null   object\n",
      " 40  LINHAB      9476 non-null   object\n",
      " 41  LINHAC      9476 non-null   object\n",
      " 42  LINHAD      9476 non-null   object\n",
      " 43  LINHAII     9476 non-null   object\n",
      " 44  CAUSABAS    9476 non-null   object\n",
      " 45  DTATESTADO  9476 non-null   object\n",
      " 46  CIRCOBITO   9476 non-null   object\n",
      " 47  ACIDTRAB    9476 non-null   object\n",
      " 48  FONTE       9476 non-null   object\n",
      " 49  TPPOS       9476 non-null   object\n",
      " 50  DTINVESTIG  9476 non-null   object\n",
      " 51  CAUSABAS_O  9476 non-null   object\n",
      " 52  DTCADASTRO  9476 non-null   object\n",
      " 53  ATESTANTE   9476 non-null   object\n",
      " 54  FONTEINV    9476 non-null   object\n",
      " 55  DTRECEBIM   9476 non-null   object\n",
      " 56  UFINFORM    9476 non-null   object\n",
      " 57  CB_PRE      9476 non-null   object\n",
      " 58  MORTEPARTO  9476 non-null   object\n",
      " 59  DTCADINF    9476 non-null   object\n",
      " 60  TPOBITOCOR  9476 non-null   object\n",
      " 61  DTCADINV    9476 non-null   object\n",
      " 62  CONTADOR    9435 non-null   object\n",
      "dtypes: int64(2), object(61)\n",
      "memory usage: 4.6+ MB\n"
     ]
    }
   ],
   "source": [
    "filter_list=[\"X{}\".format(x) for x in range(600, 850)]\n",
    "\n",
    "df_10 = todos_10[\n",
    "                 todos_10['CAUSABAS'].isin(filter_list) |\n",
    "                 todos_10['CAUSABAS_O'].isin(filter_list)\n",
    "                 ]\n",
    "\n",
    "df_10.info()"
   ]
  },
  {
   "cell_type": "code",
   "execution_count": null,
   "metadata": {
    "id": "FKC0CIZQv0m5"
   },
   "outputs": [],
   "source": [
    "df_10.to_csv('df_10.csv')"
   ]
  },
  {
   "cell_type": "markdown",
   "metadata": {
    "id": "CN2fpD6s0gwR"
   },
   "source": [
    "#### 2011"
   ]
  },
  {
   "cell_type": "code",
   "execution_count": null,
   "metadata": {
    "colab": {
     "base_uri": "https://localhost:8080/"
    },
    "id": "FvR11-Ns0gwS",
    "outputId": "345c80d4-8213-4a50-ef4f-9befd47ab7c5"
   },
   "outputs": [
    {
     "name": "stdout",
     "output_type": "stream",
     "text": [
      "Banco de 2011 de AC baixado!\n",
      "Banco de 2011 de AL baixado!\n",
      "Banco de 2011 de AP baixado!\n",
      "Banco de 2011 de AM baixado!\n",
      "Banco de 2011 de BA baixado!\n",
      "Banco de 2011 de CE baixado!\n",
      "Banco de 2011 de DF baixado!\n",
      "Banco de 2011 de ES baixado!\n",
      "Banco de 2011 de GO baixado!\n",
      "Banco de 2011 de MA baixado!\n",
      "Banco de 2011 de MT baixado!\n",
      "Banco de 2011 de MS baixado!\n",
      "Banco de 2011 de MG baixado!\n",
      "Banco de 2011 de PA baixado!\n",
      "Banco de 2011 de PB baixado!\n",
      "Banco de 2011 de PR baixado!\n",
      "Banco de 2011 de PE baixado!\n",
      "Banco de 2011 de PI baixado!\n",
      "Banco de 2011 de RJ baixado!\n",
      "Banco de 2011 de RN baixado!\n",
      "Banco de 2011 de RS baixado!\n",
      "Banco de 2011 de RO baixado!\n",
      "Banco de 2011 de RR baixado!\n",
      "Banco de 2011 de SC baixado!\n",
      "Banco de 2011 de SP baixado!\n",
      "Banco de 2011 de SE baixado!\n",
      "Banco de 2011 de TO baixado!\n"
     ]
    }
   ],
   "source": [
    "estados = ['AC','AL','AP','AM','BA','CE','DF','ES','GO',\n",
    "          'MA','MT','MS','MG','PA','PB','PR','PE','PI',\n",
    "          'RJ','RN','RS','RO','RR','SC','SP','SE','TO']\n",
    "\n",
    "ano = [2011]\n",
    "\n",
    "banco={}\n",
    "for y in ano:\n",
    "    for uf in estados:\n",
    "        banco[uf, y] = download(state = uf, year=y)\n",
    "        print(\"Banco de \" + str(y) + \" de \" + str(uf) + \" baixado!\")"
   ]
  },
  {
   "cell_type": "code",
   "execution_count": null,
   "metadata": {
    "id": "1Gy6Jzzx0gwr"
   },
   "outputs": [],
   "source": [
    "todos_11 = pd.concat(\n",
    "    {k: pd.DataFrame.from_dict(v) for k, v in banco.items() },\n",
    "    axis=0).reset_index()"
   ]
  },
  {
   "cell_type": "code",
   "execution_count": null,
   "metadata": {
    "colab": {
     "base_uri": "https://localhost:8080/"
    },
    "id": "1_vNIPUB0gws",
    "outputId": "cafe948c-9fbb-42f3-fb11-c2a18e900ede"
   },
   "outputs": [
    {
     "name": "stdout",
     "output_type": "stream",
     "text": [
      "<class 'pandas.core.frame.DataFrame'>\n",
      "Int64Index: 9882 entries, 425 to 1170484\n",
      "Data columns (total 65 columns):\n",
      " #   Column      Non-Null Count  Dtype \n",
      "---  ------      --------------  ----- \n",
      " 0   level_0     9882 non-null   object\n",
      " 1   level_1     9882 non-null   int64 \n",
      " 2   level_2     9882 non-null   int64 \n",
      " 3   CONTADOR    9882 non-null   object\n",
      " 4   ORIGEM      9882 non-null   object\n",
      " 5   TIPOBITO    9882 non-null   object\n",
      " 6   DTOBITO     9882 non-null   object\n",
      " 7   HORAOBITO   9882 non-null   object\n",
      " 8   NATURAL     9882 non-null   object\n",
      " 9   DTNASC      9882 non-null   object\n",
      " 10  IDADE       9882 non-null   object\n",
      " 11  SEXO        9882 non-null   object\n",
      " 12  RACACOR     9882 non-null   object\n",
      " 13  ESTCIV      9882 non-null   object\n",
      " 14  ESC         9882 non-null   object\n",
      " 15  OCUP        9882 non-null   object\n",
      " 16  CODMUNRES   9882 non-null   object\n",
      " 17  LOCOCOR     9882 non-null   object\n",
      " 18  CODESTAB    9882 non-null   object\n",
      " 19  CODMUNOCOR  9882 non-null   object\n",
      " 20  IDADEMAE    9882 non-null   object\n",
      " 21  ESCMAE      9882 non-null   object\n",
      " 22  OCUPMAE     9882 non-null   object\n",
      " 23  QTDFILVIVO  9882 non-null   object\n",
      " 24  QTDFILMORT  9882 non-null   object\n",
      " 25  GRAVIDEZ    9882 non-null   object\n",
      " 26  GESTACAO    9882 non-null   object\n",
      " 27  PARTO       9882 non-null   object\n",
      " 28  OBITOPARTO  9882 non-null   object\n",
      " 29  PESO        9882 non-null   object\n",
      " 30  OBITOGRAV   9882 non-null   object\n",
      " 31  OBITOPUERP  9882 non-null   object\n",
      " 32  ASSISTMED   9882 non-null   object\n",
      " 33  EXAME       9882 non-null   object\n",
      " 34  CIRURGIA    9882 non-null   object\n",
      " 35  NECROPSIA   9882 non-null   object\n",
      " 36  LINHAA      9882 non-null   object\n",
      " 37  LINHAB      9882 non-null   object\n",
      " 38  LINHAC      9882 non-null   object\n",
      " 39  LINHAD      9882 non-null   object\n",
      " 40  LINHAII     9882 non-null   object\n",
      " 41  CAUSABAS    9882 non-null   object\n",
      " 42  COMUNSVOIM  9882 non-null   object\n",
      " 43  DTATESTADO  9882 non-null   object\n",
      " 44  CIRCOBITO   9882 non-null   object\n",
      " 45  ACIDTRAB    9882 non-null   object\n",
      " 46  FONTE       9882 non-null   object\n",
      " 47  TPPOS       9882 non-null   object\n",
      " 48  DTINVESTIG  9882 non-null   object\n",
      " 49  CAUSABAS_O  9882 non-null   object\n",
      " 50  DTCADASTRO  9882 non-null   object\n",
      " 51  ATESTANTE   9882 non-null   object\n",
      " 52  FONTEINV    9882 non-null   object\n",
      " 53  DTRECEBIM   9882 non-null   object\n",
      " 54  DTRECORIG   9882 non-null   object\n",
      " 55  DTRECORIGA  9882 non-null   object\n",
      " 56  CAUSAMAT    9882 non-null   object\n",
      " 57  ESC2010     9882 non-null   object\n",
      " 58  ESCMAE2010  9882 non-null   object\n",
      " 59  STDOEPIDEM  9882 non-null   object\n",
      " 60  STDONOVA    9882 non-null   object\n",
      " 61  DTCADINV    9882 non-null   object\n",
      " 62  TPOBITOCOR  9882 non-null   object\n",
      " 63  DTCADINF    9882 non-null   object\n",
      " 64  MORTEPARTO  9882 non-null   object\n",
      "dtypes: int64(2), object(63)\n",
      "memory usage: 5.0+ MB\n"
     ]
    }
   ],
   "source": [
    "filter_list=[\"X{}\".format(x) for x in range(600, 850)]\n",
    "\n",
    "df_11 = todos_11[\n",
    "                 todos_11['CAUSABAS'].isin(filter_list) |\n",
    "                 todos_11['CAUSABAS_O'].isin(filter_list)\n",
    "                 ]\n",
    "\n",
    "df_11.info()"
   ]
  },
  {
   "cell_type": "code",
   "execution_count": null,
   "metadata": {
    "id": "hQnSLFO_0gwu"
   },
   "outputs": [],
   "source": [
    "df_11.to_csv('df_11.csv')"
   ]
  },
  {
   "cell_type": "markdown",
   "metadata": {
    "id": "iEoKZHdC00BF"
   },
   "source": [
    "#### 2012"
   ]
  },
  {
   "cell_type": "code",
   "execution_count": null,
   "metadata": {
    "colab": {
     "base_uri": "https://localhost:8080/"
    },
    "id": "9QbeKhdK00Bi",
    "outputId": "d96cf98c-776e-4f14-8e14-7851104147f6"
   },
   "outputs": [
    {
     "name": "stdout",
     "output_type": "stream",
     "text": [
      "Banco de 2012 de AC baixado!\n",
      "Banco de 2012 de AL baixado!\n",
      "Banco de 2012 de AP baixado!\n",
      "Banco de 2012 de AM baixado!\n",
      "Banco de 2012 de BA baixado!\n",
      "Banco de 2012 de CE baixado!\n",
      "Banco de 2012 de DF baixado!\n",
      "Banco de 2012 de ES baixado!\n",
      "Banco de 2012 de GO baixado!\n",
      "Banco de 2012 de MA baixado!\n",
      "Banco de 2012 de MT baixado!\n",
      "Banco de 2012 de MS baixado!\n",
      "Banco de 2012 de MG baixado!\n",
      "Banco de 2012 de PA baixado!\n",
      "Banco de 2012 de PB baixado!\n",
      "Banco de 2012 de PR baixado!\n",
      "Banco de 2012 de PE baixado!\n",
      "Banco de 2012 de PI baixado!\n",
      "Banco de 2012 de RJ baixado!\n",
      "Banco de 2012 de RN baixado!\n",
      "Banco de 2012 de RS baixado!\n",
      "Banco de 2012 de RO baixado!\n",
      "Banco de 2012 de RR baixado!\n",
      "Banco de 2012 de SC baixado!\n",
      "Banco de 2012 de SP baixado!\n",
      "Banco de 2012 de SE baixado!\n",
      "Banco de 2012 de TO baixado!\n"
     ]
    }
   ],
   "source": [
    "estados = ['AC','AL','AP','AM','BA','CE','DF','ES','GO',\n",
    "          'MA','MT','MS','MG','PA','PB','PR','PE','PI',\n",
    "          'RJ','RN','RS','RO','RR','SC','SP','SE','TO']\n",
    "\n",
    "ano = [2012]\n",
    "\n",
    "banco={}\n",
    "for y in ano:\n",
    "    for uf in estados:\n",
    "        banco[uf, y] = download(state = uf, year=y)\n",
    "        print(\"Banco de \" + str(y) + \" de \" + str(uf) + \" baixado!\")"
   ]
  },
  {
   "cell_type": "code",
   "execution_count": null,
   "metadata": {
    "id": "wiPnCT2m00Bl"
   },
   "outputs": [],
   "source": [
    "todos_12 = pd.concat(\n",
    "    {k: pd.DataFrame.from_dict(v) for k, v in banco.items() },\n",
    "    axis=0).reset_index()"
   ]
  },
  {
   "cell_type": "code",
   "execution_count": null,
   "metadata": {
    "colab": {
     "base_uri": "https://localhost:8080/"
    },
    "id": "PRWfeNE000Bm",
    "outputId": "a798e2d6-3d7e-4e02-f658-973ac4d0fecf"
   },
   "outputs": [
    {
     "name": "stdout",
     "output_type": "stream",
     "text": [
      "<class 'pandas.core.frame.DataFrame'>\n",
      "Int64Index: 10366 entries, 69 to 1180870\n",
      "Data columns (total 80 columns):\n",
      " #   Column      Non-Null Count  Dtype \n",
      "---  ------      --------------  ----- \n",
      " 0   level_0     10366 non-null  object\n",
      " 1   level_1     10366 non-null  int64 \n",
      " 2   level_2     10366 non-null  int64 \n",
      " 3   CONTADOR    10366 non-null  object\n",
      " 4   ORIGEM      10366 non-null  object\n",
      " 5   TIPOBITO    10366 non-null  object\n",
      " 6   CODMUNCART  3180 non-null   object\n",
      " 7   CODCART     3180 non-null   object\n",
      " 8   NUMREGCART  3180 non-null   object\n",
      " 9   DTREGCART   3180 non-null   object\n",
      " 10  DTOBITO     10366 non-null  object\n",
      " 11  HORAOBITO   10366 non-null  object\n",
      " 12  NATURAL     10366 non-null  object\n",
      " 13  DTNASC      10366 non-null  object\n",
      " 14  IDADE       10366 non-null  object\n",
      " 15  SEXO        10366 non-null  object\n",
      " 16  RACACOR     10366 non-null  object\n",
      " 17  ESTCIV      10366 non-null  object\n",
      " 18  ESC         10366 non-null  object\n",
      " 19  SERIESCFAL  10366 non-null  object\n",
      " 20  ESCMAEAGR1  3180 non-null   object\n",
      " 21  ESCFALAGR1  3180 non-null   object\n",
      " 22  OCUP        10366 non-null  object\n",
      " 23  CODMUNRES   10366 non-null  object\n",
      " 24  LOCOCOR     10366 non-null  object\n",
      " 25  CODESTAB    10366 non-null  object\n",
      " 26  CODMUNOCOR  10366 non-null  object\n",
      " 27  IDADEMAE    10366 non-null  object\n",
      " 28  ESCMAE      10366 non-null  object\n",
      " 29  SERIESCMAE  10366 non-null  object\n",
      " 30  OCUPMAE     10366 non-null  object\n",
      " 31  QTDFILVIVO  10366 non-null  object\n",
      " 32  QTDFILMORT  10366 non-null  object\n",
      " 33  GRAVIDEZ    10366 non-null  object\n",
      " 34  SEMAGESTAC  10366 non-null  object\n",
      " 35  GESTACAO    10366 non-null  object\n",
      " 36  PARTO       10366 non-null  object\n",
      " 37  OBITOPARTO  10366 non-null  object\n",
      " 38  PESO        10366 non-null  object\n",
      " 39  TPMORTEOCO  10366 non-null  object\n",
      " 40  OBITOGRAV   10366 non-null  object\n",
      " 41  OBITOPUERP  10366 non-null  object\n",
      " 42  ASSISTMED   10366 non-null  object\n",
      " 43  EXAME       10366 non-null  object\n",
      " 44  CIRURGIA    10366 non-null  object\n",
      " 45  NECROPSIA   10366 non-null  object\n",
      " 46  LINHAA      10366 non-null  object\n",
      " 47  LINHAB      10366 non-null  object\n",
      " 48  LINHAC      10366 non-null  object\n",
      " 49  LINHAD      10366 non-null  object\n",
      " 50  LINHAII     10366 non-null  object\n",
      " 51  CAUSABAS    10366 non-null  object\n",
      " 52  COMUNSVOIM  10366 non-null  object\n",
      " 53  DTATESTADO  10366 non-null  object\n",
      " 54  CIRCOBITO   10366 non-null  object\n",
      " 55  ACIDTRAB    10366 non-null  object\n",
      " 56  FONTE       10366 non-null  object\n",
      " 57  TPPOS       10366 non-null  object\n",
      " 58  DTINVESTIG  10366 non-null  object\n",
      " 59  CAUSABAS_O  10366 non-null  object\n",
      " 60  DTCADASTRO  10366 non-null  object\n",
      " 61  ATESTANTE   10366 non-null  object\n",
      " 62  FONTEINV    10366 non-null  object\n",
      " 63  DTRECEBIM   10366 non-null  object\n",
      " 64  DTRECORIG   3180 non-null   object\n",
      " 65  DTRECORIGA  10366 non-null  object\n",
      " 66  CAUSAMAT    10366 non-null  object\n",
      " 67  ESC2010     10366 non-null  object\n",
      " 68  ESCMAE2010  10366 non-null  object\n",
      " 69  EXPDIFDATA  3180 non-null   object\n",
      " 70  DIFDATA     10366 non-null  object\n",
      " 71  STDOEPIDEM  10366 non-null  object\n",
      " 72  STDONOVA    10366 non-null  object\n",
      " 73  DTCADINV    10366 non-null  object\n",
      " 74  TPOBITOCOR  10366 non-null  object\n",
      " 75  DTCONINV    3180 non-null   object\n",
      " 76  DTCADINF    10366 non-null  object\n",
      " 77  MORTEPARTO  10366 non-null  object\n",
      " 78  DTCONCASO   10366 non-null  object\n",
      " 79  NUDIASOBIN  10366 non-null  object\n",
      "dtypes: int64(2), object(78)\n",
      "memory usage: 6.4+ MB\n"
     ]
    }
   ],
   "source": [
    "filter_list=[\"X{}\".format(x) for x in range(600, 850)]\n",
    "\n",
    "df_12 = todos_12[\n",
    "                 todos_12['CAUSABAS'].isin(filter_list) |\n",
    "                 todos_12['CAUSABAS_O'].isin(filter_list)\n",
    "                 ]\n",
    "\n",
    "df_12.info()"
   ]
  },
  {
   "cell_type": "code",
   "execution_count": null,
   "metadata": {
    "id": "NtLmpMyd00Bo"
   },
   "outputs": [],
   "source": [
    "df_12.to_csv('df_12.csv')"
   ]
  },
  {
   "cell_type": "markdown",
   "metadata": {
    "id": "dgslotis1NOr"
   },
   "source": [
    "#### 2013"
   ]
  },
  {
   "cell_type": "code",
   "execution_count": null,
   "metadata": {
    "colab": {
     "base_uri": "https://localhost:8080/"
    },
    "id": "_JM05wgd1NPG",
    "outputId": "3a2802ef-58fd-4829-b81a-d39b01aff691"
   },
   "outputs": [
    {
     "name": "stderr",
     "output_type": "stream",
     "text": [
      "/usr/local/lib/python3.7/dist-packages/pysus/online_data/SIM.py:65: UserWarning: this is an initial implementation of Parquet/Feather file support and associated metadata.  This is tracking version 0.1.0 of the metadata specification at https://github.com/geopandas/geo-arrow-spec\n",
      "\n",
      "This metadata specification does not yet make stability promises.  We do not yet recommend using this in a production setting unless you are able to rewrite your Parquet/Feather files.\n",
      "\n",
      "To further ignore this warning, you can do: \n",
      "import warnings; warnings.filterwarnings('ignore', message='.*initial implementation of Parquet.*')\n",
      "  df.to_parquet(cachefile)\n"
     ]
    },
    {
     "name": "stdout",
     "output_type": "stream",
     "text": [
      "Banco de 2013 de AC baixado!\n",
      "Banco de 2013 de AL baixado!\n",
      "Banco de 2013 de AP baixado!\n",
      "Banco de 2013 de AM baixado!\n",
      "Banco de 2013 de BA baixado!\n",
      "Banco de 2013 de CE baixado!\n",
      "Banco de 2013 de DF baixado!\n",
      "Banco de 2013 de ES baixado!\n",
      "Banco de 2013 de GO baixado!\n",
      "Banco de 2013 de MA baixado!\n",
      "Banco de 2013 de MT baixado!\n",
      "Banco de 2013 de MS baixado!\n",
      "Banco de 2013 de MG baixado!\n",
      "Banco de 2013 de PA baixado!\n",
      "Banco de 2013 de PB baixado!\n",
      "Banco de 2013 de PR baixado!\n",
      "Banco de 2013 de PE baixado!\n",
      "Banco de 2013 de PI baixado!\n",
      "Banco de 2013 de RJ baixado!\n",
      "Banco de 2013 de RN baixado!\n",
      "Banco de 2013 de RS baixado!\n",
      "Banco de 2013 de RO baixado!\n",
      "Banco de 2013 de RR baixado!\n",
      "Banco de 2013 de SC baixado!\n",
      "Banco de 2013 de SP baixado!\n",
      "Banco de 2013 de SE baixado!\n",
      "Banco de 2013 de TO baixado!\n"
     ]
    }
   ],
   "source": [
    "estados = ['AC','AL','AP','AM','BA','CE','DF','ES','GO',\n",
    "          'MA','MT','MS','MG','PA','PB','PR','PE','PI',\n",
    "          'RJ','RN','RS','RO','RR','SC','SP','SE','TO']\n",
    "\n",
    "ano = [2013]\n",
    "\n",
    "banco={}\n",
    "for y in ano:\n",
    "    for uf in estados:\n",
    "        banco[uf, y] = download(state = uf, year=y)\n",
    "        print(\"Banco de \" + str(y) + \" de \" + str(uf) + \" baixado!\")"
   ]
  },
  {
   "cell_type": "code",
   "execution_count": null,
   "metadata": {
    "id": "xMlaaeo11NPJ"
   },
   "outputs": [],
   "source": [
    "todos_13 = pd.concat(\n",
    "    {k: pd.DataFrame.from_dict(v) for k, v in banco.items() },\n",
    "    axis=0).reset_index()"
   ]
  },
  {
   "cell_type": "code",
   "execution_count": null,
   "metadata": {
    "colab": {
     "base_uri": "https://localhost:8080/"
    },
    "id": "8R3Td9Pr1NPK",
    "outputId": "f842537b-8c19-4d21-8099-14407d59c5be"
   },
   "outputs": [
    {
     "name": "stdout",
     "output_type": "stream",
     "text": [
      "<class 'pandas.core.frame.DataFrame'>\n",
      "Int64Index: 10579 entries, 238 to 1210469\n",
      "Data columns (total 76 columns):\n",
      " #   Column      Non-Null Count  Dtype \n",
      "---  ------      --------------  ----- \n",
      " 0   level_0     10579 non-null  object\n",
      " 1   level_1     10579 non-null  int64 \n",
      " 2   level_2     10579 non-null  int64 \n",
      " 3   CONTADOR    10579 non-null  object\n",
      " 4   ORIGEM      10579 non-null  object\n",
      " 5   TIPOBITO    10579 non-null  object\n",
      " 6   CODMUNCART  10579 non-null  object\n",
      " 7   CODCART     10579 non-null  object\n",
      " 8   NUMREGCART  10579 non-null  object\n",
      " 9   DTREGCART   10579 non-null  object\n",
      " 10  DTOBITO     10579 non-null  object\n",
      " 11  HORAOBITO   10579 non-null  object\n",
      " 12  NATURAL     10579 non-null  object\n",
      " 13  DTNASC      10579 non-null  object\n",
      " 14  IDADE       10579 non-null  object\n",
      " 15  SEXO        10579 non-null  object\n",
      " 16  RACACOR     10579 non-null  object\n",
      " 17  ESTCIV      10579 non-null  object\n",
      " 18  ESC         10579 non-null  object\n",
      " 19  ESC2010     10579 non-null  object\n",
      " 20  SERIESCFAL  10579 non-null  object\n",
      " 21  OCUP        10579 non-null  object\n",
      " 22  CODMUNRES   10579 non-null  object\n",
      " 23  LOCOCOR     10579 non-null  object\n",
      " 24  CODESTAB    10579 non-null  object\n",
      " 25  CODMUNOCOR  10579 non-null  object\n",
      " 26  IDADEMAE    10579 non-null  object\n",
      " 27  ESCMAE      10579 non-null  object\n",
      " 28  ESCMAE2010  10579 non-null  object\n",
      " 29  SERIESCMAE  10579 non-null  object\n",
      " 30  OCUPMAE     10579 non-null  object\n",
      " 31  QTDFILVIVO  10579 non-null  object\n",
      " 32  QTDFILMORT  10579 non-null  object\n",
      " 33  GRAVIDEZ    10579 non-null  object\n",
      " 34  SEMAGESTAC  10579 non-null  object\n",
      " 35  GESTACAO    10579 non-null  object\n",
      " 36  PARTO       10579 non-null  object\n",
      " 37  OBITOPARTO  10579 non-null  object\n",
      " 38  PESO        10579 non-null  object\n",
      " 39  TPMORTEOCO  10579 non-null  object\n",
      " 40  OBITOGRAV   10579 non-null  object\n",
      " 41  OBITOPUERP  10579 non-null  object\n",
      " 42  ASSISTMED   10579 non-null  object\n",
      " 43  EXAME       10579 non-null  object\n",
      " 44  CIRURGIA    10579 non-null  object\n",
      " 45  NECROPSIA   10579 non-null  object\n",
      " 46  LINHAA      10579 non-null  object\n",
      " 47  LINHAB      10579 non-null  object\n",
      " 48  LINHAC      10579 non-null  object\n",
      " 49  LINHAD      10579 non-null  object\n",
      " 50  LINHAII     10579 non-null  object\n",
      " 51  CAUSABAS    10579 non-null  object\n",
      " 52  COMUNSVOIM  10579 non-null  object\n",
      " 53  DTATESTADO  10579 non-null  object\n",
      " 54  CIRCOBITO   10579 non-null  object\n",
      " 55  ACIDTRAB    10579 non-null  object\n",
      " 56  FONTE       10579 non-null  object\n",
      " 57  TPPOS       10579 non-null  object\n",
      " 58  DTINVESTIG  10579 non-null  object\n",
      " 59  CAUSABAS_O  10579 non-null  object\n",
      " 60  DTCADASTRO  10579 non-null  object\n",
      " 61  ATESTANTE   10579 non-null  object\n",
      " 62  FONTEINV    10579 non-null  object\n",
      " 63  DTRECEBIM   10579 non-null  object\n",
      " 64  DTRECORIG   10579 non-null  object\n",
      " 65  CAUSAMAT    10579 non-null  object\n",
      " 66  DIFDATA     10579 non-null  object\n",
      " 67  STDOEPIDEM  10579 non-null  object\n",
      " 68  STDONOVA    10579 non-null  object\n",
      " 69  DTCADINV    10579 non-null  object\n",
      " 70  TPOBITOCOR  10579 non-null  object\n",
      " 71  DTCONINV    10579 non-null  object\n",
      " 72  DTCADINF    10579 non-null  object\n",
      " 73  MORTEPARTO  10579 non-null  object\n",
      " 74  DTCONCASO   10579 non-null  object\n",
      " 75  NUDIASOBIN  10579 non-null  object\n",
      "dtypes: int64(2), object(74)\n",
      "memory usage: 6.2+ MB\n"
     ]
    }
   ],
   "source": [
    "filter_list=[\"X{}\".format(x) for x in range(600, 850)]\n",
    "\n",
    "df_13 = todos_13[\n",
    "                 todos_13['CAUSABAS'].isin(filter_list) |\n",
    "                 todos_13['CAUSABAS_O'].isin(filter_list)\n",
    "                 ]\n",
    "\n",
    "df_13.info()"
   ]
  },
  {
   "cell_type": "code",
   "execution_count": null,
   "metadata": {
    "id": "pYYRNwJY1NPM"
   },
   "outputs": [],
   "source": [
    "df_13.to_csv('df_13.csv')"
   ]
  },
  {
   "cell_type": "markdown",
   "metadata": {
    "id": "frpRMNkT27pN"
   },
   "source": [
    "#### 2014"
   ]
  },
  {
   "cell_type": "code",
   "execution_count": null,
   "metadata": {
    "colab": {
     "base_uri": "https://localhost:8080/"
    },
    "id": "c7Rqzqud27pV",
    "outputId": "a4e482d6-22de-4149-fefa-e267be68530c"
   },
   "outputs": [
    {
     "name": "stderr",
     "output_type": "stream",
     "text": [
      "/usr/local/lib/python3.7/dist-packages/pysus/online_data/SIM.py:65: UserWarning: this is an initial implementation of Parquet/Feather file support and associated metadata.  This is tracking version 0.1.0 of the metadata specification at https://github.com/geopandas/geo-arrow-spec\n",
      "\n",
      "This metadata specification does not yet make stability promises.  We do not yet recommend using this in a production setting unless you are able to rewrite your Parquet/Feather files.\n",
      "\n",
      "To further ignore this warning, you can do: \n",
      "import warnings; warnings.filterwarnings('ignore', message='.*initial implementation of Parquet.*')\n",
      "  df.to_parquet(cachefile)\n"
     ]
    },
    {
     "name": "stdout",
     "output_type": "stream",
     "text": [
      "Banco de 2014 de AC baixado!\n",
      "Banco de 2014 de AL baixado!\n",
      "Banco de 2014 de AP baixado!\n",
      "Banco de 2014 de AM baixado!\n",
      "Banco de 2014 de BA baixado!\n",
      "Banco de 2014 de CE baixado!\n",
      "Banco de 2014 de DF baixado!\n",
      "Banco de 2014 de ES baixado!\n",
      "Banco de 2014 de GO baixado!\n",
      "Banco de 2014 de MA baixado!\n",
      "Banco de 2014 de MT baixado!\n",
      "Banco de 2014 de MS baixado!\n",
      "Banco de 2014 de MG baixado!\n",
      "Banco de 2014 de PA baixado!\n",
      "Banco de 2014 de PB baixado!\n",
      "Banco de 2014 de PR baixado!\n",
      "Banco de 2014 de PE baixado!\n",
      "Banco de 2014 de PI baixado!\n",
      "Banco de 2014 de RJ baixado!\n",
      "Banco de 2014 de RN baixado!\n",
      "Banco de 2014 de RS baixado!\n",
      "Banco de 2014 de RO baixado!\n",
      "Banco de 2014 de RR baixado!\n",
      "Banco de 2014 de SC baixado!\n",
      "Banco de 2014 de SP baixado!\n",
      "Banco de 2014 de SE baixado!\n",
      "Banco de 2014 de TO baixado!\n"
     ]
    }
   ],
   "source": [
    "estados = ['AC','AL','AP','AM','BA','CE','DF','ES','GO',\n",
    "          'MA','MT','MS','MG','PA','PB','PR','PE','PI',\n",
    "          'RJ','RN','RS','RO','RR','SC','SP','SE','TO']\n",
    "\n",
    "ano = [2014]\n",
    "\n",
    "banco={}\n",
    "for y in ano:\n",
    "    for uf in estados:\n",
    "        banco[uf, y] = download(state = uf, year=y)\n",
    "        print(\"Banco de \" + str(y) + \" de \" + str(uf) + \" baixado!\")"
   ]
  },
  {
   "cell_type": "code",
   "execution_count": null,
   "metadata": {
    "id": "bf-QbIBG27pZ"
   },
   "outputs": [],
   "source": [
    "todos_14 = pd.concat(\n",
    "    {k: pd.DataFrame.from_dict(v) for k, v in banco.items() },\n",
    "    axis=0).reset_index()"
   ]
  },
  {
   "cell_type": "code",
   "execution_count": null,
   "metadata": {
    "colab": {
     "base_uri": "https://localhost:8080/"
    },
    "id": "Je6p15l827pa",
    "outputId": "2d0d1596-1748-4089-b31c-55619225466d"
   },
   "outputs": [
    {
     "name": "stdout",
     "output_type": "stream",
     "text": [
      "<class 'pandas.core.frame.DataFrame'>\n",
      "Int64Index: 10683 entries, 14 to 1226839\n",
      "Data columns (total 91 columns):\n",
      " #   Column      Non-Null Count  Dtype \n",
      "---  ------      --------------  ----- \n",
      " 0   level_0     10683 non-null  object\n",
      " 1   level_1     10683 non-null  int64 \n",
      " 2   level_2     10683 non-null  int64 \n",
      " 3   CONTADOR    10683 non-null  object\n",
      " 4   ORIGEM      10683 non-null  object\n",
      " 5   TIPOBITO    10683 non-null  object\n",
      " 6   DTOBITO     10683 non-null  object\n",
      " 7   HORAOBITO   10683 non-null  object\n",
      " 8   NATURAL     10683 non-null  object\n",
      " 9   CODMUNNATU  10683 non-null  object\n",
      " 10  DTNASC      10683 non-null  object\n",
      " 11  IDADE       10683 non-null  object\n",
      " 12  SEXO        10683 non-null  object\n",
      " 13  RACACOR     10683 non-null  object\n",
      " 14  ESTCIV      10683 non-null  object\n",
      " 15  ESC         10683 non-null  object\n",
      " 16  ESC2010     10683 non-null  object\n",
      " 17  SERIESCFAL  10683 non-null  object\n",
      " 18  OCUP        10683 non-null  object\n",
      " 19  CODMUNRES   10683 non-null  object\n",
      " 20  LOCOCOR     10683 non-null  object\n",
      " 21  CODESTAB    10683 non-null  object\n",
      " 22  ESTABDESCR  10683 non-null  object\n",
      " 23  CODMUNOCOR  10683 non-null  object\n",
      " 24  IDADEMAE    10683 non-null  object\n",
      " 25  ESCMAE      10683 non-null  object\n",
      " 26  ESCMAE2010  10683 non-null  object\n",
      " 27  SERIESCMAE  10683 non-null  object\n",
      " 28  OCUPMAE     10683 non-null  object\n",
      " 29  QTDFILVIVO  10683 non-null  object\n",
      " 30  QTDFILMORT  10683 non-null  object\n",
      " 31  GRAVIDEZ    10683 non-null  object\n",
      " 32  SEMAGESTAC  10683 non-null  object\n",
      " 33  GESTACAO    10683 non-null  object\n",
      " 34  PARTO       10683 non-null  object\n",
      " 35  OBITOPARTO  10683 non-null  object\n",
      " 36  PESO        10683 non-null  object\n",
      " 37  TPMORTEOCO  10683 non-null  object\n",
      " 38  OBITOGRAV   10683 non-null  object\n",
      " 39  OBITOPUERP  10683 non-null  object\n",
      " 40  ASSISTMED   10683 non-null  object\n",
      " 41  EXAME       10683 non-null  object\n",
      " 42  CIRURGIA    10683 non-null  object\n",
      " 43  NECROPSIA   10683 non-null  object\n",
      " 44  LINHAA      10683 non-null  object\n",
      " 45  LINHAB      10683 non-null  object\n",
      " 46  LINHAC      10683 non-null  object\n",
      " 47  LINHAD      10683 non-null  object\n",
      " 48  LINHAII     10683 non-null  object\n",
      " 49  CAUSABAS    10683 non-null  object\n",
      " 50  CB_PRE      10683 non-null  object\n",
      " 51  CRM         10683 non-null  object\n",
      " 52  COMUNSVOIM  10683 non-null  object\n",
      " 53  DTATESTADO  10683 non-null  object\n",
      " 54  CIRCOBITO   10683 non-null  object\n",
      " 55  ACIDTRAB    10683 non-null  object\n",
      " 56  FONTE       10683 non-null  object\n",
      " 57  NUMEROLOTE  10683 non-null  object\n",
      " 58  TPPOS       10683 non-null  object\n",
      " 59  DTINVESTIG  10683 non-null  object\n",
      " 60  CAUSABAS_O  10683 non-null  object\n",
      " 61  DTCADASTRO  10683 non-null  object\n",
      " 62  ATESTANTE   10683 non-null  object\n",
      " 63  STCODIFICA  10683 non-null  object\n",
      " 64  CODIFICADO  10683 non-null  object\n",
      " 65  VERSAOSIST  10683 non-null  object\n",
      " 66  VERSAOSCB   10683 non-null  object\n",
      " 67  FONTEINV    10683 non-null  object\n",
      " 68  DTRECEBIM   10683 non-null  object\n",
      " 69  ATESTADO    10683 non-null  object\n",
      " 70  DTRECORIGA  10683 non-null  object\n",
      " 71  CAUSAMAT    10683 non-null  object\n",
      " 72  ESCMAEAGR1  10683 non-null  object\n",
      " 73  ESCFALAGR1  10683 non-null  object\n",
      " 74  STDOEPIDEM  10683 non-null  object\n",
      " 75  STDONOVA    10683 non-null  object\n",
      " 76  DIFDATA     10683 non-null  object\n",
      " 77  NUDIASOBCO  10683 non-null  object\n",
      " 78  NUDIASOBIN  10683 non-null  object\n",
      " 79  DTCADINV    10683 non-null  object\n",
      " 80  TPOBITOCOR  10683 non-null  object\n",
      " 81  DTCONINV    10683 non-null  object\n",
      " 82  FONTES      10683 non-null  object\n",
      " 83  TPRESGINFO  10683 non-null  object\n",
      " 84  TPNIVELINV  10683 non-null  object\n",
      " 85  NUDIASINF   10683 non-null  object\n",
      " 86  DTCADINF    10683 non-null  object\n",
      " 87  MORTEPARTO  10683 non-null  object\n",
      " 88  DTCONCASO   10683 non-null  object\n",
      " 89  FONTESINF   10683 non-null  object\n",
      " 90  ALTCAUSA    10683 non-null  object\n",
      "dtypes: int64(2), object(89)\n",
      "memory usage: 7.5+ MB\n"
     ]
    }
   ],
   "source": [
    "filter_list=[\"X{}\".format(x) for x in range(600, 850)]\n",
    "\n",
    "df_14 = todos_14[\n",
    "                 todos_14['CAUSABAS'].isin(filter_list) |\n",
    "                 todos_14['CAUSABAS_O'].isin(filter_list)\n",
    "                 ]\n",
    "\n",
    "df_14.info()"
   ]
  },
  {
   "cell_type": "code",
   "execution_count": null,
   "metadata": {
    "id": "zh6vle7A27pc"
   },
   "outputs": [],
   "source": [
    "df_14.to_csv('df_14.csv')"
   ]
  },
  {
   "cell_type": "markdown",
   "metadata": {
    "id": "MQmO2ICxDzT4"
   },
   "source": [
    "#### 2015"
   ]
  },
  {
   "cell_type": "code",
   "execution_count": null,
   "metadata": {
    "colab": {
     "base_uri": "https://localhost:8080/"
    },
    "id": "CsDwUKBPDzUA",
    "outputId": "1ab5377a-1417-49db-fc9a-e0ac1dec5014"
   },
   "outputs": [
    {
     "name": "stdout",
     "output_type": "stream",
     "text": [
      "Banco de 2015 de AC baixado!\n",
      "Banco de 2015 de AL baixado!\n",
      "Banco de 2015 de AP baixado!\n",
      "Banco de 2015 de AM baixado!\n",
      "Banco de 2015 de BA baixado!\n",
      "Banco de 2015 de CE baixado!\n",
      "Banco de 2015 de DF baixado!\n",
      "Banco de 2015 de ES baixado!\n",
      "Banco de 2015 de GO baixado!\n",
      "Banco de 2015 de MA baixado!\n",
      "Banco de 2015 de MT baixado!\n",
      "Banco de 2015 de MS baixado!\n",
      "Banco de 2015 de MG baixado!\n",
      "Banco de 2015 de PA baixado!\n",
      "Banco de 2015 de PB baixado!\n",
      "Banco de 2015 de PR baixado!\n",
      "Banco de 2015 de PE baixado!\n",
      "Banco de 2015 de PI baixado!\n",
      "Banco de 2015 de RJ baixado!\n",
      "Banco de 2015 de RN baixado!\n",
      "Banco de 2015 de RS baixado!\n",
      "Banco de 2015 de RO baixado!\n",
      "Banco de 2015 de RR baixado!\n",
      "Banco de 2015 de SC baixado!\n",
      "Banco de 2015 de SP baixado!\n",
      "Banco de 2015 de SE baixado!\n",
      "Banco de 2015 de TO baixado!\n"
     ]
    }
   ],
   "source": [
    "estados = ['AC','AL','AP','AM','BA','CE','DF','ES','GO',\n",
    "          'MA','MT','MS','MG','PA','PB','PR','PE','PI',\n",
    "          'RJ','RN','RS','RO','RR','SC','SP','SE','TO']\n",
    "\n",
    "ano = [2015]\n",
    "\n",
    "banco={}\n",
    "for y in ano:\n",
    "    for uf in estados:\n",
    "        banco[uf, y] = download(state = uf, year=y)\n",
    "        print(\"Banco de \" + str(y) + \" de \" + str(uf) + \" baixado!\")"
   ]
  },
  {
   "cell_type": "code",
   "execution_count": null,
   "metadata": {
    "id": "RHqe8FRXDzUE"
   },
   "outputs": [],
   "source": [
    "todos_15 = pd.concat(\n",
    "    {k: pd.DataFrame.from_dict(v) for k, v in banco.items() },\n",
    "    axis=0).reset_index()"
   ]
  },
  {
   "cell_type": "code",
   "execution_count": null,
   "metadata": {
    "colab": {
     "base_uri": "https://localhost:8080/"
    },
    "id": "Jbf5OWXwDzUF",
    "outputId": "ff49dffb-f3b2-454f-ac6e-ee3aaba414cb"
   },
   "outputs": [
    {
     "name": "stdout",
     "output_type": "stream",
     "text": [
      "<class 'pandas.core.frame.DataFrame'>\n",
      "Int64Index: 11211 entries, 202 to 1264169\n",
      "Data columns (total 91 columns):\n",
      " #   Column      Non-Null Count  Dtype \n",
      "---  ------      --------------  ----- \n",
      " 0   level_0     11211 non-null  object\n",
      " 1   level_1     11211 non-null  int64 \n",
      " 2   level_2     11211 non-null  int64 \n",
      " 3   CONTADOR    11211 non-null  object\n",
      " 4   ORIGEM      11211 non-null  object\n",
      " 5   TIPOBITO    11211 non-null  object\n",
      " 6   DTOBITO     11211 non-null  object\n",
      " 7   HORAOBITO   11211 non-null  object\n",
      " 8   NATURAL     11211 non-null  object\n",
      " 9   CODMUNNATU  11211 non-null  object\n",
      " 10  DTNASC      11211 non-null  object\n",
      " 11  IDADE       11211 non-null  object\n",
      " 12  SEXO        11211 non-null  object\n",
      " 13  RACACOR     11211 non-null  object\n",
      " 14  ESTCIV      11211 non-null  object\n",
      " 15  ESC         11211 non-null  object\n",
      " 16  ESC2010     11211 non-null  object\n",
      " 17  SERIESCFAL  11211 non-null  object\n",
      " 18  OCUP        11211 non-null  object\n",
      " 19  CODMUNRES   11211 non-null  object\n",
      " 20  LOCOCOR     11211 non-null  object\n",
      " 21  CODESTAB    11211 non-null  object\n",
      " 22  ESTABDESCR  11211 non-null  object\n",
      " 23  CODMUNOCOR  11211 non-null  object\n",
      " 24  IDADEMAE    11211 non-null  object\n",
      " 25  ESCMAE      11211 non-null  object\n",
      " 26  ESCMAE2010  11211 non-null  object\n",
      " 27  SERIESCMAE  11211 non-null  object\n",
      " 28  OCUPMAE     11211 non-null  object\n",
      " 29  QTDFILVIVO  11211 non-null  object\n",
      " 30  QTDFILMORT  11211 non-null  object\n",
      " 31  GRAVIDEZ    11211 non-null  object\n",
      " 32  SEMAGESTAC  11211 non-null  object\n",
      " 33  GESTACAO    11211 non-null  object\n",
      " 34  PARTO       11211 non-null  object\n",
      " 35  OBITOPARTO  11211 non-null  object\n",
      " 36  PESO        11211 non-null  object\n",
      " 37  TPMORTEOCO  11211 non-null  object\n",
      " 38  OBITOGRAV   11211 non-null  object\n",
      " 39  OBITOPUERP  11211 non-null  object\n",
      " 40  ASSISTMED   11211 non-null  object\n",
      " 41  EXAME       11211 non-null  object\n",
      " 42  CIRURGIA    11211 non-null  object\n",
      " 43  NECROPSIA   11211 non-null  object\n",
      " 44  LINHAA      11211 non-null  object\n",
      " 45  LINHAB      11211 non-null  object\n",
      " 46  LINHAC      11211 non-null  object\n",
      " 47  LINHAD      11211 non-null  object\n",
      " 48  LINHAII     11211 non-null  object\n",
      " 49  CAUSABAS    11211 non-null  object\n",
      " 50  CB_PRE      11211 non-null  object\n",
      " 51  CRM         11211 non-null  object\n",
      " 52  COMUNSVOIM  11211 non-null  object\n",
      " 53  DTATESTADO  11211 non-null  object\n",
      " 54  CIRCOBITO   11211 non-null  object\n",
      " 55  ACIDTRAB    11211 non-null  object\n",
      " 56  FONTE       11211 non-null  object\n",
      " 57  NUMEROLOTE  11211 non-null  object\n",
      " 58  TPPOS       11211 non-null  object\n",
      " 59  DTINVESTIG  11211 non-null  object\n",
      " 60  CAUSABAS_O  11211 non-null  object\n",
      " 61  DTCADASTRO  11211 non-null  object\n",
      " 62  ATESTANTE   11211 non-null  object\n",
      " 63  STCODIFICA  11211 non-null  object\n",
      " 64  CODIFICADO  11211 non-null  object\n",
      " 65  VERSAOSIST  11211 non-null  object\n",
      " 66  VERSAOSCB   11211 non-null  object\n",
      " 67  FONTEINV    11211 non-null  object\n",
      " 68  DTRECEBIM   11211 non-null  object\n",
      " 69  ATESTADO    11211 non-null  object\n",
      " 70  DTRECORIGA  11211 non-null  object\n",
      " 71  CAUSAMAT    11211 non-null  object\n",
      " 72  ESCMAEAGR1  11211 non-null  object\n",
      " 73  ESCFALAGR1  11211 non-null  object\n",
      " 74  STDOEPIDEM  11211 non-null  object\n",
      " 75  STDONOVA    11211 non-null  object\n",
      " 76  DIFDATA     11211 non-null  object\n",
      " 77  NUDIASOBCO  11211 non-null  object\n",
      " 78  NUDIASOBIN  11211 non-null  object\n",
      " 79  DTCADINV    11211 non-null  object\n",
      " 80  TPOBITOCOR  11211 non-null  object\n",
      " 81  DTCONINV    11211 non-null  object\n",
      " 82  FONTES      11211 non-null  object\n",
      " 83  TPRESGINFO  11211 non-null  object\n",
      " 84  TPNIVELINV  11211 non-null  object\n",
      " 85  NUDIASINF   11211 non-null  object\n",
      " 86  DTCADINF    11211 non-null  object\n",
      " 87  MORTEPARTO  11211 non-null  object\n",
      " 88  DTCONCASO   11211 non-null  object\n",
      " 89  FONTESINF   11211 non-null  object\n",
      " 90  ALTCAUSA    11211 non-null  object\n",
      "dtypes: int64(2), object(89)\n",
      "memory usage: 7.9+ MB\n"
     ]
    }
   ],
   "source": [
    "filter_list=[\"X{}\".format(x) for x in range(600, 850)]\n",
    "\n",
    "df_15 = todos_15[\n",
    "                 todos_15['CAUSABAS'].isin(filter_list) |\n",
    "                 todos_15['CAUSABAS_O'].isin(filter_list)\n",
    "                 ]\n",
    "\n",
    "df_15.info()"
   ]
  },
  {
   "cell_type": "code",
   "execution_count": null,
   "metadata": {
    "id": "8Nbzch8cDzUH"
   },
   "outputs": [],
   "source": [
    "df_15.to_csv('df_15.csv')"
   ]
  },
  {
   "cell_type": "markdown",
   "metadata": {
    "id": "2yMPgKGDGhEo"
   },
   "source": [
    "#### 2016"
   ]
  },
  {
   "cell_type": "code",
   "execution_count": null,
   "metadata": {
    "colab": {
     "base_uri": "https://localhost:8080/"
    },
    "id": "HIdZN27uGhEs",
    "outputId": "c2156e49-8e26-446a-c5ba-57cb98ad4037"
   },
   "outputs": [
    {
     "name": "stderr",
     "output_type": "stream",
     "text": [
      "/usr/local/lib/python3.7/dist-packages/pysus/online_data/SIM.py:65: UserWarning: this is an initial implementation of Parquet/Feather file support and associated metadata.  This is tracking version 0.1.0 of the metadata specification at https://github.com/geopandas/geo-arrow-spec\n",
      "\n",
      "This metadata specification does not yet make stability promises.  We do not yet recommend using this in a production setting unless you are able to rewrite your Parquet/Feather files.\n",
      "\n",
      "To further ignore this warning, you can do: \n",
      "import warnings; warnings.filterwarnings('ignore', message='.*initial implementation of Parquet.*')\n",
      "  df.to_parquet(cachefile)\n"
     ]
    },
    {
     "name": "stdout",
     "output_type": "stream",
     "text": [
      "Banco de 2016 de AC baixado!\n",
      "Banco de 2016 de AL baixado!\n",
      "Banco de 2016 de AP baixado!\n",
      "Banco de 2016 de AM baixado!\n",
      "Banco de 2016 de BA baixado!\n",
      "Banco de 2016 de CE baixado!\n",
      "Banco de 2016 de DF baixado!\n",
      "Banco de 2016 de ES baixado!\n",
      "Banco de 2016 de GO baixado!\n",
      "Banco de 2016 de MA baixado!\n",
      "Banco de 2016 de MT baixado!\n",
      "Banco de 2016 de MS baixado!\n",
      "Banco de 2016 de MG baixado!\n",
      "Banco de 2016 de PA baixado!\n",
      "Banco de 2016 de PB baixado!\n",
      "Banco de 2016 de PR baixado!\n",
      "Banco de 2016 de PE baixado!\n",
      "Banco de 2016 de PI baixado!\n",
      "Banco de 2016 de RJ baixado!\n",
      "Banco de 2016 de RN baixado!\n",
      "Banco de 2016 de RS baixado!\n",
      "Banco de 2016 de RO baixado!\n",
      "Banco de 2016 de RR baixado!\n",
      "Banco de 2016 de SC baixado!\n",
      "Banco de 2016 de SP baixado!\n",
      "Banco de 2016 de SE baixado!\n",
      "Banco de 2016 de TO baixado!\n"
     ]
    }
   ],
   "source": [
    "estados = ['AC','AL','AP','AM','BA','CE','DF','ES','GO',\n",
    "          'MA','MT','MS','MG','PA','PB','PR','PE','PI',\n",
    "          'RJ','RN','RS','RO','RR','SC','SP','SE','TO']\n",
    "\n",
    "ano = [2016]\n",
    "\n",
    "banco={}\n",
    "for y in ano:\n",
    "    for uf in estados:\n",
    "        banco[uf, y] = download(state = uf, year=y)\n",
    "        print(\"Banco de \" + str(y) + \" de \" + str(uf) + \" baixado!\")"
   ]
  },
  {
   "cell_type": "code",
   "execution_count": null,
   "metadata": {
    "id": "jbkOufeoGhEv"
   },
   "outputs": [],
   "source": [
    "todos_16 = pd.concat(\n",
    "    {k: pd.DataFrame.from_dict(v) for k, v in banco.items() },\n",
    "    axis=0).reset_index()"
   ]
  },
  {
   "cell_type": "code",
   "execution_count": null,
   "metadata": {
    "colab": {
     "base_uri": "https://localhost:8080/"
    },
    "id": "QmZakNHVGhEx",
    "outputId": "ddf0c762-d09b-4e99-bd3a-225142d86775"
   },
   "outputs": [
    {
     "name": "stdout",
     "output_type": "stream",
     "text": [
      "<class 'pandas.core.frame.DataFrame'>\n",
      "Int64Index: 11455 entries, 156 to 1309752\n",
      "Data columns (total 91 columns):\n",
      " #   Column      Non-Null Count  Dtype \n",
      "---  ------      --------------  ----- \n",
      " 0   level_0     11455 non-null  object\n",
      " 1   level_1     11455 non-null  int64 \n",
      " 2   level_2     11455 non-null  int64 \n",
      " 3   CONTADOR    11455 non-null  object\n",
      " 4   ORIGEM      11455 non-null  object\n",
      " 5   TIPOBITO    11455 non-null  object\n",
      " 6   DTOBITO     11455 non-null  object\n",
      " 7   HORAOBITO   11455 non-null  object\n",
      " 8   NATURAL     11455 non-null  object\n",
      " 9   CODMUNNATU  11455 non-null  object\n",
      " 10  DTNASC      11455 non-null  object\n",
      " 11  IDADE       11455 non-null  object\n",
      " 12  SEXO        11455 non-null  object\n",
      " 13  RACACOR     11455 non-null  object\n",
      " 14  ESTCIV      11455 non-null  object\n",
      " 15  ESC         11455 non-null  object\n",
      " 16  ESC2010     11455 non-null  object\n",
      " 17  SERIESCFAL  11455 non-null  object\n",
      " 18  OCUP        11455 non-null  object\n",
      " 19  CODMUNRES   11455 non-null  object\n",
      " 20  LOCOCOR     11455 non-null  object\n",
      " 21  CODESTAB    11455 non-null  object\n",
      " 22  ESTABDESCR  11455 non-null  object\n",
      " 23  CODMUNOCOR  11455 non-null  object\n",
      " 24  IDADEMAE    11455 non-null  object\n",
      " 25  ESCMAE      11455 non-null  object\n",
      " 26  ESCMAE2010  11455 non-null  object\n",
      " 27  SERIESCMAE  11455 non-null  object\n",
      " 28  OCUPMAE     11455 non-null  object\n",
      " 29  QTDFILVIVO  11455 non-null  object\n",
      " 30  QTDFILMORT  11455 non-null  object\n",
      " 31  GRAVIDEZ    11455 non-null  object\n",
      " 32  SEMAGESTAC  11455 non-null  object\n",
      " 33  GESTACAO    11455 non-null  object\n",
      " 34  PARTO       11455 non-null  object\n",
      " 35  OBITOPARTO  11455 non-null  object\n",
      " 36  PESO        11455 non-null  object\n",
      " 37  TPMORTEOCO  11455 non-null  object\n",
      " 38  OBITOGRAV   11455 non-null  object\n",
      " 39  OBITOPUERP  11455 non-null  object\n",
      " 40  ASSISTMED   11455 non-null  object\n",
      " 41  EXAME       11455 non-null  object\n",
      " 42  CIRURGIA    11455 non-null  object\n",
      " 43  NECROPSIA   11455 non-null  object\n",
      " 44  LINHAA      11455 non-null  object\n",
      " 45  LINHAB      11455 non-null  object\n",
      " 46  LINHAC      11455 non-null  object\n",
      " 47  LINHAD      11455 non-null  object\n",
      " 48  LINHAII     11455 non-null  object\n",
      " 49  CAUSABAS    11455 non-null  object\n",
      " 50  CB_PRE      11455 non-null  object\n",
      " 51  CRM         11455 non-null  object\n",
      " 52  COMUNSVOIM  11455 non-null  object\n",
      " 53  DTATESTADO  11455 non-null  object\n",
      " 54  CIRCOBITO   11455 non-null  object\n",
      " 55  ACIDTRAB    11455 non-null  object\n",
      " 56  FONTE       11455 non-null  object\n",
      " 57  NUMEROLOTE  11455 non-null  object\n",
      " 58  TPPOS       11455 non-null  object\n",
      " 59  DTINVESTIG  11455 non-null  object\n",
      " 60  CAUSABAS_O  11455 non-null  object\n",
      " 61  DTCADASTRO  11455 non-null  object\n",
      " 62  ATESTANTE   11455 non-null  object\n",
      " 63  STCODIFICA  11455 non-null  object\n",
      " 64  CODIFICADO  11455 non-null  object\n",
      " 65  VERSAOSIST  11455 non-null  object\n",
      " 66  VERSAOSCB   11455 non-null  object\n",
      " 67  FONTEINV    11455 non-null  object\n",
      " 68  DTRECEBIM   11455 non-null  object\n",
      " 69  ATESTADO    11455 non-null  object\n",
      " 70  DTRECORIGA  11455 non-null  object\n",
      " 71  CAUSAMAT    11455 non-null  object\n",
      " 72  ESCMAEAGR1  11455 non-null  object\n",
      " 73  ESCFALAGR1  11455 non-null  object\n",
      " 74  STDOEPIDEM  11455 non-null  object\n",
      " 75  STDONOVA    11455 non-null  object\n",
      " 76  DIFDATA     11455 non-null  object\n",
      " 77  NUDIASOBCO  11455 non-null  object\n",
      " 78  NUDIASOBIN  11455 non-null  object\n",
      " 79  DTCADINV    11455 non-null  object\n",
      " 80  TPOBITOCOR  11455 non-null  object\n",
      " 81  DTCONINV    11455 non-null  object\n",
      " 82  FONTES      11455 non-null  object\n",
      " 83  TPRESGINFO  11455 non-null  object\n",
      " 84  TPNIVELINV  11455 non-null  object\n",
      " 85  NUDIASINF   11455 non-null  object\n",
      " 86  DTCADINF    11455 non-null  object\n",
      " 87  MORTEPARTO  11455 non-null  object\n",
      " 88  DTCONCASO   11455 non-null  object\n",
      " 89  FONTESINF   11455 non-null  object\n",
      " 90  ALTCAUSA    11455 non-null  object\n",
      "dtypes: int64(2), object(89)\n",
      "memory usage: 8.0+ MB\n"
     ]
    }
   ],
   "source": [
    "filter_list=[\"X{}\".format(x) for x in range(600, 850)]\n",
    "\n",
    "df_16 = todos_16[\n",
    "                 todos_16['CAUSABAS'].isin(filter_list) |\n",
    "                 todos_16['CAUSABAS_O'].isin(filter_list)\n",
    "                 ]\n",
    "\n",
    "df_16.info()"
   ]
  },
  {
   "cell_type": "code",
   "execution_count": null,
   "metadata": {
    "id": "IXiHaeIiGhEy"
   },
   "outputs": [],
   "source": [
    "df_16.to_csv('df_16.csv')"
   ]
  },
  {
   "cell_type": "markdown",
   "metadata": {
    "id": "i_KlU1GdI61C"
   },
   "source": [
    "#### 2017"
   ]
  },
  {
   "cell_type": "code",
   "execution_count": null,
   "metadata": {
    "colab": {
     "base_uri": "https://localhost:8080/"
    },
    "id": "tCYFvdSvI61M",
    "outputId": "f4b09366-63d1-4361-e008-e66b4c31b6e1"
   },
   "outputs": [
    {
     "name": "stderr",
     "output_type": "stream",
     "text": [
      "/usr/local/lib/python3.7/dist-packages/pysus/online_data/SIM.py:65: UserWarning: this is an initial implementation of Parquet/Feather file support and associated metadata.  This is tracking version 0.1.0 of the metadata specification at https://github.com/geopandas/geo-arrow-spec\n",
      "\n",
      "This metadata specification does not yet make stability promises.  We do not yet recommend using this in a production setting unless you are able to rewrite your Parquet/Feather files.\n",
      "\n",
      "To further ignore this warning, you can do: \n",
      "import warnings; warnings.filterwarnings('ignore', message='.*initial implementation of Parquet.*')\n",
      "  df.to_parquet(cachefile)\n"
     ]
    },
    {
     "name": "stdout",
     "output_type": "stream",
     "text": [
      "Banco de 2017 de AC baixado!\n",
      "Banco de 2017 de AL baixado!\n",
      "Banco de 2017 de AP baixado!\n",
      "Banco de 2017 de AM baixado!\n",
      "Banco de 2017 de BA baixado!\n",
      "Banco de 2017 de CE baixado!\n",
      "Banco de 2017 de DF baixado!\n",
      "Banco de 2017 de ES baixado!\n",
      "Banco de 2017 de GO baixado!\n",
      "Banco de 2017 de MA baixado!\n",
      "Banco de 2017 de MT baixado!\n",
      "Banco de 2017 de MS baixado!\n",
      "Banco de 2017 de MG baixado!\n",
      "Banco de 2017 de PA baixado!\n",
      "Banco de 2017 de PB baixado!\n",
      "Banco de 2017 de PR baixado!\n",
      "Banco de 2017 de PE baixado!\n",
      "Banco de 2017 de PI baixado!\n",
      "Banco de 2017 de RJ baixado!\n",
      "Banco de 2017 de RN baixado!\n",
      "Banco de 2017 de RS baixado!\n",
      "Banco de 2017 de RO baixado!\n",
      "Banco de 2017 de RR baixado!\n",
      "Banco de 2017 de SC baixado!\n",
      "Banco de 2017 de SP baixado!\n",
      "Banco de 2017 de SE baixado!\n",
      "Banco de 2017 de TO baixado!\n"
     ]
    }
   ],
   "source": [
    "estados = ['AC','AL','AP','AM','BA','CE','DF','ES','GO',\n",
    "          'MA','MT','MS','MG','PA','PB','PR','PE','PI',\n",
    "          'RJ','RN','RS','RO','RR','SC','SP','SE','TO']\n",
    "\n",
    "ano = [2017]\n",
    "\n",
    "banco={}\n",
    "for y in ano:\n",
    "    for uf in estados:\n",
    "        banco[uf, y] = download(state = uf, year=y)\n",
    "        print(\"Banco de \" + str(y) + \" de \" + str(uf) + \" baixado!\")"
   ]
  },
  {
   "cell_type": "code",
   "execution_count": null,
   "metadata": {
    "id": "rQYhRPVKI61Q"
   },
   "outputs": [],
   "source": [
    "todos_17 = pd.concat(\n",
    "    {k: pd.DataFrame.from_dict(v) for k, v in banco.items() },\n",
    "    axis=0).reset_index()"
   ]
  },
  {
   "cell_type": "code",
   "execution_count": null,
   "metadata": {
    "colab": {
     "base_uri": "https://localhost:8080/"
    },
    "id": "u2QYGx1XI61R",
    "outputId": "b71c5d8b-5d7a-4862-c410-e0523bb63c07"
   },
   "outputs": [
    {
     "name": "stdout",
     "output_type": "stream",
     "text": [
      "<class 'pandas.core.frame.DataFrame'>\n",
      "Int64Index: 12521 entries, 116 to 1312655\n",
      "Data columns (total 91 columns):\n",
      " #   Column      Non-Null Count  Dtype \n",
      "---  ------      --------------  ----- \n",
      " 0   level_0     12521 non-null  object\n",
      " 1   level_1     12521 non-null  int64 \n",
      " 2   level_2     12521 non-null  int64 \n",
      " 3   CONTADOR    12521 non-null  object\n",
      " 4   ORIGEM      12521 non-null  object\n",
      " 5   TIPOBITO    12521 non-null  object\n",
      " 6   DTOBITO     12521 non-null  object\n",
      " 7   HORAOBITO   12521 non-null  object\n",
      " 8   NATURAL     12521 non-null  object\n",
      " 9   CODMUNNATU  12521 non-null  object\n",
      " 10  DTNASC      12521 non-null  object\n",
      " 11  IDADE       12521 non-null  object\n",
      " 12  SEXO        12521 non-null  object\n",
      " 13  RACACOR     12521 non-null  object\n",
      " 14  ESTCIV      12521 non-null  object\n",
      " 15  ESC         12521 non-null  object\n",
      " 16  ESC2010     12521 non-null  object\n",
      " 17  SERIESCFAL  12521 non-null  object\n",
      " 18  OCUP        12521 non-null  object\n",
      " 19  CODMUNRES   12521 non-null  object\n",
      " 20  LOCOCOR     12521 non-null  object\n",
      " 21  CODESTAB    12521 non-null  object\n",
      " 22  ESTABDESCR  12521 non-null  object\n",
      " 23  CODMUNOCOR  12521 non-null  object\n",
      " 24  IDADEMAE    12521 non-null  object\n",
      " 25  ESCMAE      12521 non-null  object\n",
      " 26  ESCMAE2010  12521 non-null  object\n",
      " 27  SERIESCMAE  12521 non-null  object\n",
      " 28  OCUPMAE     12521 non-null  object\n",
      " 29  QTDFILVIVO  12521 non-null  object\n",
      " 30  QTDFILMORT  12521 non-null  object\n",
      " 31  GRAVIDEZ    12521 non-null  object\n",
      " 32  SEMAGESTAC  12521 non-null  object\n",
      " 33  GESTACAO    12521 non-null  object\n",
      " 34  PARTO       12521 non-null  object\n",
      " 35  OBITOPARTO  12521 non-null  object\n",
      " 36  PESO        12521 non-null  object\n",
      " 37  TPMORTEOCO  12521 non-null  object\n",
      " 38  OBITOGRAV   12521 non-null  object\n",
      " 39  OBITOPUERP  12521 non-null  object\n",
      " 40  ASSISTMED   12521 non-null  object\n",
      " 41  EXAME       12521 non-null  object\n",
      " 42  CIRURGIA    12521 non-null  object\n",
      " 43  NECROPSIA   12521 non-null  object\n",
      " 44  LINHAA      12521 non-null  object\n",
      " 45  LINHAB      12521 non-null  object\n",
      " 46  LINHAC      12521 non-null  object\n",
      " 47  LINHAD      12521 non-null  object\n",
      " 48  LINHAII     12521 non-null  object\n",
      " 49  CAUSABAS    12521 non-null  object\n",
      " 50  CB_PRE      12521 non-null  object\n",
      " 51  CRM         12521 non-null  object\n",
      " 52  COMUNSVOIM  12521 non-null  object\n",
      " 53  DTATESTADO  12521 non-null  object\n",
      " 54  CIRCOBITO   12521 non-null  object\n",
      " 55  ACIDTRAB    12521 non-null  object\n",
      " 56  FONTE       12521 non-null  object\n",
      " 57  NUMEROLOTE  12521 non-null  object\n",
      " 58  TPPOS       12521 non-null  object\n",
      " 59  DTINVESTIG  12521 non-null  object\n",
      " 60  CAUSABAS_O  12521 non-null  object\n",
      " 61  DTCADASTRO  12521 non-null  object\n",
      " 62  ATESTANTE   12521 non-null  object\n",
      " 63  STCODIFICA  12521 non-null  object\n",
      " 64  CODIFICADO  12521 non-null  object\n",
      " 65  VERSAOSIST  12521 non-null  object\n",
      " 66  VERSAOSCB   12521 non-null  object\n",
      " 67  FONTEINV    12521 non-null  object\n",
      " 68  DTRECEBIM   12521 non-null  object\n",
      " 69  ATESTADO    12521 non-null  object\n",
      " 70  DTRECORIGA  12521 non-null  object\n",
      " 71  CAUSAMAT    12521 non-null  object\n",
      " 72  ESCMAEAGR1  12521 non-null  object\n",
      " 73  ESCFALAGR1  12521 non-null  object\n",
      " 74  STDOEPIDEM  12521 non-null  object\n",
      " 75  STDONOVA    12521 non-null  object\n",
      " 76  DIFDATA     12521 non-null  object\n",
      " 77  NUDIASOBCO  12521 non-null  object\n",
      " 78  NUDIASOBIN  12521 non-null  object\n",
      " 79  DTCADINV    12521 non-null  object\n",
      " 80  TPOBITOCOR  12521 non-null  object\n",
      " 81  DTCONINV    12521 non-null  object\n",
      " 82  FONTES      12521 non-null  object\n",
      " 83  TPRESGINFO  12521 non-null  object\n",
      " 84  TPNIVELINV  12521 non-null  object\n",
      " 85  NUDIASINF   12521 non-null  object\n",
      " 86  DTCADINF    12521 non-null  object\n",
      " 87  MORTEPARTO  12521 non-null  object\n",
      " 88  DTCONCASO   12521 non-null  object\n",
      " 89  FONTESINF   12521 non-null  object\n",
      " 90  ALTCAUSA    12521 non-null  object\n",
      "dtypes: int64(2), object(89)\n",
      "memory usage: 8.8+ MB\n"
     ]
    }
   ],
   "source": [
    "filter_list=[\"X{}\".format(x) for x in range(600, 850)]\n",
    "\n",
    "df_17 = todos_17[\n",
    "                 todos_17['CAUSABAS'].isin(filter_list) |\n",
    "                 todos_17['CAUSABAS_O'].isin(filter_list)\n",
    "                 ]\n",
    "\n",
    "df_17.info()"
   ]
  },
  {
   "cell_type": "code",
   "execution_count": null,
   "metadata": {
    "id": "gmhXDroOI61T"
   },
   "outputs": [],
   "source": [
    "df_17.to_csv('df_17.csv')"
   ]
  },
  {
   "cell_type": "markdown",
   "metadata": {
    "id": "miA_LUmrLf0f"
   },
   "source": [
    "#### 2018"
   ]
  },
  {
   "cell_type": "code",
   "execution_count": null,
   "metadata": {
    "colab": {
     "base_uri": "https://localhost:8080/"
    },
    "id": "ZsXZU5F9Lf0p",
    "outputId": "53fb9051-6a9b-4945-bbb6-1c0e4bee288c"
   },
   "outputs": [
    {
     "name": "stdout",
     "output_type": "stream",
     "text": [
      "Banco de 2018 de AC baixado!\n",
      "Banco de 2018 de AL baixado!\n",
      "Banco de 2018 de AP baixado!\n",
      "Banco de 2018 de AM baixado!\n",
      "Banco de 2018 de BA baixado!\n",
      "Banco de 2018 de CE baixado!\n",
      "Banco de 2018 de DF baixado!\n",
      "Banco de 2018 de ES baixado!\n",
      "Banco de 2018 de GO baixado!\n",
      "Banco de 2018 de MA baixado!\n",
      "Banco de 2018 de MT baixado!\n",
      "Banco de 2018 de MS baixado!\n",
      "Banco de 2018 de MG baixado!\n",
      "Banco de 2018 de PA baixado!\n",
      "Banco de 2018 de PB baixado!\n",
      "Banco de 2018 de PR baixado!\n",
      "Banco de 2018 de PE baixado!\n",
      "Banco de 2018 de PI baixado!\n",
      "Banco de 2018 de RJ baixado!\n",
      "Banco de 2018 de RN baixado!\n",
      "Banco de 2018 de RS baixado!\n",
      "Banco de 2018 de RO baixado!\n",
      "Banco de 2018 de RR baixado!\n",
      "Banco de 2018 de SC baixado!\n"
     ]
    },
    {
     "name": "stderr",
     "output_type": "stream",
     "text": [
      "/usr/local/lib/python3.7/dist-packages/pysus/online_data/SIM.py:65: UserWarning: this is an initial implementation of Parquet/Feather file support and associated metadata.  This is tracking version 0.1.0 of the metadata specification at https://github.com/geopandas/geo-arrow-spec\n",
      "\n",
      "This metadata specification does not yet make stability promises.  We do not yet recommend using this in a production setting unless you are able to rewrite your Parquet/Feather files.\n",
      "\n",
      "To further ignore this warning, you can do: \n",
      "import warnings; warnings.filterwarnings('ignore', message='.*initial implementation of Parquet.*')\n",
      "  df.to_parquet(cachefile)\n"
     ]
    },
    {
     "name": "stdout",
     "output_type": "stream",
     "text": [
      "Banco de 2018 de SP baixado!\n",
      "Banco de 2018 de SE baixado!\n",
      "Banco de 2018 de TO baixado!\n"
     ]
    }
   ],
   "source": [
    "estados = ['AC','AL','AP','AM','BA','CE','DF','ES','GO',\n",
    "          'MA','MT','MS','MG','PA','PB','PR','PE','PI',\n",
    "          'RJ','RN','RS','RO','RR','SC','SP','SE','TO']\n",
    "\n",
    "ano = [2018]\n",
    "\n",
    "banco={}\n",
    "for y in ano:\n",
    "    for uf in estados:\n",
    "        banco[uf, y] = download(state = uf, year=y)\n",
    "        print(\"Banco de \" + str(y) + \" de \" + str(uf) + \" baixado!\")"
   ]
  },
  {
   "cell_type": "code",
   "execution_count": null,
   "metadata": {
    "id": "4V1U8R3WLf0t"
   },
   "outputs": [],
   "source": [
    "todos_18 = pd.concat(\n",
    "    {k: pd.DataFrame.from_dict(v) for k, v in banco.items() },\n",
    "    axis=0).reset_index()"
   ]
  },
  {
   "cell_type": "code",
   "execution_count": null,
   "metadata": {
    "colab": {
     "base_uri": "https://localhost:8080/"
    },
    "id": "QmZbennbLf0u",
    "outputId": "073f751f-8885-49c4-b560-15d1da2cdfc8"
   },
   "outputs": [
    {
     "name": "stdout",
     "output_type": "stream",
     "text": [
      "<class 'pandas.core.frame.DataFrame'>\n",
      "Int64Index: 12764 entries, 38 to 1316700\n",
      "Data columns (total 91 columns):\n",
      " #   Column      Non-Null Count  Dtype \n",
      "---  ------      --------------  ----- \n",
      " 0   level_0     12764 non-null  object\n",
      " 1   level_1     12764 non-null  int64 \n",
      " 2   level_2     12764 non-null  int64 \n",
      " 3   ORIGEM      12764 non-null  object\n",
      " 4   TIPOBITO    12764 non-null  object\n",
      " 5   DTOBITO     12764 non-null  object\n",
      " 6   HORAOBITO   12764 non-null  object\n",
      " 7   NATURAL     12764 non-null  object\n",
      " 8   CODMUNNATU  12764 non-null  object\n",
      " 9   DTNASC      12764 non-null  object\n",
      " 10  IDADE       12764 non-null  object\n",
      " 11  SEXO        12764 non-null  object\n",
      " 12  RACACOR     12764 non-null  object\n",
      " 13  ESTCIV      12764 non-null  object\n",
      " 14  ESC         12764 non-null  object\n",
      " 15  ESC2010     12764 non-null  object\n",
      " 16  SERIESCFAL  12764 non-null  object\n",
      " 17  OCUP        12764 non-null  object\n",
      " 18  CODMUNRES   12764 non-null  object\n",
      " 19  LOCOCOR     12764 non-null  object\n",
      " 20  CODESTAB    12764 non-null  object\n",
      " 21  ESTABDESCR  12764 non-null  object\n",
      " 22  CODMUNOCOR  12764 non-null  object\n",
      " 23  IDADEMAE    12764 non-null  object\n",
      " 24  ESCMAE      12764 non-null  object\n",
      " 25  ESCMAE2010  12764 non-null  object\n",
      " 26  SERIESCMAE  12764 non-null  object\n",
      " 27  OCUPMAE     12764 non-null  object\n",
      " 28  QTDFILVIVO  12764 non-null  object\n",
      " 29  QTDFILMORT  12764 non-null  object\n",
      " 30  GRAVIDEZ    12764 non-null  object\n",
      " 31  SEMAGESTAC  12764 non-null  object\n",
      " 32  GESTACAO    12764 non-null  object\n",
      " 33  PARTO       12764 non-null  object\n",
      " 34  OBITOPARTO  12764 non-null  object\n",
      " 35  PESO        12764 non-null  object\n",
      " 36  TPMORTEOCO  12764 non-null  object\n",
      " 37  OBITOGRAV   12764 non-null  object\n",
      " 38  OBITOPUERP  12764 non-null  object\n",
      " 39  ASSISTMED   12764 non-null  object\n",
      " 40  EXAME       12764 non-null  object\n",
      " 41  CIRURGIA    12764 non-null  object\n",
      " 42  NECROPSIA   12764 non-null  object\n",
      " 43  LINHAA      12764 non-null  object\n",
      " 44  LINHAB      12764 non-null  object\n",
      " 45  LINHAC      12764 non-null  object\n",
      " 46  LINHAD      12764 non-null  object\n",
      " 47  LINHAII     12764 non-null  object\n",
      " 48  CAUSABAS    12764 non-null  object\n",
      " 49  CB_PRE      12764 non-null  object\n",
      " 50  CRM         12764 non-null  object\n",
      " 51  COMUNSVOIM  12764 non-null  object\n",
      " 52  DTATESTADO  12764 non-null  object\n",
      " 53  CIRCOBITO   12764 non-null  object\n",
      " 54  ACIDTRAB    12764 non-null  object\n",
      " 55  FONTE       12764 non-null  object\n",
      " 56  NUMEROLOTE  12764 non-null  object\n",
      " 57  TPPOS       12764 non-null  object\n",
      " 58  DTINVESTIG  12764 non-null  object\n",
      " 59  CAUSABAS_O  12764 non-null  object\n",
      " 60  DTCADASTRO  12764 non-null  object\n",
      " 61  ATESTANTE   12764 non-null  object\n",
      " 62  STCODIFICA  12764 non-null  object\n",
      " 63  CODIFICADO  12764 non-null  object\n",
      " 64  VERSAOSIST  12764 non-null  object\n",
      " 65  VERSAOSCB   12764 non-null  object\n",
      " 66  FONTEINV    12764 non-null  object\n",
      " 67  DTRECEBIM   12764 non-null  object\n",
      " 68  ATESTADO    12764 non-null  object\n",
      " 69  DTRECORIGA  12764 non-null  object\n",
      " 70  CAUSAMAT    12764 non-null  object\n",
      " 71  ESCMAEAGR1  12764 non-null  object\n",
      " 72  ESCFALAGR1  12764 non-null  object\n",
      " 73  STDOEPIDEM  12764 non-null  object\n",
      " 74  STDONOVA    12764 non-null  object\n",
      " 75  DIFDATA     12764 non-null  object\n",
      " 76  NUDIASOBCO  12764 non-null  object\n",
      " 77  NUDIASOBIN  12764 non-null  object\n",
      " 78  DTCADINV    12764 non-null  object\n",
      " 79  TPOBITOCOR  12764 non-null  object\n",
      " 80  DTCONINV    12764 non-null  object\n",
      " 81  FONTES      12764 non-null  object\n",
      " 82  TPRESGINFO  12764 non-null  object\n",
      " 83  TPNIVELINV  12764 non-null  object\n",
      " 84  NUDIASINF   12764 non-null  object\n",
      " 85  DTCADINF    12764 non-null  object\n",
      " 86  MORTEPARTO  12764 non-null  object\n",
      " 87  DTCONCASO   12764 non-null  object\n",
      " 88  FONTESINF   12764 non-null  object\n",
      " 89  ALTCAUSA    12764 non-null  object\n",
      " 90  CONTADOR    12764 non-null  object\n",
      "dtypes: int64(2), object(89)\n",
      "memory usage: 9.0+ MB\n"
     ]
    }
   ],
   "source": [
    "filter_list=[\"X{}\".format(x) for x in range(600, 850)]\n",
    "\n",
    "df_18 = todos_18[\n",
    "                 todos_18['CAUSABAS'].isin(filter_list) |\n",
    "                 todos_18['CAUSABAS_O'].isin(filter_list)\n",
    "                 ]\n",
    "\n",
    "df_18.info()"
   ]
  },
  {
   "cell_type": "code",
   "execution_count": null,
   "metadata": {
    "id": "Q7tnyj_MLf0w"
   },
   "outputs": [],
   "source": [
    "df_18.to_csv('df_18.csv')"
   ]
  },
  {
   "cell_type": "markdown",
   "metadata": {
    "id": "HgWtw3_lOw5T"
   },
   "source": [
    "#### 2019"
   ]
  },
  {
   "cell_type": "code",
   "execution_count": null,
   "metadata": {
    "colab": {
     "base_uri": "https://localhost:8080/"
    },
    "id": "T5KxBt4NOw5V",
    "outputId": "29b1a7a5-0ba1-4fbe-9173-20b44044d4c3"
   },
   "outputs": [
    {
     "name": "stderr",
     "output_type": "stream",
     "text": [
      "/usr/local/lib/python3.7/dist-packages/pysus/online_data/SIM.py:65: UserWarning: this is an initial implementation of Parquet/Feather file support and associated metadata.  This is tracking version 0.1.0 of the metadata specification at https://github.com/geopandas/geo-arrow-spec\n",
      "\n",
      "This metadata specification does not yet make stability promises.  We do not yet recommend using this in a production setting unless you are able to rewrite your Parquet/Feather files.\n",
      "\n",
      "To further ignore this warning, you can do: \n",
      "import warnings; warnings.filterwarnings('ignore', message='.*initial implementation of Parquet.*')\n",
      "  df.to_parquet(cachefile)\n"
     ]
    },
    {
     "name": "stdout",
     "output_type": "stream",
     "text": [
      "Banco de 2019 de AC baixado!\n",
      "Banco de 2019 de AL baixado!\n",
      "Banco de 2019 de AP baixado!\n",
      "Banco de 2019 de AM baixado!\n",
      "Banco de 2019 de BA baixado!\n",
      "Banco de 2019 de CE baixado!\n",
      "Banco de 2019 de DF baixado!\n",
      "Banco de 2019 de ES baixado!\n",
      "Banco de 2019 de GO baixado!\n",
      "Banco de 2019 de MA baixado!\n",
      "Banco de 2019 de MT baixado!\n",
      "Banco de 2019 de MS baixado!\n",
      "Banco de 2019 de MG baixado!\n",
      "Banco de 2019 de PA baixado!\n",
      "Banco de 2019 de PB baixado!\n",
      "Banco de 2019 de PR baixado!\n",
      "Banco de 2019 de PE baixado!\n",
      "Banco de 2019 de PI baixado!\n",
      "Banco de 2019 de RJ baixado!\n",
      "Banco de 2019 de RN baixado!\n",
      "Banco de 2019 de RS baixado!\n",
      "Banco de 2019 de RO baixado!\n",
      "Banco de 2019 de RR baixado!\n",
      "Banco de 2019 de SC baixado!\n",
      "Banco de 2019 de SP baixado!\n",
      "Banco de 2019 de SE baixado!\n",
      "Banco de 2019 de TO baixado!\n"
     ]
    }
   ],
   "source": [
    "estados = ['AC','AL','AP','AM','BA','CE','DF','ES','GO',\n",
    "          'MA','MT','MS','MG','PA','PB','PR','PE','PI',\n",
    "          'RJ','RN','RS','RO','RR','SC','SP','SE','TO']\n",
    "\n",
    "ano = [2019]\n",
    "\n",
    "banco={}\n",
    "for y in ano:\n",
    "    for uf in estados:\n",
    "        banco[uf, y] = download(state = uf, year=y)\n",
    "        print(\"Banco de \" + str(y) + \" de \" + str(uf) + \" baixado!\")"
   ]
  },
  {
   "cell_type": "code",
   "execution_count": null,
   "metadata": {
    "id": "RqthGx8uOw5V"
   },
   "outputs": [],
   "source": [
    "todos_19 = pd.concat(\n",
    "    {k: pd.DataFrame.from_dict(v) for k, v in banco.items() },\n",
    "    axis=0).reset_index()"
   ]
  },
  {
   "cell_type": "code",
   "execution_count": null,
   "metadata": {
    "colab": {
     "base_uri": "https://localhost:8080/"
    },
    "id": "d6ujIaIpOw5W",
    "outputId": "f2b9c8fa-b5fb-4b33-bbf1-e901de5ad50b"
   },
   "outputs": [
    {
     "name": "stdout",
     "output_type": "stream",
     "text": [
      "<class 'pandas.core.frame.DataFrame'>\n",
      "Int64Index: 13554 entries, 40 to 1349783\n",
      "Data columns (total 90 columns):\n",
      " #   Column      Non-Null Count  Dtype \n",
      "---  ------      --------------  ----- \n",
      " 0   level_0     13554 non-null  object\n",
      " 1   level_1     13554 non-null  int64 \n",
      " 2   level_2     13554 non-null  int64 \n",
      " 3   ORIGEM      13554 non-null  object\n",
      " 4   TIPOBITO    13554 non-null  object\n",
      " 5   DTOBITO     13554 non-null  object\n",
      " 6   HORAOBITO   13554 non-null  object\n",
      " 7   NATURAL     13554 non-null  object\n",
      " 8   CODMUNNATU  13554 non-null  object\n",
      " 9   DTNASC      13554 non-null  object\n",
      " 10  IDADE       13554 non-null  object\n",
      " 11  SEXO        13554 non-null  object\n",
      " 12  RACACOR     13554 non-null  object\n",
      " 13  ESTCIV      13554 non-null  object\n",
      " 14  ESC         13554 non-null  object\n",
      " 15  ESC2010     13554 non-null  object\n",
      " 16  SERIESCFAL  13554 non-null  object\n",
      " 17  OCUP        13554 non-null  object\n",
      " 18  CODMUNRES   13554 non-null  object\n",
      " 19  LOCOCOR     13554 non-null  object\n",
      " 20  CODESTAB    13554 non-null  object\n",
      " 21  ESTABDESCR  13554 non-null  object\n",
      " 22  CODMUNOCOR  13554 non-null  object\n",
      " 23  IDADEMAE    13554 non-null  object\n",
      " 24  ESCMAE      13554 non-null  object\n",
      " 25  ESCMAE2010  13554 non-null  object\n",
      " 26  SERIESCMAE  13554 non-null  object\n",
      " 27  OCUPMAE     13554 non-null  object\n",
      " 28  QTDFILVIVO  13554 non-null  object\n",
      " 29  QTDFILMORT  13554 non-null  object\n",
      " 30  GRAVIDEZ    13554 non-null  object\n",
      " 31  SEMAGESTAC  13554 non-null  object\n",
      " 32  GESTACAO    13554 non-null  object\n",
      " 33  PARTO       13554 non-null  object\n",
      " 34  OBITOPARTO  13554 non-null  object\n",
      " 35  PESO        13554 non-null  object\n",
      " 36  TPMORTEOCO  13554 non-null  object\n",
      " 37  OBITOGRAV   13554 non-null  object\n",
      " 38  OBITOPUERP  13554 non-null  object\n",
      " 39  ASSISTMED   13554 non-null  object\n",
      " 40  EXAME       13554 non-null  object\n",
      " 41  CIRURGIA    13554 non-null  object\n",
      " 42  NECROPSIA   13554 non-null  object\n",
      " 43  LINHAA      13554 non-null  object\n",
      " 44  LINHAB      13554 non-null  object\n",
      " 45  LINHAC      13554 non-null  object\n",
      " 46  LINHAD      13554 non-null  object\n",
      " 47  LINHAII     13554 non-null  object\n",
      " 48  CAUSABAS    13554 non-null  object\n",
      " 49  CB_PRE      13554 non-null  object\n",
      " 50  COMUNSVOIM  13554 non-null  object\n",
      " 51  DTATESTADO  13554 non-null  object\n",
      " 52  CIRCOBITO   13554 non-null  object\n",
      " 53  ACIDTRAB    13554 non-null  object\n",
      " 54  FONTE       13554 non-null  object\n",
      " 55  NUMEROLOTE  13554 non-null  object\n",
      " 56  TPPOS       13554 non-null  object\n",
      " 57  DTINVESTIG  13554 non-null  object\n",
      " 58  CAUSABAS_O  13554 non-null  object\n",
      " 59  DTCADASTRO  13554 non-null  object\n",
      " 60  ATESTANTE   13554 non-null  object\n",
      " 61  STCODIFICA  13554 non-null  object\n",
      " 62  CODIFICADO  13554 non-null  object\n",
      " 63  VERSAOSIST  13554 non-null  object\n",
      " 64  VERSAOSCB   13554 non-null  object\n",
      " 65  FONTEINV    13554 non-null  object\n",
      " 66  DTRECEBIM   13554 non-null  object\n",
      " 67  ATESTADO    13554 non-null  object\n",
      " 68  DTRECORIGA  13554 non-null  object\n",
      " 69  CAUSAMAT    13554 non-null  object\n",
      " 70  ESCMAEAGR1  13554 non-null  object\n",
      " 71  ESCFALAGR1  13554 non-null  object\n",
      " 72  STDOEPIDEM  13554 non-null  object\n",
      " 73  STDONOVA    13554 non-null  object\n",
      " 74  DIFDATA     13554 non-null  object\n",
      " 75  NUDIASOBCO  13554 non-null  object\n",
      " 76  NUDIASOBIN  13554 non-null  object\n",
      " 77  DTCADINV    13554 non-null  object\n",
      " 78  TPOBITOCOR  13554 non-null  object\n",
      " 79  DTCONINV    13554 non-null  object\n",
      " 80  FONTES      13554 non-null  object\n",
      " 81  TPRESGINFO  13554 non-null  object\n",
      " 82  TPNIVELINV  13554 non-null  object\n",
      " 83  NUDIASINF   13554 non-null  object\n",
      " 84  DTCADINF    13554 non-null  object\n",
      " 85  MORTEPARTO  13554 non-null  object\n",
      " 86  DTCONCASO   13554 non-null  object\n",
      " 87  FONTESINF   13554 non-null  object\n",
      " 88  ALTCAUSA    13554 non-null  object\n",
      " 89  CONTADOR    13554 non-null  object\n",
      "dtypes: int64(2), object(88)\n",
      "memory usage: 9.4+ MB\n"
     ]
    }
   ],
   "source": [
    "filter_list=[\"X{}\".format(x) for x in range(600, 850)]\n",
    "\n",
    "df_19 = todos_19[\n",
    "                 todos_19['CAUSABAS'].isin(filter_list) |\n",
    "                 todos_19['CAUSABAS_O'].isin(filter_list)\n",
    "                 ]\n",
    "\n",
    "df_19.info()"
   ]
  },
  {
   "cell_type": "code",
   "execution_count": null,
   "metadata": {
    "id": "sazOi5lOOw5W"
   },
   "outputs": [],
   "source": [
    "df_19.to_csv('df_19.csv')"
   ]
  },
  {
   "cell_type": "markdown",
   "metadata": {
    "id": "v1W6KS2g64w9"
   },
   "source": [
    "## Concatenando os dados"
   ]
  },
  {
   "cell_type": "code",
   "execution_count": 2,
   "metadata": {},
   "outputs": [
    {
     "name": "stderr",
     "output_type": "stream",
     "text": [
      "c:\\users\\reisr\\appdata\\local\\programs\\python\\python39\\lib\\site-packages\\IPython\\core\\interactiveshell.py:3146: DtypeWarning: Columns (8) have mixed types.Specify dtype option on import or set low_memory=False.\n",
      "  has_raised = await self.run_ast_nodes(code_ast.body, cell_name,\n",
      "c:\\users\\reisr\\appdata\\local\\programs\\python\\python39\\lib\\site-packages\\IPython\\core\\interactiveshell.py:3146: DtypeWarning: Columns (66) have mixed types.Specify dtype option on import or set low_memory=False.\n",
      "  has_raised = await self.run_ast_nodes(code_ast.body, cell_name,\n",
      "c:\\users\\reisr\\appdata\\local\\programs\\python\\python39\\lib\\site-packages\\IPython\\core\\interactiveshell.py:3146: DtypeWarning: Columns (23,51,52) have mixed types.Specify dtype option on import or set low_memory=False.\n",
      "  has_raised = await self.run_ast_nodes(code_ast.body, cell_name,\n",
      "c:\\users\\reisr\\appdata\\local\\programs\\python\\python39\\lib\\site-packages\\IPython\\core\\interactiveshell.py:3146: DtypeWarning: Columns (23,52,72) have mixed types.Specify dtype option on import or set low_memory=False.\n",
      "  has_raised = await self.run_ast_nodes(code_ast.body, cell_name,\n",
      "c:\\users\\reisr\\appdata\\local\\programs\\python\\python39\\lib\\site-packages\\IPython\\core\\interactiveshell.py:3146: DtypeWarning: Columns (72,83) have mixed types.Specify dtype option on import or set low_memory=False.\n",
      "  has_raised = await self.run_ast_nodes(code_ast.body, cell_name,\n",
      "c:\\users\\reisr\\appdata\\local\\programs\\python\\python39\\lib\\site-packages\\IPython\\core\\interactiveshell.py:3146: DtypeWarning: Columns (71) have mixed types.Specify dtype option on import or set low_memory=False.\n",
      "  has_raised = await self.run_ast_nodes(code_ast.body, cell_name,\n",
      "c:\\users\\reisr\\appdata\\local\\programs\\python\\python39\\lib\\site-packages\\IPython\\core\\interactiveshell.py:3146: DtypeWarning: Columns (81) have mixed types.Specify dtype option on import or set low_memory=False.\n",
      "  has_raised = await self.run_ast_nodes(code_ast.body, cell_name,\n"
     ]
    }
   ],
   "source": [
    "# Columns to keep\n",
    "cols_to_keep = ['level_0', 'level_1', 'DTOBITO', 'DTNASC', 'SEXO', 'RACACOR',\n",
    "                'ASSISTMED', 'ESCMAE', 'ESTCIV', 'ESC', 'OCUP', 'CODMUNRES',\n",
    "                'CAUSABAS', 'CAUSABAS_O', 'LOCOCOR', 'CIRURGIA']\n",
    "\n",
    "df_10 = pd.read_csv('df_10.csv')[cols_to_keep]\n",
    "df_11 = pd.read_csv('df_11.csv')[cols_to_keep]\n",
    "df_12 = pd.read_csv('df_12.csv')[cols_to_keep]\n",
    "df_13 = pd.read_csv('df_13.csv')[cols_to_keep]\n",
    "df_14 = pd.read_csv('df_14.csv')[cols_to_keep]\n",
    "df_15 = pd.read_csv('df_15.csv')[cols_to_keep]\n",
    "df_16 = pd.read_csv('df_16.csv')[cols_to_keep]\n",
    "df_17 = pd.read_csv('df_17.csv')[cols_to_keep]\n",
    "df_18 = pd.read_csv('df_18.csv')[cols_to_keep]\n",
    "df_19 = pd.read_csv('df_19.csv')[cols_to_keep]"
   ]
  },
  {
   "cell_type": "code",
   "execution_count": 3,
   "metadata": {},
   "outputs": [
    {
     "name": "stdout",
     "output_type": "stream",
     "text": [
      "<class 'pandas.core.frame.DataFrame'>\n",
      "RangeIndex: 112491 entries, 0 to 112490\n",
      "Data columns (total 16 columns):\n",
      " #   Column      Non-Null Count   Dtype  \n",
      "---  ------      --------------   -----  \n",
      " 0   level_0     112491 non-null  object \n",
      " 1   level_1     112491 non-null  int64  \n",
      " 2   DTOBITO     112491 non-null  int64  \n",
      " 3   DTNASC      111979 non-null  float64\n",
      " 4   SEXO        112491 non-null  int64  \n",
      " 5   RACACOR     109321 non-null  float64\n",
      " 6   ASSISTMED   78356 non-null   float64\n",
      " 7   ESCMAE      19 non-null      float64\n",
      " 8   ESTCIV      108962 non-null  float64\n",
      " 9   ESC         104781 non-null  float64\n",
      " 10  OCUP        87714 non-null   float64\n",
      " 11  CODMUNRES   112491 non-null  int64  \n",
      " 12  CAUSABAS    112491 non-null  object \n",
      " 13  CAUSABAS_O  112204 non-null  object \n",
      " 14  LOCOCOR     112491 non-null  int64  \n",
      " 15  CIRURGIA    9266 non-null    float64\n",
      "dtypes: float64(8), int64(5), object(3)\n",
      "memory usage: 13.7+ MB\n"
     ]
    }
   ],
   "source": [
    "df = pd.concat([df_10, df_11, df_12,\n",
    "                df_13, df_14, df_15,\n",
    "                df_16, df_17, df_18, df_19\n",
    "               ], ignore_index = True)\n",
    "\n",
    "df.info()\n",
    "\n",
    "df_inicial = df"
   ]
  },
  {
   "cell_type": "markdown",
   "metadata": {},
   "source": [
    "## Limpando os dados"
   ]
  },
  {
   "cell_type": "markdown",
   "metadata": {},
   "source": [
    "#### Renomeando colunas"
   ]
  },
  {
   "cell_type": "code",
   "execution_count": 4,
   "metadata": {},
   "outputs": [
    {
     "data": {
      "text/plain": [
       "Index(['estado', 'ano', 'DTOBITO', 'DTNASC', 'SEXO', 'RACACOR', 'ASSISTMED',\n",
       "       'ESCMAE', 'ESTCIV', 'ESC', 'OCUP', 'CODMUNRES', 'CAUSABAS',\n",
       "       'CAUSABAS_O', 'LOCOCOR', 'CIRURGIA'],\n",
       "      dtype='object')"
      ]
     },
     "execution_count": 4,
     "metadata": {},
     "output_type": "execute_result"
    }
   ],
   "source": [
    "# Renomeando colunas\n",
    "df.rename(columns={'level_0': 'estado', 'level_1': 'ano'}, inplace=True)\n",
    "df.columns"
   ]
  },
  {
   "cell_type": "markdown",
   "metadata": {},
   "source": [
    "#### Organizando os tipos de dados"
   ]
  },
  {
   "cell_type": "code",
   "execution_count": 5,
   "metadata": {},
   "outputs": [],
   "source": [
    "# Vários valores vieram como float. Em questão disso, operações de substituição não puderam ser realizadas.\n",
    "\n",
    "df = df.fillna(0)\n",
    "\n",
    "# Organizando sexo\n",
    "df['SEXO'] = df['SEXO'].astype(str)\n",
    "df['SEXO'] = df['SEXO'].map(lambda x: x.rstrip('.0'))\n",
    "\n",
    "# Organizando raça/cor\n",
    "df['RACACOR'] = df['RACACOR'].astype(str)\n",
    "df['RACACOR'] = df['RACACOR'].map(lambda x: x.rstrip('.0'))\n",
    "\n",
    "# Organizando estado civil\n",
    "df['ESTCIV'] = df['ESTCIV'].astype(str)\n",
    "df['ESTCIV'] = df['ESTCIV'].map(lambda x: x.rstrip('.0'))\n",
    "\n",
    "# Organizando escolaridade\n",
    "df['ESC'] = df['ESC'].astype(str)\n",
    "df['ESC'] = df['ESC'].map(lambda x: x.rstrip('.0'))\n",
    "\n",
    "# Organizando local da ocorrência\n",
    "df['LOCOCOR'] = df['LOCOCOR'].astype(str)\n",
    "df['LOCOCOR'] = df['LOCOCOR'].map(lambda x: x.rstrip('.0'))\n",
    "\n",
    "# Organizando assistência média (sim, não)\n",
    "df['ASSISTMED'] = df['ASSISTMED'].astype(str)\n",
    "df['ASSISTMED'] = df['ASSISTMED'].map(lambda x: x.rstrip('.0'))\n",
    "\n",
    "# Organizando escolaridade da mãe\n",
    "df['ESCMAE'] = df['ESCMAE'].astype(str)\n",
    "df['ESCMAE'] = df['ESCMAE'].map(lambda x: x.rstrip('.0'))\n",
    "\n",
    "# Organizando cirurgia (sim, não)\n",
    "df['CIRURGIA'] = df['CIRURGIA'].astype(str)\n",
    "df['CIRURGIA'] = df['CIRURGIA'].map(lambda x: x.rstrip('.0'))"
   ]
  },
  {
   "cell_type": "markdown",
   "metadata": {},
   "source": [
    "#### Recodificando variáveis"
   ]
  },
  {
   "cell_type": "code",
   "execution_count": 6,
   "metadata": {},
   "outputs": [],
   "source": [
    "# Criando dicionários\n",
    "dicSEXO = {\n",
    "    1 : 'Masculino',\n",
    "    2 : 'Feminino',\n",
    "    0 : 'NA',\n",
    "    9 : 'NA'\n",
    "}\n",
    "\n",
    "dicRACACOR = {\n",
    "    1 : 'Branca',\n",
    "    2 : 'Preta',\n",
    "    3 : 'Amarela',\n",
    "    4 : 'Parda',\n",
    "    5 : 'Indígena',\n",
    "    0 : 'NaN', \n",
    "    6 : 'NaN',\n",
    "    7 : 'NaN',\n",
    "    8 : 'NaN',\n",
    "    9 : 'NaN'\n",
    "}\n",
    "\n",
    "dicESTCIV = {\n",
    "    1 : 'Solteiro',\n",
    "    2 : 'Casado',\n",
    "    3 : 'Viúvo',\n",
    "    4 : 'Separado judicialmente',\n",
    "    5 : 'União consensual',\n",
    "    0 : 'NaN', \n",
    "    6 : 'NaN',\n",
    "    7 : 'NaN',\n",
    "    8 : 'NaN',\n",
    "    9 : 'NaN'\n",
    "}\n",
    "\n",
    "dicESC = {\n",
    "    1 : 'Nenhuma',\n",
    "    2 : '1 a 3 anos',\n",
    "    3 : '4 a 7 anos',\n",
    "    4 : '8 a 11 anos',\n",
    "    5 : '12 e mais',\n",
    "    8 : 'De 9 a 11 anos',\n",
    "    0 : 'NaN',\n",
    "    6 : 'NaN',\n",
    "    7 : 'NaN',\n",
    "    9 : 'NaN',\n",
    "    ''  : 'NaN'\n",
    "}\n",
    "\n",
    "dictLOCOCOR = {\n",
    "    1 : 'Hospital',\n",
    "    2 : 'Outro estabelecimento de saúde',\n",
    "    3 : 'Domicílio',\n",
    "    4 : 'Via pública',\n",
    "    5 : 'Outros',\n",
    "    9 : 'NaN'\n",
    "}\n",
    "\n",
    "dictASSISTMED = {\n",
    "    1 : 'Sim',\n",
    "    2 : 'Não',\n",
    "    9 : 'NaN'\n",
    "}\n",
    "\n",
    "dicESCMAE = {\n",
    "    1 : 'Nenhuma',\n",
    "    2 : '1 a 3 anos',\n",
    "    3 : '4 a 7 anos',\n",
    "    4 : '8 a 11 anos',\n",
    "    5 : '12 e mais',\n",
    "    8 : 'De 9 a 11 anos',\n",
    "    0 : 'NaN',\n",
    "    6 : 'NaN',\n",
    "    7 : 'NaN',\n",
    "    9 : 'NaN',\n",
    "    ''  : 'NaN' \n",
    "}\n",
    "\n",
    "\n",
    "dicCIRURGIA = {\n",
    "    1 : 'Sim',\n",
    "    2 : 'Não',\n",
    "    9 : 'NaN'\n",
    "}\n",
    "\n",
    "df = df_inicial.replace(\n",
    "    {'SEXO' : dicSEXO, \n",
    "     'RACACOR' : dicRACACOR, \n",
    "     'ESTCIV' : dicESTCIV, \n",
    "     'ESC' : dicESC, \n",
    "     'LOCOCOR' : dictLOCOCOR, \n",
    "     'ASSISTMED' : dictASSISTMED,\n",
    "     'ESCMAE' : dicESCMAE,\n",
    "     'CIRURGIA' : dicCIRURGIA\n",
    "    })"
   ]
  },
  {
   "cell_type": "markdown",
   "metadata": {},
   "source": [
    "#### Limpando datas"
   ]
  },
  {
   "cell_type": "code",
   "execution_count": 7,
   "metadata": {},
   "outputs": [],
   "source": [
    "# Organizando datas\n",
    "df['DTNASC'] = df['DTNASC'].astype(str)\n",
    "df['DTNASC'] = df['DTNASC'].map(lambda x: x.rstrip('.0'))\n",
    "df['DTOBITO'] = df['DTOBITO'].astype(str)"
   ]
  },
  {
   "cell_type": "code",
   "execution_count": 8,
   "metadata": {},
   "outputs": [],
   "source": [
    "# Arrumando número de casas\n",
    "df['DTOBITO'] = df['DTOBITO'].apply(lambda x: x.zfill(8))\n",
    "df['DTNASC'] = df['DTNASC'].apply(lambda x: x.zfill(8))"
   ]
  },
  {
   "cell_type": "markdown",
   "metadata": {},
   "source": [
    "#### Codificando ocupação"
   ]
  },
  {
   "cell_type": "code",
   "execution_count": 12,
   "metadata": {},
   "outputs": [],
   "source": [
    "# Arrumando ocupação\n",
    "df['OCUP'] = df['OCUP'].astype(str)\n",
    "df['OCUP'] = df['OCUP'].apply(lambda x: x.zfill(6))\n",
    "\n",
    "url_cbo = 'https://raw.githubusercontent.com/daltonbc96/python/master/CBO.csv'\n",
    "\n",
    "CBO2002  = pd.read_csv(url_cbo).set_index('CODIGO').to_dict()\n",
    "\n",
    "df['OCUP'] = df['OCUP'].fillna(0).astype(str)\n",
    "df['OCUP'] = df['OCUP'].map(lambda x: x.rstrip('.0'))\n",
    "\n",
    "df['OCUP'] = df['OCUP'].replace('000nan', 0).astype(int)\n",
    "df['OCUP'] = df['OCUP'].replace('', 0)\n",
    "df['OCUP'] = df['OCUP'].replace(CBO2002['OCUPACAO'])\n",
    "df['OCUP'] = df['OCUP'].replace(0, 'NaN')"
   ]
  },
  {
   "cell_type": "markdown",
   "metadata": {},
   "source": [
    "#### Codificando municípios"
   ]
  },
  {
   "cell_type": "code",
   "execution_count": 13,
   "metadata": {},
   "outputs": [],
   "source": [
    "url_mun = 'http://blog.mds.gov.br/redesuas/wp-content/uploads/2018/06/Lista_Munic%C3%ADpios_com_IBGE_Brasil_Versao_CSV.csv'\n",
    "\n",
    "municipios  = pd.read_csv(url_mun,\n",
    "                          error_bad_lines = False,\n",
    "                          sep = ';',\n",
    "                          encoding = 'latin-1', \n",
    "                          usecols = ['IBGE','Município']).set_index('IBGE').to_dict()\n",
    "\n",
    "df['CODMUNRES'] = df['CODMUNRES'].astype(int).replace(municipios['Município'])"
   ]
  },
  {
   "cell_type": "markdown",
   "metadata": {},
   "source": [
    "## Salvando o banco de dados final"
   ]
  },
  {
   "cell_type": "code",
   "execution_count": 14,
   "metadata": {},
   "outputs": [
    {
     "data": {
      "text/html": [
       "<div>\n",
       "<style scoped>\n",
       "    .dataframe tbody tr th:only-of-type {\n",
       "        vertical-align: middle;\n",
       "    }\n",
       "\n",
       "    .dataframe tbody tr th {\n",
       "        vertical-align: top;\n",
       "    }\n",
       "\n",
       "    .dataframe thead th {\n",
       "        text-align: right;\n",
       "    }\n",
       "</style>\n",
       "<table border=\"1\" class=\"dataframe\">\n",
       "  <thead>\n",
       "    <tr style=\"text-align: right;\">\n",
       "      <th></th>\n",
       "      <th>estado</th>\n",
       "      <th>ano</th>\n",
       "      <th>DTOBITO</th>\n",
       "      <th>DTNASC</th>\n",
       "      <th>SEXO</th>\n",
       "      <th>RACACOR</th>\n",
       "      <th>ASSISTMED</th>\n",
       "      <th>ESCMAE</th>\n",
       "      <th>ESTCIV</th>\n",
       "      <th>ESC</th>\n",
       "      <th>OCUP</th>\n",
       "      <th>CODMUNRES</th>\n",
       "      <th>CAUSABAS</th>\n",
       "      <th>CAUSABAS_O</th>\n",
       "      <th>LOCOCOR</th>\n",
       "      <th>CIRURGIA</th>\n",
       "    </tr>\n",
       "  </thead>\n",
       "  <tbody>\n",
       "    <tr>\n",
       "      <th>0</th>\n",
       "      <td>AC</td>\n",
       "      <td>2010</td>\n",
       "      <td>31012010</td>\n",
       "      <td>09111999</td>\n",
       "      <td>Masculino</td>\n",
       "      <td>Parda</td>\n",
       "      <td>NaN</td>\n",
       "      <td>NaN</td>\n",
       "      <td>Solteiro</td>\n",
       "      <td>1 a 3 anos</td>\n",
       "      <td>ESTUDANTE</td>\n",
       "      <td>Tarauacá</td>\n",
       "      <td>X780</td>\n",
       "      <td>X780</td>\n",
       "      <td>Via pública</td>\n",
       "      <td>Não</td>\n",
       "    </tr>\n",
       "    <tr>\n",
       "      <th>1</th>\n",
       "      <td>AC</td>\n",
       "      <td>2010</td>\n",
       "      <td>07022010</td>\n",
       "      <td>23091985</td>\n",
       "      <td>Masculino</td>\n",
       "      <td>Parda</td>\n",
       "      <td>NaN</td>\n",
       "      <td>NaN</td>\n",
       "      <td>Solteiro</td>\n",
       "      <td>1 a 3 anos</td>\n",
       "      <td>ESTUDANTE</td>\n",
       "      <td>Tarauacá</td>\n",
       "      <td>X780</td>\n",
       "      <td>X780</td>\n",
       "      <td>Hospital</td>\n",
       "      <td>Não</td>\n",
       "    </tr>\n",
       "    <tr>\n",
       "      <th>2</th>\n",
       "      <td>AC</td>\n",
       "      <td>2010</td>\n",
       "      <td>19022010</td>\n",
       "      <td>06081995</td>\n",
       "      <td>Masculino</td>\n",
       "      <td>Parda</td>\n",
       "      <td>NaN</td>\n",
       "      <td>NaN</td>\n",
       "      <td>Solteiro</td>\n",
       "      <td>1 a 3 anos</td>\n",
       "      <td>ESTUDANTE</td>\n",
       "      <td>Tarauacá</td>\n",
       "      <td>X780</td>\n",
       "      <td>X780</td>\n",
       "      <td>Hospital</td>\n",
       "      <td>Não</td>\n",
       "    </tr>\n",
       "    <tr>\n",
       "      <th>3</th>\n",
       "      <td>AC</td>\n",
       "      <td>2010</td>\n",
       "      <td>20042010</td>\n",
       "      <td>25121983</td>\n",
       "      <td>Feminino</td>\n",
       "      <td>Parda</td>\n",
       "      <td>NaN</td>\n",
       "      <td>NaN</td>\n",
       "      <td>Casado</td>\n",
       "      <td>1 a 3 anos</td>\n",
       "      <td>DONA DE CASA</td>\n",
       "      <td>Tarauacá</td>\n",
       "      <td>X780</td>\n",
       "      <td>X780</td>\n",
       "      <td>Domicílio</td>\n",
       "      <td>Não</td>\n",
       "    </tr>\n",
       "    <tr>\n",
       "      <th>4</th>\n",
       "      <td>AC</td>\n",
       "      <td>2010</td>\n",
       "      <td>24072010</td>\n",
       "      <td>13051982</td>\n",
       "      <td>Masculino</td>\n",
       "      <td>Parda</td>\n",
       "      <td>NaN</td>\n",
       "      <td>NaN</td>\n",
       "      <td>Casado</td>\n",
       "      <td>NaN</td>\n",
       "      <td>DONA DE CASA</td>\n",
       "      <td>Tarauacá</td>\n",
       "      <td>X720</td>\n",
       "      <td>X720</td>\n",
       "      <td>Domicílio</td>\n",
       "      <td>Não</td>\n",
       "    </tr>\n",
       "    <tr>\n",
       "      <th>5</th>\n",
       "      <td>AC</td>\n",
       "      <td>2010</td>\n",
       "      <td>30042010</td>\n",
       "      <td>13071967</td>\n",
       "      <td>Feminino</td>\n",
       "      <td>Preta</td>\n",
       "      <td>NaN</td>\n",
       "      <td>NaN</td>\n",
       "      <td>Solteiro</td>\n",
       "      <td>4 a 7 anos</td>\n",
       "      <td>DONA DE CASA</td>\n",
       "      <td>Tarauacá</td>\n",
       "      <td>X780</td>\n",
       "      <td>X780</td>\n",
       "      <td>Hospital</td>\n",
       "      <td>Não</td>\n",
       "    </tr>\n",
       "    <tr>\n",
       "      <th>6</th>\n",
       "      <td>AC</td>\n",
       "      <td>2010</td>\n",
       "      <td>15012010</td>\n",
       "      <td>05091979</td>\n",
       "      <td>Masculino</td>\n",
       "      <td>Parda</td>\n",
       "      <td>NaN</td>\n",
       "      <td>NaN</td>\n",
       "      <td>Solteiro</td>\n",
       "      <td>4 a 7 anos</td>\n",
       "      <td>NaN</td>\n",
       "      <td>Rio Branco</td>\n",
       "      <td>X700</td>\n",
       "      <td>X700</td>\n",
       "      <td>Domicílio</td>\n",
       "      <td>Não</td>\n",
       "    </tr>\n",
       "    <tr>\n",
       "      <th>7</th>\n",
       "      <td>AC</td>\n",
       "      <td>2010</td>\n",
       "      <td>16012010</td>\n",
       "      <td>19011994</td>\n",
       "      <td>Masculino</td>\n",
       "      <td>Parda</td>\n",
       "      <td>NaN</td>\n",
       "      <td>NaN</td>\n",
       "      <td>Solteiro</td>\n",
       "      <td>NaN</td>\n",
       "      <td>NaN</td>\n",
       "      <td>Rio Branco</td>\n",
       "      <td>X700</td>\n",
       "      <td>X700</td>\n",
       "      <td>Domicílio</td>\n",
       "      <td>Não</td>\n",
       "    </tr>\n",
       "    <tr>\n",
       "      <th>8</th>\n",
       "      <td>AC</td>\n",
       "      <td>2010</td>\n",
       "      <td>15092010</td>\n",
       "      <td>14041952</td>\n",
       "      <td>Masculino</td>\n",
       "      <td>Parda</td>\n",
       "      <td>NaN</td>\n",
       "      <td>NaN</td>\n",
       "      <td>Solteiro</td>\n",
       "      <td>NaN</td>\n",
       "      <td>NaN</td>\n",
       "      <td>Rio Branco</td>\n",
       "      <td>X629</td>\n",
       "      <td>R99</td>\n",
       "      <td>Domicílio</td>\n",
       "      <td>NaN</td>\n",
       "    </tr>\n",
       "    <tr>\n",
       "      <th>9</th>\n",
       "      <td>AC</td>\n",
       "      <td>2010</td>\n",
       "      <td>03092010</td>\n",
       "      <td>14081968</td>\n",
       "      <td>Masculino</td>\n",
       "      <td>Parda</td>\n",
       "      <td>NaN</td>\n",
       "      <td>NaN</td>\n",
       "      <td>Solteiro</td>\n",
       "      <td>NaN</td>\n",
       "      <td>NaN</td>\n",
       "      <td>Epitaciolândia</td>\n",
       "      <td>X747</td>\n",
       "      <td>X747</td>\n",
       "      <td>Domicílio</td>\n",
       "      <td>Não</td>\n",
       "    </tr>\n",
       "    <tr>\n",
       "      <th>10</th>\n",
       "      <td>AC</td>\n",
       "      <td>2010</td>\n",
       "      <td>05092010</td>\n",
       "      <td>23111971</td>\n",
       "      <td>Masculino</td>\n",
       "      <td>Parda</td>\n",
       "      <td>NaN</td>\n",
       "      <td>NaN</td>\n",
       "      <td>Solteiro</td>\n",
       "      <td>NaN</td>\n",
       "      <td>NaN</td>\n",
       "      <td>Rio Branco</td>\n",
       "      <td>X700</td>\n",
       "      <td>X700</td>\n",
       "      <td>Domicílio</td>\n",
       "      <td>NaN</td>\n",
       "    </tr>\n",
       "    <tr>\n",
       "      <th>11</th>\n",
       "      <td>AC</td>\n",
       "      <td>2010</td>\n",
       "      <td>25082010</td>\n",
       "      <td>15021954</td>\n",
       "      <td>Masculino</td>\n",
       "      <td>NaN</td>\n",
       "      <td>NaN</td>\n",
       "      <td>NaN</td>\n",
       "      <td>NaN</td>\n",
       "      <td>NaN</td>\n",
       "      <td>NaN</td>\n",
       "      <td>Rio Branco</td>\n",
       "      <td>X700</td>\n",
       "      <td>X700</td>\n",
       "      <td>Domicílio</td>\n",
       "      <td>NaN</td>\n",
       "    </tr>\n",
       "    <tr>\n",
       "      <th>12</th>\n",
       "      <td>AC</td>\n",
       "      <td>2010</td>\n",
       "      <td>08102010</td>\n",
       "      <td>25121971</td>\n",
       "      <td>Feminino</td>\n",
       "      <td>NaN</td>\n",
       "      <td>NaN</td>\n",
       "      <td>NaN</td>\n",
       "      <td>Casado</td>\n",
       "      <td>NaN</td>\n",
       "      <td>NaN</td>\n",
       "      <td>Rio Branco</td>\n",
       "      <td>X699</td>\n",
       "      <td>X699</td>\n",
       "      <td>Domicílio</td>\n",
       "      <td>Não</td>\n",
       "    </tr>\n",
       "    <tr>\n",
       "      <th>13</th>\n",
       "      <td>AC</td>\n",
       "      <td>2010</td>\n",
       "      <td>22102010</td>\n",
       "      <td>02501199</td>\n",
       "      <td>Masculino</td>\n",
       "      <td>Parda</td>\n",
       "      <td>NaN</td>\n",
       "      <td>NaN</td>\n",
       "      <td>Solteiro</td>\n",
       "      <td>NaN</td>\n",
       "      <td>NaN</td>\n",
       "      <td>Rio Branco</td>\n",
       "      <td>X709</td>\n",
       "      <td>X709</td>\n",
       "      <td>Domicílio</td>\n",
       "      <td>NaN</td>\n",
       "    </tr>\n",
       "    <tr>\n",
       "      <th>14</th>\n",
       "      <td>AC</td>\n",
       "      <td>2010</td>\n",
       "      <td>18102010</td>\n",
       "      <td>06101984</td>\n",
       "      <td>Masculino</td>\n",
       "      <td>Parda</td>\n",
       "      <td>NaN</td>\n",
       "      <td>NaN</td>\n",
       "      <td>Solteiro</td>\n",
       "      <td>NaN</td>\n",
       "      <td>NaN</td>\n",
       "      <td>Porto Acre</td>\n",
       "      <td>X740</td>\n",
       "      <td>X740</td>\n",
       "      <td>Outros</td>\n",
       "      <td>NaN</td>\n",
       "    </tr>\n",
       "    <tr>\n",
       "      <th>15</th>\n",
       "      <td>AC</td>\n",
       "      <td>2010</td>\n",
       "      <td>25102010</td>\n",
       "      <td>14091995</td>\n",
       "      <td>Masculino</td>\n",
       "      <td>Branca</td>\n",
       "      <td>NaN</td>\n",
       "      <td>NaN</td>\n",
       "      <td>Solteiro</td>\n",
       "      <td>NaN</td>\n",
       "      <td>NaN</td>\n",
       "      <td>Rio Branco</td>\n",
       "      <td>X749</td>\n",
       "      <td>X749</td>\n",
       "      <td>Domicílio</td>\n",
       "      <td>Não</td>\n",
       "    </tr>\n",
       "    <tr>\n",
       "      <th>16</th>\n",
       "      <td>AC</td>\n",
       "      <td>2010</td>\n",
       "      <td>11052010</td>\n",
       "      <td>21121948</td>\n",
       "      <td>Masculino</td>\n",
       "      <td>Branca</td>\n",
       "      <td>NaN</td>\n",
       "      <td>NaN</td>\n",
       "      <td>Solteiro</td>\n",
       "      <td>NaN</td>\n",
       "      <td>APOSENTADO/PENSIONISTA</td>\n",
       "      <td>Rio Branco</td>\n",
       "      <td>X629</td>\n",
       "      <td>R98</td>\n",
       "      <td>Domicílio</td>\n",
       "      <td>NaN</td>\n",
       "    </tr>\n",
       "    <tr>\n",
       "      <th>17</th>\n",
       "      <td>AC</td>\n",
       "      <td>2010</td>\n",
       "      <td>15012010</td>\n",
       "      <td>31121995</td>\n",
       "      <td>Feminino</td>\n",
       "      <td>Amarela</td>\n",
       "      <td>NaN</td>\n",
       "      <td>NaN</td>\n",
       "      <td>Solteiro</td>\n",
       "      <td>NaN</td>\n",
       "      <td>ESTUDANTE</td>\n",
       "      <td>Rio Branco</td>\n",
       "      <td>X689</td>\n",
       "      <td>X689</td>\n",
       "      <td>Hospital</td>\n",
       "      <td>Não</td>\n",
       "    </tr>\n",
       "    <tr>\n",
       "      <th>18</th>\n",
       "      <td>AC</td>\n",
       "      <td>2010</td>\n",
       "      <td>18032010</td>\n",
       "      <td>06071981</td>\n",
       "      <td>Masculino</td>\n",
       "      <td>NaN</td>\n",
       "      <td>NaN</td>\n",
       "      <td>NaN</td>\n",
       "      <td>NaN</td>\n",
       "      <td>NaN</td>\n",
       "      <td>NaN</td>\n",
       "      <td>Rio Branco</td>\n",
       "      <td>X709</td>\n",
       "      <td>X709</td>\n",
       "      <td>Domicílio</td>\n",
       "      <td>NaN</td>\n",
       "    </tr>\n",
       "    <tr>\n",
       "      <th>19</th>\n",
       "      <td>AC</td>\n",
       "      <td>2010</td>\n",
       "      <td>19032010</td>\n",
       "      <td>06081987</td>\n",
       "      <td>Masculino</td>\n",
       "      <td>Parda</td>\n",
       "      <td>NaN</td>\n",
       "      <td>NaN</td>\n",
       "      <td>Solteiro</td>\n",
       "      <td>8 a 11 anos</td>\n",
       "      <td>ESTUDANTE</td>\n",
       "      <td>Rio Branco</td>\n",
       "      <td>X700</td>\n",
       "      <td>X700</td>\n",
       "      <td>Domicílio</td>\n",
       "      <td>Não</td>\n",
       "    </tr>\n",
       "  </tbody>\n",
       "</table>\n",
       "</div>"
      ],
      "text/plain": [
       "   estado   ano   DTOBITO    DTNASC       SEXO  RACACOR ASSISTMED ESCMAE  \\\n",
       "0      AC  2010  31012010  09111999  Masculino    Parda       NaN    NaN   \n",
       "1      AC  2010  07022010  23091985  Masculino    Parda       NaN    NaN   \n",
       "2      AC  2010  19022010  06081995  Masculino    Parda       NaN    NaN   \n",
       "3      AC  2010  20042010  25121983   Feminino    Parda       NaN    NaN   \n",
       "4      AC  2010  24072010  13051982  Masculino    Parda       NaN    NaN   \n",
       "5      AC  2010  30042010  13071967   Feminino    Preta       NaN    NaN   \n",
       "6      AC  2010  15012010  05091979  Masculino    Parda       NaN    NaN   \n",
       "7      AC  2010  16012010  19011994  Masculino    Parda       NaN    NaN   \n",
       "8      AC  2010  15092010  14041952  Masculino    Parda       NaN    NaN   \n",
       "9      AC  2010  03092010  14081968  Masculino    Parda       NaN    NaN   \n",
       "10     AC  2010  05092010  23111971  Masculino    Parda       NaN    NaN   \n",
       "11     AC  2010  25082010  15021954  Masculino      NaN       NaN    NaN   \n",
       "12     AC  2010  08102010  25121971   Feminino      NaN       NaN    NaN   \n",
       "13     AC  2010  22102010  02501199  Masculino    Parda       NaN    NaN   \n",
       "14     AC  2010  18102010  06101984  Masculino    Parda       NaN    NaN   \n",
       "15     AC  2010  25102010  14091995  Masculino   Branca       NaN    NaN   \n",
       "16     AC  2010  11052010  21121948  Masculino   Branca       NaN    NaN   \n",
       "17     AC  2010  15012010  31121995   Feminino  Amarela       NaN    NaN   \n",
       "18     AC  2010  18032010  06071981  Masculino      NaN       NaN    NaN   \n",
       "19     AC  2010  19032010  06081987  Masculino    Parda       NaN    NaN   \n",
       "\n",
       "      ESTCIV          ESC                    OCUP       CODMUNRES CAUSABAS  \\\n",
       "0   Solteiro   1 a 3 anos               ESTUDANTE        Tarauacá     X780   \n",
       "1   Solteiro   1 a 3 anos               ESTUDANTE        Tarauacá     X780   \n",
       "2   Solteiro   1 a 3 anos               ESTUDANTE        Tarauacá     X780   \n",
       "3     Casado   1 a 3 anos            DONA DE CASA        Tarauacá     X780   \n",
       "4     Casado          NaN            DONA DE CASA        Tarauacá     X720   \n",
       "5   Solteiro   4 a 7 anos            DONA DE CASA        Tarauacá     X780   \n",
       "6   Solteiro   4 a 7 anos                     NaN      Rio Branco     X700   \n",
       "7   Solteiro          NaN                     NaN      Rio Branco     X700   \n",
       "8   Solteiro          NaN                     NaN      Rio Branco     X629   \n",
       "9   Solteiro          NaN                     NaN  Epitaciolândia     X747   \n",
       "10  Solteiro          NaN                     NaN      Rio Branco     X700   \n",
       "11       NaN          NaN                     NaN      Rio Branco     X700   \n",
       "12    Casado          NaN                     NaN      Rio Branco     X699   \n",
       "13  Solteiro          NaN                     NaN      Rio Branco     X709   \n",
       "14  Solteiro          NaN                     NaN      Porto Acre     X740   \n",
       "15  Solteiro          NaN                     NaN      Rio Branco     X749   \n",
       "16  Solteiro          NaN  APOSENTADO/PENSIONISTA      Rio Branco     X629   \n",
       "17  Solteiro          NaN               ESTUDANTE      Rio Branco     X689   \n",
       "18       NaN          NaN                     NaN      Rio Branco     X709   \n",
       "19  Solteiro  8 a 11 anos               ESTUDANTE      Rio Branco     X700   \n",
       "\n",
       "   CAUSABAS_O      LOCOCOR CIRURGIA  \n",
       "0        X780  Via pública      Não  \n",
       "1        X780     Hospital      Não  \n",
       "2        X780     Hospital      Não  \n",
       "3        X780    Domicílio      Não  \n",
       "4        X720    Domicílio      Não  \n",
       "5        X780     Hospital      Não  \n",
       "6        X700    Domicílio      Não  \n",
       "7        X700    Domicílio      Não  \n",
       "8         R99    Domicílio      NaN  \n",
       "9        X747    Domicílio      Não  \n",
       "10       X700    Domicílio      NaN  \n",
       "11       X700    Domicílio      NaN  \n",
       "12       X699    Domicílio      Não  \n",
       "13       X709    Domicílio      NaN  \n",
       "14       X740       Outros      NaN  \n",
       "15       X749    Domicílio      Não  \n",
       "16        R98    Domicílio      NaN  \n",
       "17       X689     Hospital      Não  \n",
       "18       X709    Domicílio      NaN  \n",
       "19       X700    Domicílio      Não  "
      ]
     },
     "execution_count": 14,
     "metadata": {},
     "output_type": "execute_result"
    }
   ],
   "source": [
    "df.head(n = 20)"
   ]
  },
  {
   "cell_type": "code",
   "execution_count": 16,
   "metadata": {},
   "outputs": [],
   "source": [
    "df.to_csv('df_2.csv')"
   ]
  },
  {
   "cell_type": "code",
   "execution_count": null,
   "metadata": {},
   "outputs": [],
   "source": []
  }
 ],
 "metadata": {
  "colab": {
   "name": "baixando_pysus_2010_2019.ipynb",
   "provenance": []
  },
  "kernelspec": {
   "display_name": "Python 3",
   "language": "python",
   "name": "python3"
  },
  "language_info": {
   "codemirror_mode": {
    "name": "ipython",
    "version": 3
   },
   "file_extension": ".py",
   "mimetype": "text/x-python",
   "name": "python",
   "nbconvert_exporter": "python",
   "pygments_lexer": "ipython3",
   "version": "3.9.1"
  }
 },
 "nbformat": 4,
 "nbformat_minor": 1
}
